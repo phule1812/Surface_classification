{
 "cells": [
  {
   "cell_type": "code",
   "execution_count": 1,
   "id": "1bc21d5b",
   "metadata": {},
   "outputs": [],
   "source": [
    "import numpy as np\n",
    "import pandas as pd\n",
    "import matplotlib.pyplot as plt\n",
    "import seaborn as sns\n",
    "import warnings\n",
    "warnings.filterwarnings('ignore')\n",
    "import tensorflow as tf\n",
    "import keras\n",
    "import optuna"
   ]
  },
  {
   "cell_type": "code",
   "execution_count": 2,
   "id": "9b5f2218",
   "metadata": {},
   "outputs": [],
   "source": [
    "custom_palette = [\"gray\", \"green\", \"antiquewhite\"]\n",
    "sns.set_palette('Set2')\n",
    "sns.set_style(\"darkgrid\")"
   ]
  },
  {
   "cell_type": "code",
   "execution_count": 3,
   "id": "3789910d",
   "metadata": {},
   "outputs": [],
   "source": [
    "url_gray = \"https://raw.githubusercontent.com/phule1812/surface_classification/refs/heads/main/dataset/gray_surface.csv\"\n",
    "url_green = \"https://raw.githubusercontent.com/phule1812/surface_classification/refs/heads/main/dataset/green_surface.csv\"\n",
    "url_table = \"https://raw.githubusercontent.com/phule1812/surface_classification/refs/heads/main/dataset/table_surface.csv\""
   ]
  },
  {
   "cell_type": "code",
   "execution_count": 4,
   "id": "55a95b01",
   "metadata": {},
   "outputs": [],
   "source": [
    "df_gray = pd.read_csv(url_gray, sep = \";\").drop(columns = ['Unnamed: 43'])\n",
    "df_green = pd.read_csv(url_green, sep = ';').drop(columns = ['Unnamed: 43'])\n",
    "df_table = pd.read_csv(url_table, sep = ';').drop(columns = ['Unnamed: 43'])\n",
    "\n",
    "df_gray.columns = df_gray.iloc[1]\n",
    "df_green.columns = df_green.iloc[1]\n",
    "df_table.columns = df_table.iloc[1]\n",
    "\n",
    "df_gray = df_gray.iloc[2:]\n",
    "df_green = df_green.iloc[2:]\n",
    "df_table = df_table.iloc[2:]"
   ]
  },
  {
   "cell_type": "code",
   "execution_count": 5,
   "id": "baae9f5f",
   "metadata": {},
   "outputs": [
    {
     "name": "stdout",
     "output_type": "stream",
     "text": [
      "<class 'pandas.core.frame.DataFrame'>\n",
      "RangeIndex: 21558 entries, 2 to 21559\n",
      "Data columns (total 43 columns):\n",
      " #   Column     Non-Null Count  Dtype \n",
      "---  ------     --------------  ----- \n",
      " 0   movedir    21558 non-null  object\n",
      " 1   xsetspeed  21558 non-null  object\n",
      " 2   ysetspeed  21558 non-null  object\n",
      " 3   setvel     21558 non-null  object\n",
      " 4   m1setvel   21558 non-null  object\n",
      " 5   m2setvel   21558 non-null  object\n",
      " 6   m3setvel   21558 non-null  object\n",
      " 7   m1pos      21558 non-null  object\n",
      " 8   m2pos      21558 non-null  object\n",
      " 9   m3pos      21558 non-null  object\n",
      " 10  m1vel      21558 non-null  object\n",
      " 11  m2vel      21558 non-null  object\n",
      " 12  m3vel      21558 non-null  object\n",
      " 13  m1cur      21558 non-null  object\n",
      " 14  m2cur      21558 non-null  object\n",
      " 15  m3cur      21558 non-null  object\n",
      " 16  xcur       21558 non-null  object\n",
      " 17  ycur       21558 non-null  object\n",
      " 18  rotcur     21558 non-null  object\n",
      " 19  xpos       21558 non-null  object\n",
      " 20  ypos       21558 non-null  object\n",
      " 21  ang        21558 non-null  object\n",
      " 22  dx         21558 non-null  object\n",
      " 23  dy         21558 non-null  object\n",
      " 24  dang       21558 non-null  object\n",
      " 25  vx         21558 non-null  object\n",
      " 26  vy         21558 non-null  object\n",
      " 27  omega      21558 non-null  object\n",
      " 28  w1vel      21558 non-null  object\n",
      " 29  w1effvel   21558 non-null  object\n",
      " 30  w1slip     21558 non-null  object\n",
      " 31  m1vol      21558 non-null  object\n",
      " 32  m1tor      19637 non-null  object\n",
      " 33  w2vel      21558 non-null  object\n",
      " 34  w2effvel   21558 non-null  object\n",
      " 35  w2slip     21558 non-null  object\n",
      " 36  m2vol      21558 non-null  object\n",
      " 37  m2tor      19344 non-null  object\n",
      " 38  w3vel      21558 non-null  object\n",
      " 39  w3effvel   21558 non-null  object\n",
      " 40  w3slip     21558 non-null  object\n",
      " 41  m3vol      21558 non-null  object\n",
      " 42  m3tor      19756 non-null  object\n",
      "dtypes: object(43)\n",
      "memory usage: 7.1+ MB\n"
     ]
    }
   ],
   "source": [
    "df_gray.info()"
   ]
  },
  {
   "cell_type": "code",
   "execution_count": 6,
   "id": "3d488b97",
   "metadata": {},
   "outputs": [],
   "source": [
    "def count_nan(df):\n",
    "    for column in df.columns:\n",
    "        numbers_nan_column = df[column].isna().sum()\n",
    "        if numbers_nan_column > 0:\n",
    "            print(f'Number of NaN in column {column}: {numbers_nan_column}')\n",
    "            print(f'Ratio  of Nan in columns {column}: {round(numbers_nan_column/df.shape[0]*100, 2)}%')"
   ]
  },
  {
   "cell_type": "code",
   "execution_count": 7,
   "id": "f3484f86",
   "metadata": {},
   "outputs": [
    {
     "name": "stdout",
     "output_type": "stream",
     "text": [
      "Number of NaN in column m1tor: 1921\n",
      "Ratio  of Nan in columns m1tor: 8.91%\n",
      "Number of NaN in column m2tor: 2214\n",
      "Ratio  of Nan in columns m2tor: 10.27%\n",
      "Number of NaN in column m3tor: 1802\n",
      "Ratio  of Nan in columns m3tor: 8.36%\n"
     ]
    }
   ],
   "source": [
    "count_nan(df_gray)"
   ]
  },
  {
   "cell_type": "code",
   "execution_count": 8,
   "id": "6c6a7d31",
   "metadata": {},
   "outputs": [
    {
     "name": "stdout",
     "output_type": "stream",
     "text": [
      "Number of NaN in column m1tor: 2332\n",
      "Ratio  of Nan in columns m1tor: 9.17%\n",
      "Number of NaN in column m2tor: 2036\n",
      "Ratio  of Nan in columns m2tor: 8.0%\n",
      "Number of NaN in column m3tor: 2394\n",
      "Ratio  of Nan in columns m3tor: 9.41%\n"
     ]
    }
   ],
   "source": [
    "count_nan(df_green)"
   ]
  },
  {
   "cell_type": "code",
   "execution_count": 9,
   "id": "c2a648ae",
   "metadata": {},
   "outputs": [
    {
     "name": "stdout",
     "output_type": "stream",
     "text": [
      "Number of NaN in column m1tor: 439\n",
      "Ratio  of Nan in columns m1tor: 5.77%\n",
      "Number of NaN in column m2tor: 617\n",
      "Ratio  of Nan in columns m2tor: 8.11%\n",
      "Number of NaN in column m3tor: 805\n",
      "Ratio  of Nan in columns m3tor: 10.59%\n"
     ]
    }
   ],
   "source": [
    "count_nan(df_table)"
   ]
  },
  {
   "cell_type": "code",
   "execution_count": 10,
   "id": "6355b5e0",
   "metadata": {},
   "outputs": [],
   "source": [
    "def fill_nan(df):\n",
    "    # Get only float value\n",
    "    df = df.astype(\"float\")\n",
    "    for column in df.columns:\n",
    "        df[column].fillna(df[column].mean(), inplace = True)\n",
    "    return df"
   ]
  },
  {
   "cell_type": "code",
   "execution_count": 11,
   "id": "0b0446a8",
   "metadata": {},
   "outputs": [],
   "source": [
    "df_gray = fill_nan(df_gray)\n",
    "df_green = fill_nan(df_green)\n",
    "df_table = fill_nan(df_table)\n",
    "\n",
    "df_gray['color'] = \"gray\"\n",
    "df_green['color'] = \"green\"\n",
    "df_table['color'] = \"table\""
   ]
  },
  {
   "cell_type": "code",
   "execution_count": 12,
   "id": "fac5d1e3",
   "metadata": {},
   "outputs": [
    {
     "data": {
      "text/html": [
       "<div>\n",
       "<style scoped>\n",
       "    .dataframe tbody tr th:only-of-type {\n",
       "        vertical-align: middle;\n",
       "    }\n",
       "\n",
       "    .dataframe tbody tr th {\n",
       "        vertical-align: top;\n",
       "    }\n",
       "\n",
       "    .dataframe thead th {\n",
       "        text-align: right;\n",
       "    }\n",
       "</style>\n",
       "<table border=\"1\" class=\"dataframe\">\n",
       "  <thead>\n",
       "    <tr style=\"text-align: right;\">\n",
       "      <th>1</th>\n",
       "      <th>movedir</th>\n",
       "      <th>xsetspeed</th>\n",
       "      <th>ysetspeed</th>\n",
       "      <th>setvel</th>\n",
       "      <th>m1setvel</th>\n",
       "      <th>m2setvel</th>\n",
       "      <th>m3setvel</th>\n",
       "      <th>m1pos</th>\n",
       "      <th>m2pos</th>\n",
       "      <th>m3pos</th>\n",
       "      <th>...</th>\n",
       "      <th>w2effvel</th>\n",
       "      <th>w2slip</th>\n",
       "      <th>m2vol</th>\n",
       "      <th>m2tor</th>\n",
       "      <th>w3vel</th>\n",
       "      <th>w3effvel</th>\n",
       "      <th>w3slip</th>\n",
       "      <th>m3vol</th>\n",
       "      <th>m3tor</th>\n",
       "      <th>color</th>\n",
       "    </tr>\n",
       "  </thead>\n",
       "  <tbody>\n",
       "    <tr>\n",
       "      <th>0</th>\n",
       "      <td>0.0</td>\n",
       "      <td>0.1</td>\n",
       "      <td>0.0</td>\n",
       "      <td>0.0</td>\n",
       "      <td>-34.641</td>\n",
       "      <td>0.0</td>\n",
       "      <td>34.641</td>\n",
       "      <td>-1035.0</td>\n",
       "      <td>18.0</td>\n",
       "      <td>1039.0</td>\n",
       "      <td>...</td>\n",
       "      <td>0.0</td>\n",
       "      <td>0.0</td>\n",
       "      <td>0.000000</td>\n",
       "      <td>0.001593</td>\n",
       "      <td>1.590431</td>\n",
       "      <td>0.009376</td>\n",
       "      <td>0.994105</td>\n",
       "      <td>7.568766</td>\n",
       "      <td>0.350820</td>\n",
       "      <td>gray</td>\n",
       "    </tr>\n",
       "    <tr>\n",
       "      <th>1</th>\n",
       "      <td>0.0</td>\n",
       "      <td>0.1</td>\n",
       "      <td>0.0</td>\n",
       "      <td>0.0</td>\n",
       "      <td>-34.641</td>\n",
       "      <td>0.0</td>\n",
       "      <td>34.641</td>\n",
       "      <td>-1185.0</td>\n",
       "      <td>19.0</td>\n",
       "      <td>1178.0</td>\n",
       "      <td>...</td>\n",
       "      <td>0.0</td>\n",
       "      <td>0.0</td>\n",
       "      <td>-0.415301</td>\n",
       "      <td>-0.007532</td>\n",
       "      <td>1.590431</td>\n",
       "      <td>0.683054</td>\n",
       "      <td>0.570523</td>\n",
       "      <td>8.526490</td>\n",
       "      <td>0.455350</td>\n",
       "      <td>gray</td>\n",
       "    </tr>\n",
       "    <tr>\n",
       "      <th>2</th>\n",
       "      <td>0.0</td>\n",
       "      <td>0.1</td>\n",
       "      <td>0.0</td>\n",
       "      <td>0.0</td>\n",
       "      <td>-34.641</td>\n",
       "      <td>0.0</td>\n",
       "      <td>34.641</td>\n",
       "      <td>-1470.0</td>\n",
       "      <td>22.0</td>\n",
       "      <td>1458.0</td>\n",
       "      <td>...</td>\n",
       "      <td>0.0</td>\n",
       "      <td>0.0</td>\n",
       "      <td>0.000000</td>\n",
       "      <td>0.001593</td>\n",
       "      <td>1.590431</td>\n",
       "      <td>0.670479</td>\n",
       "      <td>0.578429</td>\n",
       "      <td>10.031590</td>\n",
       "      <td>0.646921</td>\n",
       "      <td>gray</td>\n",
       "    </tr>\n",
       "    <tr>\n",
       "      <th>3</th>\n",
       "      <td>0.0</td>\n",
       "      <td>0.1</td>\n",
       "      <td>0.0</td>\n",
       "      <td>0.0</td>\n",
       "      <td>-34.641</td>\n",
       "      <td>0.0</td>\n",
       "      <td>34.641</td>\n",
       "      <td>-1745.0</td>\n",
       "      <td>24.0</td>\n",
       "      <td>1733.0</td>\n",
       "      <td>...</td>\n",
       "      <td>0.0</td>\n",
       "      <td>0.0</td>\n",
       "      <td>0.000000</td>\n",
       "      <td>0.001593</td>\n",
       "      <td>1.413719</td>\n",
       "      <td>0.020060</td>\n",
       "      <td>0.985811</td>\n",
       "      <td>10.847660</td>\n",
       "      <td>0.873064</td>\n",
       "      <td>gray</td>\n",
       "    </tr>\n",
       "    <tr>\n",
       "      <th>4</th>\n",
       "      <td>0.0</td>\n",
       "      <td>0.1</td>\n",
       "      <td>0.0</td>\n",
       "      <td>0.0</td>\n",
       "      <td>-34.641</td>\n",
       "      <td>0.0</td>\n",
       "      <td>34.641</td>\n",
       "      <td>-1894.0</td>\n",
       "      <td>24.0</td>\n",
       "      <td>1866.0</td>\n",
       "      <td>...</td>\n",
       "      <td>0.0</td>\n",
       "      <td>0.0</td>\n",
       "      <td>0.000000</td>\n",
       "      <td>0.001593</td>\n",
       "      <td>1.413719</td>\n",
       "      <td>0.687064</td>\n",
       "      <td>0.514003</td>\n",
       "      <td>8.248019</td>\n",
       "      <td>0.486188</td>\n",
       "      <td>gray</td>\n",
       "    </tr>\n",
       "  </tbody>\n",
       "</table>\n",
       "<p>5 rows × 44 columns</p>\n",
       "</div>"
      ],
      "text/plain": [
       "1  movedir  xsetspeed  ysetspeed  setvel  m1setvel  m2setvel  m3setvel  \\\n",
       "0      0.0        0.1        0.0     0.0   -34.641       0.0    34.641   \n",
       "1      0.0        0.1        0.0     0.0   -34.641       0.0    34.641   \n",
       "2      0.0        0.1        0.0     0.0   -34.641       0.0    34.641   \n",
       "3      0.0        0.1        0.0     0.0   -34.641       0.0    34.641   \n",
       "4      0.0        0.1        0.0     0.0   -34.641       0.0    34.641   \n",
       "\n",
       "1   m1pos  m2pos   m3pos  ...  w2effvel  w2slip     m2vol     m2tor     w3vel  \\\n",
       "0 -1035.0   18.0  1039.0  ...       0.0     0.0  0.000000  0.001593  1.590431   \n",
       "1 -1185.0   19.0  1178.0  ...       0.0     0.0 -0.415301 -0.007532  1.590431   \n",
       "2 -1470.0   22.0  1458.0  ...       0.0     0.0  0.000000  0.001593  1.590431   \n",
       "3 -1745.0   24.0  1733.0  ...       0.0     0.0  0.000000  0.001593  1.413719   \n",
       "4 -1894.0   24.0  1866.0  ...       0.0     0.0  0.000000  0.001593  1.413719   \n",
       "\n",
       "1  w3effvel    w3slip      m3vol     m3tor  color  \n",
       "0  0.009376  0.994105   7.568766  0.350820   gray  \n",
       "1  0.683054  0.570523   8.526490  0.455350   gray  \n",
       "2  0.670479  0.578429  10.031590  0.646921   gray  \n",
       "3  0.020060  0.985811  10.847660  0.873064   gray  \n",
       "4  0.687064  0.514003   8.248019  0.486188   gray  \n",
       "\n",
       "[5 rows x 44 columns]"
      ]
     },
     "execution_count": 12,
     "metadata": {},
     "output_type": "execute_result"
    }
   ],
   "source": [
    "df = pd.concat([df_gray, df_green, df_table], ignore_index = True)\n",
    "df.head()"
   ]
  },
  {
   "cell_type": "code",
   "execution_count": 13,
   "id": "dffcb882",
   "metadata": {},
   "outputs": [
    {
     "name": "stdout",
     "output_type": "stream",
     "text": [
      "<class 'pandas.core.frame.DataFrame'>\n",
      "RangeIndex: 54597 entries, 0 to 54596\n",
      "Data columns (total 44 columns):\n",
      " #   Column     Non-Null Count  Dtype  \n",
      "---  ------     --------------  -----  \n",
      " 0   movedir    54597 non-null  float64\n",
      " 1   xsetspeed  54597 non-null  float64\n",
      " 2   ysetspeed  54597 non-null  float64\n",
      " 3   setvel     54597 non-null  float64\n",
      " 4   m1setvel   54597 non-null  float64\n",
      " 5   m2setvel   54597 non-null  float64\n",
      " 6   m3setvel   54597 non-null  float64\n",
      " 7   m1pos      54597 non-null  float64\n",
      " 8   m2pos      54597 non-null  float64\n",
      " 9   m3pos      54597 non-null  float64\n",
      " 10  m1vel      54597 non-null  float64\n",
      " 11  m2vel      54597 non-null  float64\n",
      " 12  m3vel      54597 non-null  float64\n",
      " 13  m1cur      54597 non-null  float64\n",
      " 14  m2cur      54597 non-null  float64\n",
      " 15  m3cur      54597 non-null  float64\n",
      " 16  xcur       54597 non-null  float64\n",
      " 17  ycur       54597 non-null  float64\n",
      " 18  rotcur     54597 non-null  float64\n",
      " 19  xpos       54597 non-null  float64\n",
      " 20  ypos       54597 non-null  float64\n",
      " 21  ang        54597 non-null  float64\n",
      " 22  dx         54597 non-null  float64\n",
      " 23  dy         54597 non-null  float64\n",
      " 24  dang       54597 non-null  float64\n",
      " 25  vx         54597 non-null  float64\n",
      " 26  vy         54597 non-null  float64\n",
      " 27  omega      54597 non-null  float64\n",
      " 28  w1vel      54597 non-null  float64\n",
      " 29  w1effvel   54597 non-null  float64\n",
      " 30  w1slip     54597 non-null  float64\n",
      " 31  m1vol      54597 non-null  float64\n",
      " 32  m1tor      54597 non-null  float64\n",
      " 33  w2vel      54597 non-null  float64\n",
      " 34  w2effvel   54597 non-null  float64\n",
      " 35  w2slip     54597 non-null  float64\n",
      " 36  m2vol      54597 non-null  float64\n",
      " 37  m2tor      54597 non-null  float64\n",
      " 38  w3vel      54597 non-null  float64\n",
      " 39  w3effvel   54597 non-null  float64\n",
      " 40  w3slip     54597 non-null  float64\n",
      " 41  m3vol      54597 non-null  float64\n",
      " 42  m3tor      54597 non-null  float64\n",
      " 43  color      54597 non-null  object \n",
      "dtypes: float64(43), object(1)\n",
      "memory usage: 18.3+ MB\n"
     ]
    }
   ],
   "source": [
    "df.info()"
   ]
  },
  {
   "cell_type": "code",
   "execution_count": 14,
   "id": "e67bdc28",
   "metadata": {
    "scrolled": false
   },
   "outputs": [
    {
     "data": {
      "text/html": [
       "<div>\n",
       "<style scoped>\n",
       "    .dataframe tbody tr th:only-of-type {\n",
       "        vertical-align: middle;\n",
       "    }\n",
       "\n",
       "    .dataframe tbody tr th {\n",
       "        vertical-align: top;\n",
       "    }\n",
       "\n",
       "    .dataframe thead th {\n",
       "        text-align: right;\n",
       "    }\n",
       "</style>\n",
       "<table border=\"1\" class=\"dataframe\">\n",
       "  <thead>\n",
       "    <tr style=\"text-align: right;\">\n",
       "      <th>1</th>\n",
       "      <th>xsetspeed</th>\n",
       "      <th>ysetspeed</th>\n",
       "      <th>setvel</th>\n",
       "      <th>m1setvel</th>\n",
       "      <th>m2setvel</th>\n",
       "      <th>m3setvel</th>\n",
       "    </tr>\n",
       "  </thead>\n",
       "  <tbody>\n",
       "    <tr>\n",
       "      <th>0</th>\n",
       "      <td>0.100000</td>\n",
       "      <td>0.000000</td>\n",
       "      <td>0.0</td>\n",
       "      <td>-34.6410</td>\n",
       "      <td>0.00000</td>\n",
       "      <td>34.6410</td>\n",
       "    </tr>\n",
       "    <tr>\n",
       "      <th>1</th>\n",
       "      <td>0.100000</td>\n",
       "      <td>0.000000</td>\n",
       "      <td>0.0</td>\n",
       "      <td>-34.6410</td>\n",
       "      <td>0.00000</td>\n",
       "      <td>34.6410</td>\n",
       "    </tr>\n",
       "    <tr>\n",
       "      <th>2</th>\n",
       "      <td>0.100000</td>\n",
       "      <td>0.000000</td>\n",
       "      <td>0.0</td>\n",
       "      <td>-34.6410</td>\n",
       "      <td>0.00000</td>\n",
       "      <td>34.6410</td>\n",
       "    </tr>\n",
       "    <tr>\n",
       "      <th>3</th>\n",
       "      <td>0.100000</td>\n",
       "      <td>0.000000</td>\n",
       "      <td>0.0</td>\n",
       "      <td>-34.6410</td>\n",
       "      <td>0.00000</td>\n",
       "      <td>34.6410</td>\n",
       "    </tr>\n",
       "    <tr>\n",
       "      <th>4</th>\n",
       "      <td>0.100000</td>\n",
       "      <td>0.000000</td>\n",
       "      <td>0.0</td>\n",
       "      <td>-34.6410</td>\n",
       "      <td>0.00000</td>\n",
       "      <td>34.6410</td>\n",
       "    </tr>\n",
       "    <tr>\n",
       "      <th>...</th>\n",
       "      <td>...</td>\n",
       "      <td>...</td>\n",
       "      <td>...</td>\n",
       "      <td>...</td>\n",
       "      <td>...</td>\n",
       "      <td>...</td>\n",
       "    </tr>\n",
       "    <tr>\n",
       "      <th>54592</th>\n",
       "      <td>0.099619</td>\n",
       "      <td>-0.008716</td>\n",
       "      <td>0.0</td>\n",
       "      <td>-36.2523</td>\n",
       "      <td>3.48624</td>\n",
       "      <td>32.7661</td>\n",
       "    </tr>\n",
       "    <tr>\n",
       "      <th>54593</th>\n",
       "      <td>0.099619</td>\n",
       "      <td>-0.008716</td>\n",
       "      <td>0.0</td>\n",
       "      <td>-36.2523</td>\n",
       "      <td>3.48624</td>\n",
       "      <td>32.7661</td>\n",
       "    </tr>\n",
       "    <tr>\n",
       "      <th>54594</th>\n",
       "      <td>0.099619</td>\n",
       "      <td>-0.008716</td>\n",
       "      <td>0.0</td>\n",
       "      <td>-36.2523</td>\n",
       "      <td>3.48624</td>\n",
       "      <td>32.7661</td>\n",
       "    </tr>\n",
       "    <tr>\n",
       "      <th>54595</th>\n",
       "      <td>0.099619</td>\n",
       "      <td>-0.008716</td>\n",
       "      <td>0.0</td>\n",
       "      <td>-36.2523</td>\n",
       "      <td>3.48624</td>\n",
       "      <td>32.7661</td>\n",
       "    </tr>\n",
       "    <tr>\n",
       "      <th>54596</th>\n",
       "      <td>0.099619</td>\n",
       "      <td>-0.008716</td>\n",
       "      <td>0.0</td>\n",
       "      <td>-36.2523</td>\n",
       "      <td>3.48624</td>\n",
       "      <td>32.7661</td>\n",
       "    </tr>\n",
       "  </tbody>\n",
       "</table>\n",
       "<p>54597 rows × 6 columns</p>\n",
       "</div>"
      ],
      "text/plain": [
       "1      xsetspeed  ysetspeed  setvel  m1setvel  m2setvel  m3setvel\n",
       "0       0.100000   0.000000     0.0  -34.6410   0.00000   34.6410\n",
       "1       0.100000   0.000000     0.0  -34.6410   0.00000   34.6410\n",
       "2       0.100000   0.000000     0.0  -34.6410   0.00000   34.6410\n",
       "3       0.100000   0.000000     0.0  -34.6410   0.00000   34.6410\n",
       "4       0.100000   0.000000     0.0  -34.6410   0.00000   34.6410\n",
       "...          ...        ...     ...       ...       ...       ...\n",
       "54592   0.099619  -0.008716     0.0  -36.2523   3.48624   32.7661\n",
       "54593   0.099619  -0.008716     0.0  -36.2523   3.48624   32.7661\n",
       "54594   0.099619  -0.008716     0.0  -36.2523   3.48624   32.7661\n",
       "54595   0.099619  -0.008716     0.0  -36.2523   3.48624   32.7661\n",
       "54596   0.099619  -0.008716     0.0  -36.2523   3.48624   32.7661\n",
       "\n",
       "[54597 rows x 6 columns]"
      ]
     },
     "execution_count": 14,
     "metadata": {},
     "output_type": "execute_result"
    }
   ],
   "source": [
    "df.filter(like = 'set')"
   ]
  },
  {
   "cell_type": "code",
   "execution_count": 15,
   "id": "6dac3cbf",
   "metadata": {},
   "outputs": [],
   "source": [
    "from sklearn.preprocessing import LabelEncoder\n",
    "\n",
    "output_encoder = LabelEncoder()\n",
    "df['color_labels'] = output_encoder.fit_transform(df[[\"color\"]])"
   ]
  },
  {
   "cell_type": "code",
   "execution_count": 16,
   "id": "e162763f",
   "metadata": {},
   "outputs": [],
   "source": [
    "df.drop(columns = [\"color\"], inplace = True)"
   ]
  },
  {
   "cell_type": "code",
   "execution_count": 17,
   "id": "77c6f704",
   "metadata": {},
   "outputs": [
    {
     "data": {
      "image/png": "[encoded data removed]",
      "text/plain": [
       "<Figure size 1500x300 with 1 Axes>"
      ]
     },
     "metadata": {},
     "output_type": "display_data"
    }
   ],
   "source": [
    "correlation_matrix = df.corr()\n",
    "correlation_matrix[['m1cur', 'm2cur', 'm3cur']].drop(['m1cur', 'm2cur', 'm3cur']).abs().sort_values(by = \"m1cur\", ascending = False).plot.bar(figsize = (15, 3))\n",
    "plt.show()"
   ]
  },
  {
   "cell_type": "code",
   "execution_count": 18,
   "id": "88076d7a",
   "metadata": {},
   "outputs": [],
   "source": [
    "df.drop(columns = ['omega', 'setvel', 'm1setvel',\n",
    "                   'xcur', 'm1vol', 'm2vel',\n",
    "                   'xsetspeed', 'm1vel', 'w1vel',\n",
    "                   'm2tor', 'ycur', 'w1effvel',\n",
    "                   'dx', 'dang', 'vx',\n",
    "                   'm3vol', 'm3setvel', 'm1tor', \n",
    "                   'w3vel', 'm3vel', 'm2setvel', \n",
    "                   'ysetspeed', 'm1pos', 'm3tor', \n",
    "                   'w2vel', 'm2vel', 'm3pos', 'w3effvel'], inplace = True)"
   ]
  },
  {
   "cell_type": "code",
   "execution_count": 19,
   "id": "9cd9bb37",
   "metadata": {},
   "outputs": [
    {
     "data": {
      "image/png": "[encoded data removed]",
      "text/plain": [
       "<Figure size 1500x300 with 1 Axes>"
      ]
     },
     "metadata": {},
     "output_type": "display_data"
    }
   ],
   "source": [
    "correlation_matrix = df.corr()\n",
    "correlation_matrix[['m1cur', 'm2cur', 'm3cur']].drop(['m1cur', 'm2cur', 'm3cur']).abs().sort_values(by = \"m1cur\", ascending = False).plot.bar(figsize = (15, 3))\n",
    "plt.show()"
   ]
  },
  {
   "cell_type": "code",
   "execution_count": 20,
   "id": "7ea06ec4",
   "metadata": {},
   "outputs": [],
   "source": [
    "corr_matrix = df.corr().abs()"
   ]
  },
  {
   "cell_type": "code",
   "execution_count": 21,
   "id": "1cb01e7b",
   "metadata": {},
   "outputs": [
    {
     "data": {
      "image/png": "[encoded data removed]",
      "text/plain": [
       "<Figure size 1000x900 with 2 Axes>"
      ]
     },
     "metadata": {},
     "output_type": "display_data"
    }
   ],
   "source": [
    "plt.figure(figsize=(10, 9))\n",
    "sns.heatmap(corr_matrix, vmin= 0, vmax=1, center=0)\n",
    "plt.title('Correlation Matrix')\n",
    "plt.show()"
   ]
  },
  {
   "cell_type": "markdown",
   "id": "70a99a68",
   "metadata": {},
   "source": [
    "## Training models"
   ]
  },
  {
   "cell_type": "code",
   "execution_count": 22,
   "id": "4468aeb7",
   "metadata": {},
   "outputs": [],
   "source": [
    "X = df.drop(columns = ['m1cur', 'm2cur', 'm3cur'])\n",
    "y = df[['m1cur', 'm2cur', 'm3cur']]"
   ]
  },
  {
   "cell_type": "code",
   "execution_count": 23,
   "id": "fe639bd5",
   "metadata": {},
   "outputs": [],
   "source": [
    "from sklearn.compose import ColumnTransformer\n",
    "from sklearn.preprocessing import OneHotEncoder, StandardScaler\n",
    "\n",
    "preprocessing = ColumnTransformer([\n",
    "    ('standard_scaler', StandardScaler(), ['movedir', 'm2pos', 'rotcur', 'xpos', 'ypos', \n",
    "                                           'ang', 'dy', 'vy', 'w1slip', 'w2effvel', 'w2slip',\n",
    "                                           'm2vol', 'w3slip']),\n",
    "    ('one_hot_encoder', OneHotEncoder(handle_unknown = 'ignore'), ['color_labels'])\n",
    "])"
   ]
  },
  {
   "cell_type": "code",
   "execution_count": 24,
   "id": "e1b4d088",
   "metadata": {},
   "outputs": [],
   "source": [
    "from sklearn.model_selection import train_test_split\n",
    "\n",
    "X_train, X_test, y_train, y_test = train_test_split(X, y, test_size = 0.2, random_state = 42)\n",
    "X_train, X_valid, y_train, y_valid = train_test_split(X_train, y_train, test_size = 0.3, random_state = 42)"
   ]
  },
  {
   "cell_type": "code",
   "execution_count": 25,
   "id": "7d4a487a",
   "metadata": {},
   "outputs": [],
   "source": [
    "from sklearn.metrics import mean_squared_error, mean_absolute_error\n",
    "def get_metrics(model, X_real, y_real):\n",
    "    yhat = model.predict(X_real)\n",
    "    rmse = mean_squared_error(yhat, y_real, squared = False)\n",
    "    mae = mean_absolute_error(yhat, y_real)\n",
    "#     print(f'RMSE: {rmse}')\n",
    "#     print(f'MAE: {mae(yhat, y_real)}')\n",
    "    return rmse, mae"
   ]
  },
  {
   "cell_type": "code",
   "execution_count": 26,
   "id": "6ee9b026",
   "metadata": {},
   "outputs": [],
   "source": [
    "def print_error_in_sets(model, X_train = X_train, y_train = y_train,\n",
    "                        X_valid = X_valid, y_valid = y_valid, X_test = X_test, y_test = y_test):\n",
    "    train_rmse, train_mae = get_metrics(model, X_train, y_train)\n",
    "    valid_rmse, valid_mae = get_metrics(model, X_valid, y_valid)\n",
    "    test_rmse, test_mae = get_metrics(model, X_test, y_test)\n",
    "\n",
    "    metrics = {'Training set' : [train_rmse, train_mae], \n",
    "               'Validation set' : [valid_rmse, valid_mae], \n",
    "               'Testing set': [test_rmse, test_mae]}\n",
    "    \n",
    "    df_metrics = pd.DataFrame(metrics, index = ['RMSE', 'MAE'])\n",
    "    print (df_metrics)\n",
    "#     print_metrics(model, X_train, y_train)\n",
    "#     print('On validation set:')\n",
    "#     print_metrics(model, X_valid, y_valid)\n",
    "#     print('On testing set:')\n",
    "#     print_metrics(model, X_test, y_test)"
   ]
  },
  {
   "cell_type": "markdown",
   "id": "08984ef4",
   "metadata": {},
   "source": [
    "### Decision Tree"
   ]
  },
  {
   "cell_type": "code",
   "execution_count": 33,
   "id": "ee6eb9c7",
   "metadata": {
    "scrolled": true
   },
   "outputs": [
    {
     "data": {
      "text/html": [
       "<style>#sk-container-id-1 {color: black;background-color: white;}#sk-container-id-1 pre{padding: 0;}#sk-container-id-1 div.sk-toggleable {background-color: white;}#sk-container-id-1 label.sk-toggleable__label {cursor: pointer;display: block;width: 100%;margin-bottom: 0;padding: 0.3em;box-sizing: border-box;text-align: center;}#sk-container-id-1 label.sk-toggleable__label-arrow:before {content: \"▸\";float: left;margin-right: 0.25em;color: #696969;}#sk-container-id-1 label.sk-toggleable__label-arrow:hover:before {color: black;}#sk-container-id-1 div.sk-estimator:hover label.sk-toggleable__label-arrow:before {color: black;}#sk-container-id-1 div.sk-toggleable__content {max-height: 0;max-width: 0;overflow: hidden;text-align: left;background-color: #f0f8ff;}#sk-container-id-1 div.sk-toggleable__content pre {margin: 0.2em;color: black;border-radius: 0.25em;background-color: #f0f8ff;}#sk-container-id-1 input.sk-toggleable__control:checked~div.sk-toggleable__content {max-height: 200px;max-width: 100%;overflow: auto;}#sk-container-id-1 input.sk-toggleable__control:checked~label.sk-toggleable__label-arrow:before {content: \"▾\";}#sk-container-id-1 div.sk-estimator input.sk-toggleable__control:checked~label.sk-toggleable__label {background-color: #d4ebff;}#sk-container-id-1 div.sk-label input.sk-toggleable__control:checked~label.sk-toggleable__label {background-color: #d4ebff;}#sk-container-id-1 input.sk-hidden--visually {border: 0;clip: rect(1px 1px 1px 1px);clip: rect(1px, 1px, 1px, 1px);height: 1px;margin: -1px;overflow: hidden;padding: 0;position: absolute;width: 1px;}#sk-container-id-1 div.sk-estimator {font-family: monospace;background-color: #f0f8ff;border: 1px dotted black;border-radius: 0.25em;box-sizing: border-box;margin-bottom: 0.5em;}#sk-container-id-1 div.sk-estimator:hover {background-color: #d4ebff;}#sk-container-id-1 div.sk-parallel-item::after {content: \"\";width: 100%;border-bottom: 1px solid gray;flex-grow: 1;}#sk-container-id-1 div.sk-label:hover label.sk-toggleable__label {background-color: #d4ebff;}#sk-container-id-1 div.sk-serial::before {content: \"\";position: absolute;border-left: 1px solid gray;box-sizing: border-box;top: 0;bottom: 0;left: 50%;z-index: 0;}#sk-container-id-1 div.sk-serial {display: flex;flex-direction: column;align-items: center;background-color: white;padding-right: 0.2em;padding-left: 0.2em;position: relative;}#sk-container-id-1 div.sk-item {position: relative;z-index: 1;}#sk-container-id-1 div.sk-parallel {display: flex;align-items: stretch;justify-content: center;background-color: white;position: relative;}#sk-container-id-1 div.sk-item::before, #sk-container-id-1 div.sk-parallel-item::before {content: \"\";position: absolute;border-left: 1px solid gray;box-sizing: border-box;top: 0;bottom: 0;left: 50%;z-index: -1;}#sk-container-id-1 div.sk-parallel-item {display: flex;flex-direction: column;z-index: 1;position: relative;background-color: white;}#sk-container-id-1 div.sk-parallel-item:first-child::after {align-self: flex-end;width: 50%;}#sk-container-id-1 div.sk-parallel-item:last-child::after {align-self: flex-start;width: 50%;}#sk-container-id-1 div.sk-parallel-item:only-child::after {width: 0;}#sk-container-id-1 div.sk-dashed-wrapped {border: 1px dashed gray;margin: 0 0.4em 0.5em 0.4em;box-sizing: border-box;padding-bottom: 0.4em;background-color: white;}#sk-container-id-1 div.sk-label label {font-family: monospace;font-weight: bold;display: inline-block;line-height: 1.2em;}#sk-container-id-1 div.sk-label-container {text-align: center;}#sk-container-id-1 div.sk-container {/* jupyter's `normalize.less` sets `[hidden] { display: none; }` but bootstrap.min.css set `[hidden] { display: none !important; }` so we also need the `!important` here to be able to override the default hidden behavior on the sphinx rendered scikit-learn.org. See: https://github.com/scikit-learn/scikit-learn/issues/21755 */display: inline-block !important;position: relative;}#sk-container-id-1 div.sk-text-repr-fallback {display: none;}</style><div id=\"sk-container-id-1\" class=\"sk-top-container\"><div class=\"sk-text-repr-fallback\"><pre>Pipeline(steps=[(&#x27;preprocessing&#x27;,\n",
       "                 ColumnTransformer(transformers=[(&#x27;standard_scaler&#x27;,\n",
       "                                                  StandardScaler(),\n",
       "                                                  [&#x27;movedir&#x27;, &#x27;m2pos&#x27;, &#x27;rotcur&#x27;,\n",
       "                                                   &#x27;xpos&#x27;, &#x27;ypos&#x27;, &#x27;ang&#x27;, &#x27;dy&#x27;,\n",
       "                                                   &#x27;vy&#x27;, &#x27;w1slip&#x27;, &#x27;w2effvel&#x27;,\n",
       "                                                   &#x27;w2slip&#x27;, &#x27;m2vol&#x27;,\n",
       "                                                   &#x27;w3slip&#x27;]),\n",
       "                                                 (&#x27;one_hot_encoder&#x27;,\n",
       "                                                  OneHotEncoder(handle_unknown=&#x27;ignore&#x27;),\n",
       "                                                  [&#x27;color_labels&#x27;])])),\n",
       "                (&#x27;decision-tree&#x27;, DecisionTreeRegressor(random_state=42))])</pre><b>In a Jupyter environment, please rerun this cell to show the HTML representation or trust the notebook. <br />On GitHub, the HTML representation is unable to render, please try loading this page with nbviewer.org.</b></div><div class=\"sk-container\" hidden><div class=\"sk-item sk-dashed-wrapped\"><div class=\"sk-label-container\"><div class=\"sk-label sk-toggleable\"><input class=\"sk-toggleable__control sk-hidden--visually\" id=\"sk-estimator-id-1\" type=\"checkbox\" ><label for=\"sk-estimator-id-1\" class=\"sk-toggleable__label sk-toggleable__label-arrow\">Pipeline</label><div class=\"sk-toggleable__content\"><pre>Pipeline(steps=[(&#x27;preprocessing&#x27;,\n",
       "                 ColumnTransformer(transformers=[(&#x27;standard_scaler&#x27;,\n",
       "                                                  StandardScaler(),\n",
       "                                                  [&#x27;movedir&#x27;, &#x27;m2pos&#x27;, &#x27;rotcur&#x27;,\n",
       "                                                   &#x27;xpos&#x27;, &#x27;ypos&#x27;, &#x27;ang&#x27;, &#x27;dy&#x27;,\n",
       "                                                   &#x27;vy&#x27;, &#x27;w1slip&#x27;, &#x27;w2effvel&#x27;,\n",
       "                                                   &#x27;w2slip&#x27;, &#x27;m2vol&#x27;,\n",
       "                                                   &#x27;w3slip&#x27;]),\n",
       "                                                 (&#x27;one_hot_encoder&#x27;,\n",
       "                                                  OneHotEncoder(handle_unknown=&#x27;ignore&#x27;),\n",
       "                                                  [&#x27;color_labels&#x27;])])),\n",
       "                (&#x27;decision-tree&#x27;, DecisionTreeRegressor(random_state=42))])</pre></div></div></div><div class=\"sk-serial\"><div class=\"sk-item sk-dashed-wrapped\"><div class=\"sk-label-container\"><div class=\"sk-label sk-toggleable\"><input class=\"sk-toggleable__control sk-hidden--visually\" id=\"sk-estimator-id-2\" type=\"checkbox\" ><label for=\"sk-estimator-id-2\" class=\"sk-toggleable__label sk-toggleable__label-arrow\">preprocessing: ColumnTransformer</label><div class=\"sk-toggleable__content\"><pre>ColumnTransformer(transformers=[(&#x27;standard_scaler&#x27;, StandardScaler(),\n",
       "                                 [&#x27;movedir&#x27;, &#x27;m2pos&#x27;, &#x27;rotcur&#x27;, &#x27;xpos&#x27;, &#x27;ypos&#x27;,\n",
       "                                  &#x27;ang&#x27;, &#x27;dy&#x27;, &#x27;vy&#x27;, &#x27;w1slip&#x27;, &#x27;w2effvel&#x27;,\n",
       "                                  &#x27;w2slip&#x27;, &#x27;m2vol&#x27;, &#x27;w3slip&#x27;]),\n",
       "                                (&#x27;one_hot_encoder&#x27;,\n",
       "                                 OneHotEncoder(handle_unknown=&#x27;ignore&#x27;),\n",
       "                                 [&#x27;color_labels&#x27;])])</pre></div></div></div><div class=\"sk-parallel\"><div class=\"sk-parallel-item\"><div class=\"sk-item\"><div class=\"sk-label-container\"><div class=\"sk-label sk-toggleable\"><input class=\"sk-toggleable__control sk-hidden--visually\" id=\"sk-estimator-id-3\" type=\"checkbox\" ><label for=\"sk-estimator-id-3\" class=\"sk-toggleable__label sk-toggleable__label-arrow\">standard_scaler</label><div class=\"sk-toggleable__content\"><pre>[&#x27;movedir&#x27;, &#x27;m2pos&#x27;, &#x27;rotcur&#x27;, &#x27;xpos&#x27;, &#x27;ypos&#x27;, &#x27;ang&#x27;, &#x27;dy&#x27;, &#x27;vy&#x27;, &#x27;w1slip&#x27;, &#x27;w2effvel&#x27;, &#x27;w2slip&#x27;, &#x27;m2vol&#x27;, &#x27;w3slip&#x27;]</pre></div></div></div><div class=\"sk-serial\"><div class=\"sk-item\"><div class=\"sk-estimator sk-toggleable\"><input class=\"sk-toggleable__control sk-hidden--visually\" id=\"sk-estimator-id-4\" type=\"checkbox\" ><label for=\"sk-estimator-id-4\" class=\"sk-toggleable__label sk-toggleable__label-arrow\">StandardScaler</label><div class=\"sk-toggleable__content\"><pre>StandardScaler()</pre></div></div></div></div></div></div><div class=\"sk-parallel-item\"><div class=\"sk-item\"><div class=\"sk-label-container\"><div class=\"sk-label sk-toggleable\"><input class=\"sk-toggleable__control sk-hidden--visually\" id=\"sk-estimator-id-5\" type=\"checkbox\" ><label for=\"sk-estimator-id-5\" class=\"sk-toggleable__label sk-toggleable__label-arrow\">one_hot_encoder</label><div class=\"sk-toggleable__content\"><pre>[&#x27;color_labels&#x27;]</pre></div></div></div><div class=\"sk-serial\"><div class=\"sk-item\"><div class=\"sk-estimator sk-toggleable\"><input class=\"sk-toggleable__control sk-hidden--visually\" id=\"sk-estimator-id-6\" type=\"checkbox\" ><label for=\"sk-estimator-id-6\" class=\"sk-toggleable__label sk-toggleable__label-arrow\">OneHotEncoder</label><div class=\"sk-toggleable__content\"><pre>OneHotEncoder(handle_unknown=&#x27;ignore&#x27;)</pre></div></div></div></div></div></div></div></div><div class=\"sk-item\"><div class=\"sk-estimator sk-toggleable\"><input class=\"sk-toggleable__control sk-hidden--visually\" id=\"sk-estimator-id-7\" type=\"checkbox\" ><label for=\"sk-estimator-id-7\" class=\"sk-toggleable__label sk-toggleable__label-arrow\">DecisionTreeRegressor</label><div class=\"sk-toggleable__content\"><pre>DecisionTreeRegressor(random_state=42)</pre></div></div></div></div></div></div></div>"
      ],
      "text/plain": [
       "Pipeline(steps=[('preprocessing',\n",
       "                 ColumnTransformer(transformers=[('standard_scaler',\n",
       "                                                  StandardScaler(),\n",
       "                                                  ['movedir', 'm2pos', 'rotcur',\n",
       "                                                   'xpos', 'ypos', 'ang', 'dy',\n",
       "                                                   'vy', 'w1slip', 'w2effvel',\n",
       "                                                   'w2slip', 'm2vol',\n",
       "                                                   'w3slip']),\n",
       "                                                 ('one_hot_encoder',\n",
       "                                                  OneHotEncoder(handle_unknown='ignore'),\n",
       "                                                  ['color_labels'])])),\n",
       "                ('decision-tree', DecisionTreeRegressor(random_state=42))])"
      ]
     },
     "execution_count": 33,
     "metadata": {},
     "output_type": "execute_result"
    }
   ],
   "source": [
    "from sklearn.tree import DecisionTreeRegressor, plot_tree\n",
    "from sklearn.pipeline import Pipeline\n",
    "\n",
    "tree_reg = Pipeline([\n",
    "    ('preprocessing', preprocessing),\n",
    "    ('decision-tree', DecisionTreeRegressor(random_state = 42))\n",
    "])\n",
    "\n",
    "tree_reg.fit(X_train, y_train)"
   ]
  },
  {
   "cell_type": "code",
   "execution_count": 34,
   "id": "065450f7",
   "metadata": {},
   "outputs": [
    {
     "name": "stdout",
     "output_type": "stream",
     "text": [
      "      Training set  Validation set  Testing set\n",
      "RMSE  2.038415e-18        0.119416     0.118715\n",
      "MAE   2.905107e-20        0.089461     0.089030\n"
     ]
    }
   ],
   "source": [
    "print_error_in_sets(tree_reg)"
   ]
  },
  {
   "cell_type": "code",
   "execution_count": 29,
   "id": "fc39b308",
   "metadata": {},
   "outputs": [
    {
     "name": "stderr",
     "output_type": "stream",
     "text": [
      "[I 2024-11-22 14:00:26,641] A new study created in memory with name: no-name-1610dd30-b62c-48a8-ad4e-5f34f3b9fe91\n"
     ]
    }
   ],
   "source": [
    "def objective(trial):\n",
    "    params = {\n",
    "        'criterion': trial.suggest_categorical('criterion', ['squared_error', 'friedman_mse', 'absolute_error', 'poisson']),\n",
    "        'splitter': trial.suggest_categorical('splitter', ['best', 'random']),\n",
    "        'max_depth': trial.suggest_int('max_depth', 2, 32, log=True),\n",
    "        'min_samples_split': trial.suggest_int('min_samples_split', 2, 20),\n",
    "        'min_samples_leaf': trial.suggest_int('min_samples_leaf', 1, 20),\n",
    "        'max_features': trial.suggest_categorical('max_features', [None, 'auto', 'sqrt', 'log2'])\n",
    "    }\n",
    "    \n",
    "    tree_reg = Pipeline([\n",
    "    ('preprocessing', preprocessing),\n",
    "    ('decision-tree', DecisionTreeRegressor(**params, random_state=42))\n",
    "    ])\n",
    "    \n",
    "    score = mean_squared_error(y_valid, tree_reg.fit(X_train, y_train).predict(X_valid))\n",
    "    return score\n",
    "\n",
    "study = optuna.create_study(direction='minimize')\n",
    "# study.optimize(objective, n_trials=50)\n",
    "\n",
    "# Print best parameters\n",
    "# print(\"Best parameters: \")\n",
    "# print(study.best_params)"
   ]
  },
  {
   "cell_type": "code",
   "execution_count": 30,
   "id": "6c3e0748",
   "metadata": {},
   "outputs": [],
   "source": [
    "# study.best_params"
   ]
  },
  {
   "attachments": {
    "image.png": {
     "image/png": "[encoded data removed]"
    }
   },
   "cell_type": "markdown",
   "id": "425fe670",
   "metadata": {},
   "source": [
    "![image.png](attachment:image.png)"
   ]
  },
  {
   "cell_type": "code",
   "execution_count": 35,
   "id": "dc698545",
   "metadata": {},
   "outputs": [],
   "source": [
    "best_params_tree = {'criterion': 'poisson',\n",
    " 'splitter': 'best',\n",
    " 'max_depth': 18,\n",
    " 'min_samples_split': 17,\n",
    " 'min_samples_leaf': 12,\n",
    " 'max_features': 'auto'}"
   ]
  },
  {
   "cell_type": "code",
   "execution_count": 36,
   "id": "aacc30c2",
   "metadata": {},
   "outputs": [
    {
     "data": {
      "text/html": [
       "<style>#sk-container-id-2 {color: black;background-color: white;}#sk-container-id-2 pre{padding: 0;}#sk-container-id-2 div.sk-toggleable {background-color: white;}#sk-container-id-2 label.sk-toggleable__label {cursor: pointer;display: block;width: 100%;margin-bottom: 0;padding: 0.3em;box-sizing: border-box;text-align: center;}#sk-container-id-2 label.sk-toggleable__label-arrow:before {content: \"▸\";float: left;margin-right: 0.25em;color: #696969;}#sk-container-id-2 label.sk-toggleable__label-arrow:hover:before {color: black;}#sk-container-id-2 div.sk-estimator:hover label.sk-toggleable__label-arrow:before {color: black;}#sk-container-id-2 div.sk-toggleable__content {max-height: 0;max-width: 0;overflow: hidden;text-align: left;background-color: #f0f8ff;}#sk-container-id-2 div.sk-toggleable__content pre {margin: 0.2em;color: black;border-radius: 0.25em;background-color: #f0f8ff;}#sk-container-id-2 input.sk-toggleable__control:checked~div.sk-toggleable__content {max-height: 200px;max-width: 100%;overflow: auto;}#sk-container-id-2 input.sk-toggleable__control:checked~label.sk-toggleable__label-arrow:before {content: \"▾\";}#sk-container-id-2 div.sk-estimator input.sk-toggleable__control:checked~label.sk-toggleable__label {background-color: #d4ebff;}#sk-container-id-2 div.sk-label input.sk-toggleable__control:checked~label.sk-toggleable__label {background-color: #d4ebff;}#sk-container-id-2 input.sk-hidden--visually {border: 0;clip: rect(1px 1px 1px 1px);clip: rect(1px, 1px, 1px, 1px);height: 1px;margin: -1px;overflow: hidden;padding: 0;position: absolute;width: 1px;}#sk-container-id-2 div.sk-estimator {font-family: monospace;background-color: #f0f8ff;border: 1px dotted black;border-radius: 0.25em;box-sizing: border-box;margin-bottom: 0.5em;}#sk-container-id-2 div.sk-estimator:hover {background-color: #d4ebff;}#sk-container-id-2 div.sk-parallel-item::after {content: \"\";width: 100%;border-bottom: 1px solid gray;flex-grow: 1;}#sk-container-id-2 div.sk-label:hover label.sk-toggleable__label {background-color: #d4ebff;}#sk-container-id-2 div.sk-serial::before {content: \"\";position: absolute;border-left: 1px solid gray;box-sizing: border-box;top: 0;bottom: 0;left: 50%;z-index: 0;}#sk-container-id-2 div.sk-serial {display: flex;flex-direction: column;align-items: center;background-color: white;padding-right: 0.2em;padding-left: 0.2em;position: relative;}#sk-container-id-2 div.sk-item {position: relative;z-index: 1;}#sk-container-id-2 div.sk-parallel {display: flex;align-items: stretch;justify-content: center;background-color: white;position: relative;}#sk-container-id-2 div.sk-item::before, #sk-container-id-2 div.sk-parallel-item::before {content: \"\";position: absolute;border-left: 1px solid gray;box-sizing: border-box;top: 0;bottom: 0;left: 50%;z-index: -1;}#sk-container-id-2 div.sk-parallel-item {display: flex;flex-direction: column;z-index: 1;position: relative;background-color: white;}#sk-container-id-2 div.sk-parallel-item:first-child::after {align-self: flex-end;width: 50%;}#sk-container-id-2 div.sk-parallel-item:last-child::after {align-self: flex-start;width: 50%;}#sk-container-id-2 div.sk-parallel-item:only-child::after {width: 0;}#sk-container-id-2 div.sk-dashed-wrapped {border: 1px dashed gray;margin: 0 0.4em 0.5em 0.4em;box-sizing: border-box;padding-bottom: 0.4em;background-color: white;}#sk-container-id-2 div.sk-label label {font-family: monospace;font-weight: bold;display: inline-block;line-height: 1.2em;}#sk-container-id-2 div.sk-label-container {text-align: center;}#sk-container-id-2 div.sk-container {/* jupyter's `normalize.less` sets `[hidden] { display: none; }` but bootstrap.min.css set `[hidden] { display: none !important; }` so we also need the `!important` here to be able to override the default hidden behavior on the sphinx rendered scikit-learn.org. See: https://github.com/scikit-learn/scikit-learn/issues/21755 */display: inline-block !important;position: relative;}#sk-container-id-2 div.sk-text-repr-fallback {display: none;}</style><div id=\"sk-container-id-2\" class=\"sk-top-container\"><div class=\"sk-text-repr-fallback\"><pre>Pipeline(steps=[(&#x27;preprocessing&#x27;,\n",
       "                 ColumnTransformer(transformers=[(&#x27;standard_scaler&#x27;,\n",
       "                                                  StandardScaler(),\n",
       "                                                  [&#x27;movedir&#x27;, &#x27;m2pos&#x27;, &#x27;rotcur&#x27;,\n",
       "                                                   &#x27;xpos&#x27;, &#x27;ypos&#x27;, &#x27;ang&#x27;, &#x27;dy&#x27;,\n",
       "                                                   &#x27;vy&#x27;, &#x27;w1slip&#x27;, &#x27;w2effvel&#x27;,\n",
       "                                                   &#x27;w2slip&#x27;, &#x27;m2vol&#x27;,\n",
       "                                                   &#x27;w3slip&#x27;]),\n",
       "                                                 (&#x27;one_hot_encoder&#x27;,\n",
       "                                                  OneHotEncoder(handle_unknown=&#x27;ignore&#x27;),\n",
       "                                                  [&#x27;color_labels&#x27;])])),\n",
       "                (&#x27;decision-tree&#x27;,\n",
       "                 DecisionTreeRegressor(criterion=&#x27;poisson&#x27;, max_depth=18,\n",
       "                                       max_features=&#x27;auto&#x27;, min_samples_leaf=12,\n",
       "                                       min_samples_split=17,\n",
       "                                       random_state=42))])</pre><b>In a Jupyter environment, please rerun this cell to show the HTML representation or trust the notebook. <br />On GitHub, the HTML representation is unable to render, please try loading this page with nbviewer.org.</b></div><div class=\"sk-container\" hidden><div class=\"sk-item sk-dashed-wrapped\"><div class=\"sk-label-container\"><div class=\"sk-label sk-toggleable\"><input class=\"sk-toggleable__control sk-hidden--visually\" id=\"sk-estimator-id-8\" type=\"checkbox\" ><label for=\"sk-estimator-id-8\" class=\"sk-toggleable__label sk-toggleable__label-arrow\">Pipeline</label><div class=\"sk-toggleable__content\"><pre>Pipeline(steps=[(&#x27;preprocessing&#x27;,\n",
       "                 ColumnTransformer(transformers=[(&#x27;standard_scaler&#x27;,\n",
       "                                                  StandardScaler(),\n",
       "                                                  [&#x27;movedir&#x27;, &#x27;m2pos&#x27;, &#x27;rotcur&#x27;,\n",
       "                                                   &#x27;xpos&#x27;, &#x27;ypos&#x27;, &#x27;ang&#x27;, &#x27;dy&#x27;,\n",
       "                                                   &#x27;vy&#x27;, &#x27;w1slip&#x27;, &#x27;w2effvel&#x27;,\n",
       "                                                   &#x27;w2slip&#x27;, &#x27;m2vol&#x27;,\n",
       "                                                   &#x27;w3slip&#x27;]),\n",
       "                                                 (&#x27;one_hot_encoder&#x27;,\n",
       "                                                  OneHotEncoder(handle_unknown=&#x27;ignore&#x27;),\n",
       "                                                  [&#x27;color_labels&#x27;])])),\n",
       "                (&#x27;decision-tree&#x27;,\n",
       "                 DecisionTreeRegressor(criterion=&#x27;poisson&#x27;, max_depth=18,\n",
       "                                       max_features=&#x27;auto&#x27;, min_samples_leaf=12,\n",
       "                                       min_samples_split=17,\n",
       "                                       random_state=42))])</pre></div></div></div><div class=\"sk-serial\"><div class=\"sk-item sk-dashed-wrapped\"><div class=\"sk-label-container\"><div class=\"sk-label sk-toggleable\"><input class=\"sk-toggleable__control sk-hidden--visually\" id=\"sk-estimator-id-9\" type=\"checkbox\" ><label for=\"sk-estimator-id-9\" class=\"sk-toggleable__label sk-toggleable__label-arrow\">preprocessing: ColumnTransformer</label><div class=\"sk-toggleable__content\"><pre>ColumnTransformer(transformers=[(&#x27;standard_scaler&#x27;, StandardScaler(),\n",
       "                                 [&#x27;movedir&#x27;, &#x27;m2pos&#x27;, &#x27;rotcur&#x27;, &#x27;xpos&#x27;, &#x27;ypos&#x27;,\n",
       "                                  &#x27;ang&#x27;, &#x27;dy&#x27;, &#x27;vy&#x27;, &#x27;w1slip&#x27;, &#x27;w2effvel&#x27;,\n",
       "                                  &#x27;w2slip&#x27;, &#x27;m2vol&#x27;, &#x27;w3slip&#x27;]),\n",
       "                                (&#x27;one_hot_encoder&#x27;,\n",
       "                                 OneHotEncoder(handle_unknown=&#x27;ignore&#x27;),\n",
       "                                 [&#x27;color_labels&#x27;])])</pre></div></div></div><div class=\"sk-parallel\"><div class=\"sk-parallel-item\"><div class=\"sk-item\"><div class=\"sk-label-container\"><div class=\"sk-label sk-toggleable\"><input class=\"sk-toggleable__control sk-hidden--visually\" id=\"sk-estimator-id-10\" type=\"checkbox\" ><label for=\"sk-estimator-id-10\" class=\"sk-toggleable__label sk-toggleable__label-arrow\">standard_scaler</label><div class=\"sk-toggleable__content\"><pre>[&#x27;movedir&#x27;, &#x27;m2pos&#x27;, &#x27;rotcur&#x27;, &#x27;xpos&#x27;, &#x27;ypos&#x27;, &#x27;ang&#x27;, &#x27;dy&#x27;, &#x27;vy&#x27;, &#x27;w1slip&#x27;, &#x27;w2effvel&#x27;, &#x27;w2slip&#x27;, &#x27;m2vol&#x27;, &#x27;w3slip&#x27;]</pre></div></div></div><div class=\"sk-serial\"><div class=\"sk-item\"><div class=\"sk-estimator sk-toggleable\"><input class=\"sk-toggleable__control sk-hidden--visually\" id=\"sk-estimator-id-11\" type=\"checkbox\" ><label for=\"sk-estimator-id-11\" class=\"sk-toggleable__label sk-toggleable__label-arrow\">StandardScaler</label><div class=\"sk-toggleable__content\"><pre>StandardScaler()</pre></div></div></div></div></div></div><div class=\"sk-parallel-item\"><div class=\"sk-item\"><div class=\"sk-label-container\"><div class=\"sk-label sk-toggleable\"><input class=\"sk-toggleable__control sk-hidden--visually\" id=\"sk-estimator-id-12\" type=\"checkbox\" ><label for=\"sk-estimator-id-12\" class=\"sk-toggleable__label sk-toggleable__label-arrow\">one_hot_encoder</label><div class=\"sk-toggleable__content\"><pre>[&#x27;color_labels&#x27;]</pre></div></div></div><div class=\"sk-serial\"><div class=\"sk-item\"><div class=\"sk-estimator sk-toggleable\"><input class=\"sk-toggleable__control sk-hidden--visually\" id=\"sk-estimator-id-13\" type=\"checkbox\" ><label for=\"sk-estimator-id-13\" class=\"sk-toggleable__label sk-toggleable__label-arrow\">OneHotEncoder</label><div class=\"sk-toggleable__content\"><pre>OneHotEncoder(handle_unknown=&#x27;ignore&#x27;)</pre></div></div></div></div></div></div></div></div><div class=\"sk-item\"><div class=\"sk-estimator sk-toggleable\"><input class=\"sk-toggleable__control sk-hidden--visually\" id=\"sk-estimator-id-14\" type=\"checkbox\" ><label for=\"sk-estimator-id-14\" class=\"sk-toggleable__label sk-toggleable__label-arrow\">DecisionTreeRegressor</label><div class=\"sk-toggleable__content\"><pre>DecisionTreeRegressor(criterion=&#x27;poisson&#x27;, max_depth=18, max_features=&#x27;auto&#x27;,\n",
       "                      min_samples_leaf=12, min_samples_split=17,\n",
       "                      random_state=42)</pre></div></div></div></div></div></div></div>"
      ],
      "text/plain": [
       "Pipeline(steps=[('preprocessing',\n",
       "                 ColumnTransformer(transformers=[('standard_scaler',\n",
       "                                                  StandardScaler(),\n",
       "                                                  ['movedir', 'm2pos', 'rotcur',\n",
       "                                                   'xpos', 'ypos', 'ang', 'dy',\n",
       "                                                   'vy', 'w1slip', 'w2effvel',\n",
       "                                                   'w2slip', 'm2vol',\n",
       "                                                   'w3slip']),\n",
       "                                                 ('one_hot_encoder',\n",
       "                                                  OneHotEncoder(handle_unknown='ignore'),\n",
       "                                                  ['color_labels'])])),\n",
       "                ('decision-tree',\n",
       "                 DecisionTreeRegressor(criterion='poisson', max_depth=18,\n",
       "                                       max_features='auto', min_samples_leaf=12,\n",
       "                                       min_samples_split=17,\n",
       "                                       random_state=42))])"
      ]
     },
     "execution_count": 36,
     "metadata": {},
     "output_type": "execute_result"
    }
   ],
   "source": [
    "best_tree_reg = Pipeline([\n",
    "    ('preprocessing', preprocessing),\n",
    "    ('decision-tree', DecisionTreeRegressor(**best_params_tree, random_state=42))\n",
    "    ])\n",
    "\n",
    "best_tree_reg.fit(X_train, y_train)"
   ]
  },
  {
   "cell_type": "code",
   "execution_count": 37,
   "id": "b87ff715",
   "metadata": {},
   "outputs": [
    {
     "name": "stdout",
     "output_type": "stream",
     "text": [
      "      Training set  Validation set  Testing set\n",
      "RMSE      0.084096        0.099889     0.099172\n",
      "MAE       0.064296        0.076389     0.075802\n"
     ]
    }
   ],
   "source": [
    "print_error_in_sets(best_tree_reg)"
   ]
  },
  {
   "cell_type": "code",
   "execution_count": 40,
   "id": "6dcff9de",
   "metadata": {},
   "outputs": [],
   "source": [
    "# decision_tree = tree_reg.named_steps['decision-tree']\n",
    "\n",
    "# # Plot the tree\n",
    "# plt.figure(figsize=(20, 10))\n",
    "# plot_tree(decision_tree, filled=True)\n",
    "# plt.show()"
   ]
  },
  {
   "cell_type": "markdown",
   "id": "1a2cb1e4",
   "metadata": {},
   "source": [
    "### Random Forest"
   ]
  },
  {
   "cell_type": "code",
   "execution_count": 35,
   "id": "c03130ec",
   "metadata": {},
   "outputs": [
    {
     "data": {
      "text/html": [
       "<style>#sk-container-id-3 {color: black;background-color: white;}#sk-container-id-3 pre{padding: 0;}#sk-container-id-3 div.sk-toggleable {background-color: white;}#sk-container-id-3 label.sk-toggleable__label {cursor: pointer;display: block;width: 100%;margin-bottom: 0;padding: 0.3em;box-sizing: border-box;text-align: center;}#sk-container-id-3 label.sk-toggleable__label-arrow:before {content: \"▸\";float: left;margin-right: 0.25em;color: #696969;}#sk-container-id-3 label.sk-toggleable__label-arrow:hover:before {color: black;}#sk-container-id-3 div.sk-estimator:hover label.sk-toggleable__label-arrow:before {color: black;}#sk-container-id-3 div.sk-toggleable__content {max-height: 0;max-width: 0;overflow: hidden;text-align: left;background-color: #f0f8ff;}#sk-container-id-3 div.sk-toggleable__content pre {margin: 0.2em;color: black;border-radius: 0.25em;background-color: #f0f8ff;}#sk-container-id-3 input.sk-toggleable__control:checked~div.sk-toggleable__content {max-height: 200px;max-width: 100%;overflow: auto;}#sk-container-id-3 input.sk-toggleable__control:checked~label.sk-toggleable__label-arrow:before {content: \"▾\";}#sk-container-id-3 div.sk-estimator input.sk-toggleable__control:checked~label.sk-toggleable__label {background-color: #d4ebff;}#sk-container-id-3 div.sk-label input.sk-toggleable__control:checked~label.sk-toggleable__label {background-color: #d4ebff;}#sk-container-id-3 input.sk-hidden--visually {border: 0;clip: rect(1px 1px 1px 1px);clip: rect(1px, 1px, 1px, 1px);height: 1px;margin: -1px;overflow: hidden;padding: 0;position: absolute;width: 1px;}#sk-container-id-3 div.sk-estimator {font-family: monospace;background-color: #f0f8ff;border: 1px dotted black;border-radius: 0.25em;box-sizing: border-box;margin-bottom: 0.5em;}#sk-container-id-3 div.sk-estimator:hover {background-color: #d4ebff;}#sk-container-id-3 div.sk-parallel-item::after {content: \"\";width: 100%;border-bottom: 1px solid gray;flex-grow: 1;}#sk-container-id-3 div.sk-label:hover label.sk-toggleable__label {background-color: #d4ebff;}#sk-container-id-3 div.sk-serial::before {content: \"\";position: absolute;border-left: 1px solid gray;box-sizing: border-box;top: 0;bottom: 0;left: 50%;z-index: 0;}#sk-container-id-3 div.sk-serial {display: flex;flex-direction: column;align-items: center;background-color: white;padding-right: 0.2em;padding-left: 0.2em;position: relative;}#sk-container-id-3 div.sk-item {position: relative;z-index: 1;}#sk-container-id-3 div.sk-parallel {display: flex;align-items: stretch;justify-content: center;background-color: white;position: relative;}#sk-container-id-3 div.sk-item::before, #sk-container-id-3 div.sk-parallel-item::before {content: \"\";position: absolute;border-left: 1px solid gray;box-sizing: border-box;top: 0;bottom: 0;left: 50%;z-index: -1;}#sk-container-id-3 div.sk-parallel-item {display: flex;flex-direction: column;z-index: 1;position: relative;background-color: white;}#sk-container-id-3 div.sk-parallel-item:first-child::after {align-self: flex-end;width: 50%;}#sk-container-id-3 div.sk-parallel-item:last-child::after {align-self: flex-start;width: 50%;}#sk-container-id-3 div.sk-parallel-item:only-child::after {width: 0;}#sk-container-id-3 div.sk-dashed-wrapped {border: 1px dashed gray;margin: 0 0.4em 0.5em 0.4em;box-sizing: border-box;padding-bottom: 0.4em;background-color: white;}#sk-container-id-3 div.sk-label label {font-family: monospace;font-weight: bold;display: inline-block;line-height: 1.2em;}#sk-container-id-3 div.sk-label-container {text-align: center;}#sk-container-id-3 div.sk-container {/* jupyter's `normalize.less` sets `[hidden] { display: none; }` but bootstrap.min.css set `[hidden] { display: none !important; }` so we also need the `!important` here to be able to override the default hidden behavior on the sphinx rendered scikit-learn.org. See: https://github.com/scikit-learn/scikit-learn/issues/21755 */display: inline-block !important;position: relative;}#sk-container-id-3 div.sk-text-repr-fallback {display: none;}</style><div id=\"sk-container-id-3\" class=\"sk-top-container\"><div class=\"sk-text-repr-fallback\"><pre>Pipeline(steps=[(&#x27;preprocessing&#x27;,\n",
       "                 ColumnTransformer(transformers=[(&#x27;standard_scaler&#x27;,\n",
       "                                                  StandardScaler(),\n",
       "                                                  [&#x27;movedir&#x27;, &#x27;m2pos&#x27;, &#x27;rotcur&#x27;,\n",
       "                                                   &#x27;xpos&#x27;, &#x27;ypos&#x27;, &#x27;ang&#x27;, &#x27;dy&#x27;,\n",
       "                                                   &#x27;vy&#x27;, &#x27;w1slip&#x27;, &#x27;w2effvel&#x27;,\n",
       "                                                   &#x27;w2slip&#x27;, &#x27;m2vol&#x27;,\n",
       "                                                   &#x27;w3slip&#x27;]),\n",
       "                                                 (&#x27;one_hot_encoder&#x27;,\n",
       "                                                  OneHotEncoder(handle_unknown=&#x27;ignore&#x27;),\n",
       "                                                  [&#x27;color_labels&#x27;])])),\n",
       "                (&#x27;random-forest&#x27;, RandomForestRegressor(random_state=42))])</pre><b>In a Jupyter environment, please rerun this cell to show the HTML representation or trust the notebook. <br />On GitHub, the HTML representation is unable to render, please try loading this page with nbviewer.org.</b></div><div class=\"sk-container\" hidden><div class=\"sk-item sk-dashed-wrapped\"><div class=\"sk-label-container\"><div class=\"sk-label sk-toggleable\"><input class=\"sk-toggleable__control sk-hidden--visually\" id=\"sk-estimator-id-15\" type=\"checkbox\" ><label for=\"sk-estimator-id-15\" class=\"sk-toggleable__label sk-toggleable__label-arrow\">Pipeline</label><div class=\"sk-toggleable__content\"><pre>Pipeline(steps=[(&#x27;preprocessing&#x27;,\n",
       "                 ColumnTransformer(transformers=[(&#x27;standard_scaler&#x27;,\n",
       "                                                  StandardScaler(),\n",
       "                                                  [&#x27;movedir&#x27;, &#x27;m2pos&#x27;, &#x27;rotcur&#x27;,\n",
       "                                                   &#x27;xpos&#x27;, &#x27;ypos&#x27;, &#x27;ang&#x27;, &#x27;dy&#x27;,\n",
       "                                                   &#x27;vy&#x27;, &#x27;w1slip&#x27;, &#x27;w2effvel&#x27;,\n",
       "                                                   &#x27;w2slip&#x27;, &#x27;m2vol&#x27;,\n",
       "                                                   &#x27;w3slip&#x27;]),\n",
       "                                                 (&#x27;one_hot_encoder&#x27;,\n",
       "                                                  OneHotEncoder(handle_unknown=&#x27;ignore&#x27;),\n",
       "                                                  [&#x27;color_labels&#x27;])])),\n",
       "                (&#x27;random-forest&#x27;, RandomForestRegressor(random_state=42))])</pre></div></div></div><div class=\"sk-serial\"><div class=\"sk-item sk-dashed-wrapped\"><div class=\"sk-label-container\"><div class=\"sk-label sk-toggleable\"><input class=\"sk-toggleable__control sk-hidden--visually\" id=\"sk-estimator-id-16\" type=\"checkbox\" ><label for=\"sk-estimator-id-16\" class=\"sk-toggleable__label sk-toggleable__label-arrow\">preprocessing: ColumnTransformer</label><div class=\"sk-toggleable__content\"><pre>ColumnTransformer(transformers=[(&#x27;standard_scaler&#x27;, StandardScaler(),\n",
       "                                 [&#x27;movedir&#x27;, &#x27;m2pos&#x27;, &#x27;rotcur&#x27;, &#x27;xpos&#x27;, &#x27;ypos&#x27;,\n",
       "                                  &#x27;ang&#x27;, &#x27;dy&#x27;, &#x27;vy&#x27;, &#x27;w1slip&#x27;, &#x27;w2effvel&#x27;,\n",
       "                                  &#x27;w2slip&#x27;, &#x27;m2vol&#x27;, &#x27;w3slip&#x27;]),\n",
       "                                (&#x27;one_hot_encoder&#x27;,\n",
       "                                 OneHotEncoder(handle_unknown=&#x27;ignore&#x27;),\n",
       "                                 [&#x27;color_labels&#x27;])])</pre></div></div></div><div class=\"sk-parallel\"><div class=\"sk-parallel-item\"><div class=\"sk-item\"><div class=\"sk-label-container\"><div class=\"sk-label sk-toggleable\"><input class=\"sk-toggleable__control sk-hidden--visually\" id=\"sk-estimator-id-17\" type=\"checkbox\" ><label for=\"sk-estimator-id-17\" class=\"sk-toggleable__label sk-toggleable__label-arrow\">standard_scaler</label><div class=\"sk-toggleable__content\"><pre>[&#x27;movedir&#x27;, &#x27;m2pos&#x27;, &#x27;rotcur&#x27;, &#x27;xpos&#x27;, &#x27;ypos&#x27;, &#x27;ang&#x27;, &#x27;dy&#x27;, &#x27;vy&#x27;, &#x27;w1slip&#x27;, &#x27;w2effvel&#x27;, &#x27;w2slip&#x27;, &#x27;m2vol&#x27;, &#x27;w3slip&#x27;]</pre></div></div></div><div class=\"sk-serial\"><div class=\"sk-item\"><div class=\"sk-estimator sk-toggleable\"><input class=\"sk-toggleable__control sk-hidden--visually\" id=\"sk-estimator-id-18\" type=\"checkbox\" ><label for=\"sk-estimator-id-18\" class=\"sk-toggleable__label sk-toggleable__label-arrow\">StandardScaler</label><div class=\"sk-toggleable__content\"><pre>StandardScaler()</pre></div></div></div></div></div></div><div class=\"sk-parallel-item\"><div class=\"sk-item\"><div class=\"sk-label-container\"><div class=\"sk-label sk-toggleable\"><input class=\"sk-toggleable__control sk-hidden--visually\" id=\"sk-estimator-id-19\" type=\"checkbox\" ><label for=\"sk-estimator-id-19\" class=\"sk-toggleable__label sk-toggleable__label-arrow\">one_hot_encoder</label><div class=\"sk-toggleable__content\"><pre>[&#x27;color_labels&#x27;]</pre></div></div></div><div class=\"sk-serial\"><div class=\"sk-item\"><div class=\"sk-estimator sk-toggleable\"><input class=\"sk-toggleable__control sk-hidden--visually\" id=\"sk-estimator-id-20\" type=\"checkbox\" ><label for=\"sk-estimator-id-20\" class=\"sk-toggleable__label sk-toggleable__label-arrow\">OneHotEncoder</label><div class=\"sk-toggleable__content\"><pre>OneHotEncoder(handle_unknown=&#x27;ignore&#x27;)</pre></div></div></div></div></div></div></div></div><div class=\"sk-item\"><div class=\"sk-estimator sk-toggleable\"><input class=\"sk-toggleable__control sk-hidden--visually\" id=\"sk-estimator-id-21\" type=\"checkbox\" ><label for=\"sk-estimator-id-21\" class=\"sk-toggleable__label sk-toggleable__label-arrow\">RandomForestRegressor</label><div class=\"sk-toggleable__content\"><pre>RandomForestRegressor(random_state=42)</pre></div></div></div></div></div></div></div>"
      ],
      "text/plain": [
       "Pipeline(steps=[('preprocessing',\n",
       "                 ColumnTransformer(transformers=[('standard_scaler',\n",
       "                                                  StandardScaler(),\n",
       "                                                  ['movedir', 'm2pos', 'rotcur',\n",
       "                                                   'xpos', 'ypos', 'ang', 'dy',\n",
       "                                                   'vy', 'w1slip', 'w2effvel',\n",
       "                                                   'w2slip', 'm2vol',\n",
       "                                                   'w3slip']),\n",
       "                                                 ('one_hot_encoder',\n",
       "                                                  OneHotEncoder(handle_unknown='ignore'),\n",
       "                                                  ['color_labels'])])),\n",
       "                ('random-forest', RandomForestRegressor(random_state=42))])"
      ]
     },
     "execution_count": 35,
     "metadata": {},
     "output_type": "execute_result"
    }
   ],
   "source": [
    "from sklearn.ensemble import RandomForestRegressor\n",
    "\n",
    "forest_reg = Pipeline([\n",
    "    ('preprocessing', preprocessing),\n",
    "    ('random-forest', RandomForestRegressor(random_state = 42))\n",
    "])\n",
    "\n",
    "forest_reg.fit(X_train, y_train)"
   ]
  },
  {
   "cell_type": "code",
   "execution_count": 36,
   "id": "a8243a59",
   "metadata": {},
   "outputs": [
    {
     "name": "stdout",
     "output_type": "stream",
     "text": [
      "      Training set  Validation set  Testing set\n",
      "RMSE      0.031509        0.083886     0.082577\n",
      "MAE       0.023663        0.063784     0.062996\n"
     ]
    }
   ],
   "source": [
    "print_error_in_sets(forest_reg)"
   ]
  },
  {
   "cell_type": "code",
   "execution_count": 37,
   "id": "9cbccb14",
   "metadata": {},
   "outputs": [
    {
     "name": "stderr",
     "output_type": "stream",
     "text": [
      "[I 2024-11-22 14:01:27,432] A new study created in memory with name: no-name-0a1767b4-ae82-4600-ba1d-6ebef5f94583\n"
     ]
    }
   ],
   "source": [
    "def objective(trial):\n",
    "    # Suggest hyperparameters\n",
    "    params = {\n",
    "        'n_estimators': trial.suggest_int('n_estimators', 10, 200),\n",
    "        'max_depth': trial.suggest_int('max_depth', 20, 50, log=True),\n",
    "        'min_samples_split': trial.suggest_int('min_samples_split', 2, 20),\n",
    "        'min_samples_leaf': trial.suggest_int('min_samples_leaf', 1, 20),\n",
    "        'max_features': trial.suggest_categorical('max_features', ['auto', 'sqrt', 'log2'])\n",
    "    }\n",
    "\n",
    "    model = Pipeline([\n",
    "    ('preprocessing', preprocessing),\n",
    "    ('random-forest', RandomForestRegressor(**params, random_state = 42))\n",
    "    ])\n",
    "    \n",
    "    model.fit(X_train, y_train)\n",
    "    score = mean_squared_error(y_valid, model.predict(X_valid))\n",
    "    return score\n",
    "\n",
    "study = optuna.create_study(direction='minimize')\n",
    "# study.optimize(objective, n_trials=10)"
   ]
  },
  {
   "cell_type": "code",
   "execution_count": 38,
   "id": "20f9d6d9",
   "metadata": {},
   "outputs": [],
   "source": [
    "# study.best_params"
   ]
  },
  {
   "attachments": {
    "image.png": {
     "image/png": "[encoded data removed]"
    }
   },
   "cell_type": "markdown",
   "id": "4f19dda0",
   "metadata": {},
   "source": [
    "![image.png](attachment:image.png)"
   ]
  },
  {
   "cell_type": "code",
   "execution_count": 39,
   "id": "fea55cd6",
   "metadata": {},
   "outputs": [],
   "source": [
    "best_params_forest = {'n_estimators': 40,\n",
    " 'max_depth': 48,\n",
    " 'min_samples_split': 15,\n",
    " 'min_samples_leaf': 10,\n",
    " 'max_features': 'auto'}"
   ]
  },
  {
   "cell_type": "code",
   "execution_count": 40,
   "id": "91b1bbac",
   "metadata": {},
   "outputs": [
    {
     "data": {
      "text/html": [
       "<style>#sk-container-id-4 {color: black;background-color: white;}#sk-container-id-4 pre{padding: 0;}#sk-container-id-4 div.sk-toggleable {background-color: white;}#sk-container-id-4 label.sk-toggleable__label {cursor: pointer;display: block;width: 100%;margin-bottom: 0;padding: 0.3em;box-sizing: border-box;text-align: center;}#sk-container-id-4 label.sk-toggleable__label-arrow:before {content: \"▸\";float: left;margin-right: 0.25em;color: #696969;}#sk-container-id-4 label.sk-toggleable__label-arrow:hover:before {color: black;}#sk-container-id-4 div.sk-estimator:hover label.sk-toggleable__label-arrow:before {color: black;}#sk-container-id-4 div.sk-toggleable__content {max-height: 0;max-width: 0;overflow: hidden;text-align: left;background-color: #f0f8ff;}#sk-container-id-4 div.sk-toggleable__content pre {margin: 0.2em;color: black;border-radius: 0.25em;background-color: #f0f8ff;}#sk-container-id-4 input.sk-toggleable__control:checked~div.sk-toggleable__content {max-height: 200px;max-width: 100%;overflow: auto;}#sk-container-id-4 input.sk-toggleable__control:checked~label.sk-toggleable__label-arrow:before {content: \"▾\";}#sk-container-id-4 div.sk-estimator input.sk-toggleable__control:checked~label.sk-toggleable__label {background-color: #d4ebff;}#sk-container-id-4 div.sk-label input.sk-toggleable__control:checked~label.sk-toggleable__label {background-color: #d4ebff;}#sk-container-id-4 input.sk-hidden--visually {border: 0;clip: rect(1px 1px 1px 1px);clip: rect(1px, 1px, 1px, 1px);height: 1px;margin: -1px;overflow: hidden;padding: 0;position: absolute;width: 1px;}#sk-container-id-4 div.sk-estimator {font-family: monospace;background-color: #f0f8ff;border: 1px dotted black;border-radius: 0.25em;box-sizing: border-box;margin-bottom: 0.5em;}#sk-container-id-4 div.sk-estimator:hover {background-color: #d4ebff;}#sk-container-id-4 div.sk-parallel-item::after {content: \"\";width: 100%;border-bottom: 1px solid gray;flex-grow: 1;}#sk-container-id-4 div.sk-label:hover label.sk-toggleable__label {background-color: #d4ebff;}#sk-container-id-4 div.sk-serial::before {content: \"\";position: absolute;border-left: 1px solid gray;box-sizing: border-box;top: 0;bottom: 0;left: 50%;z-index: 0;}#sk-container-id-4 div.sk-serial {display: flex;flex-direction: column;align-items: center;background-color: white;padding-right: 0.2em;padding-left: 0.2em;position: relative;}#sk-container-id-4 div.sk-item {position: relative;z-index: 1;}#sk-container-id-4 div.sk-parallel {display: flex;align-items: stretch;justify-content: center;background-color: white;position: relative;}#sk-container-id-4 div.sk-item::before, #sk-container-id-4 div.sk-parallel-item::before {content: \"\";position: absolute;border-left: 1px solid gray;box-sizing: border-box;top: 0;bottom: 0;left: 50%;z-index: -1;}#sk-container-id-4 div.sk-parallel-item {display: flex;flex-direction: column;z-index: 1;position: relative;background-color: white;}#sk-container-id-4 div.sk-parallel-item:first-child::after {align-self: flex-end;width: 50%;}#sk-container-id-4 div.sk-parallel-item:last-child::after {align-self: flex-start;width: 50%;}#sk-container-id-4 div.sk-parallel-item:only-child::after {width: 0;}#sk-container-id-4 div.sk-dashed-wrapped {border: 1px dashed gray;margin: 0 0.4em 0.5em 0.4em;box-sizing: border-box;padding-bottom: 0.4em;background-color: white;}#sk-container-id-4 div.sk-label label {font-family: monospace;font-weight: bold;display: inline-block;line-height: 1.2em;}#sk-container-id-4 div.sk-label-container {text-align: center;}#sk-container-id-4 div.sk-container {/* jupyter's `normalize.less` sets `[hidden] { display: none; }` but bootstrap.min.css set `[hidden] { display: none !important; }` so we also need the `!important` here to be able to override the default hidden behavior on the sphinx rendered scikit-learn.org. See: https://github.com/scikit-learn/scikit-learn/issues/21755 */display: inline-block !important;position: relative;}#sk-container-id-4 div.sk-text-repr-fallback {display: none;}</style><div id=\"sk-container-id-4\" class=\"sk-top-container\"><div class=\"sk-text-repr-fallback\"><pre>Pipeline(steps=[(&#x27;preprocessing&#x27;,\n",
       "                 ColumnTransformer(transformers=[(&#x27;standard_scaler&#x27;,\n",
       "                                                  StandardScaler(),\n",
       "                                                  [&#x27;movedir&#x27;, &#x27;m2pos&#x27;, &#x27;rotcur&#x27;,\n",
       "                                                   &#x27;xpos&#x27;, &#x27;ypos&#x27;, &#x27;ang&#x27;, &#x27;dy&#x27;,\n",
       "                                                   &#x27;vy&#x27;, &#x27;w1slip&#x27;, &#x27;w2effvel&#x27;,\n",
       "                                                   &#x27;w2slip&#x27;, &#x27;m2vol&#x27;,\n",
       "                                                   &#x27;w3slip&#x27;]),\n",
       "                                                 (&#x27;one_hot_encoder&#x27;,\n",
       "                                                  OneHotEncoder(handle_unknown=&#x27;ignore&#x27;),\n",
       "                                                  [&#x27;color_labels&#x27;])])),\n",
       "                (&#x27;decision-tree&#x27;,\n",
       "                 RandomForestRegressor(max_depth=48, max_features=&#x27;auto&#x27;,\n",
       "                                       min_samples_leaf=10,\n",
       "                                       min_samples_split=15, n_estimators=40,\n",
       "                                       random_state=42))])</pre><b>In a Jupyter environment, please rerun this cell to show the HTML representation or trust the notebook. <br />On GitHub, the HTML representation is unable to render, please try loading this page with nbviewer.org.</b></div><div class=\"sk-container\" hidden><div class=\"sk-item sk-dashed-wrapped\"><div class=\"sk-label-container\"><div class=\"sk-label sk-toggleable\"><input class=\"sk-toggleable__control sk-hidden--visually\" id=\"sk-estimator-id-22\" type=\"checkbox\" ><label for=\"sk-estimator-id-22\" class=\"sk-toggleable__label sk-toggleable__label-arrow\">Pipeline</label><div class=\"sk-toggleable__content\"><pre>Pipeline(steps=[(&#x27;preprocessing&#x27;,\n",
       "                 ColumnTransformer(transformers=[(&#x27;standard_scaler&#x27;,\n",
       "                                                  StandardScaler(),\n",
       "                                                  [&#x27;movedir&#x27;, &#x27;m2pos&#x27;, &#x27;rotcur&#x27;,\n",
       "                                                   &#x27;xpos&#x27;, &#x27;ypos&#x27;, &#x27;ang&#x27;, &#x27;dy&#x27;,\n",
       "                                                   &#x27;vy&#x27;, &#x27;w1slip&#x27;, &#x27;w2effvel&#x27;,\n",
       "                                                   &#x27;w2slip&#x27;, &#x27;m2vol&#x27;,\n",
       "                                                   &#x27;w3slip&#x27;]),\n",
       "                                                 (&#x27;one_hot_encoder&#x27;,\n",
       "                                                  OneHotEncoder(handle_unknown=&#x27;ignore&#x27;),\n",
       "                                                  [&#x27;color_labels&#x27;])])),\n",
       "                (&#x27;decision-tree&#x27;,\n",
       "                 RandomForestRegressor(max_depth=48, max_features=&#x27;auto&#x27;,\n",
       "                                       min_samples_leaf=10,\n",
       "                                       min_samples_split=15, n_estimators=40,\n",
       "                                       random_state=42))])</pre></div></div></div><div class=\"sk-serial\"><div class=\"sk-item sk-dashed-wrapped\"><div class=\"sk-label-container\"><div class=\"sk-label sk-toggleable\"><input class=\"sk-toggleable__control sk-hidden--visually\" id=\"sk-estimator-id-23\" type=\"checkbox\" ><label for=\"sk-estimator-id-23\" class=\"sk-toggleable__label sk-toggleable__label-arrow\">preprocessing: ColumnTransformer</label><div class=\"sk-toggleable__content\"><pre>ColumnTransformer(transformers=[(&#x27;standard_scaler&#x27;, StandardScaler(),\n",
       "                                 [&#x27;movedir&#x27;, &#x27;m2pos&#x27;, &#x27;rotcur&#x27;, &#x27;xpos&#x27;, &#x27;ypos&#x27;,\n",
       "                                  &#x27;ang&#x27;, &#x27;dy&#x27;, &#x27;vy&#x27;, &#x27;w1slip&#x27;, &#x27;w2effvel&#x27;,\n",
       "                                  &#x27;w2slip&#x27;, &#x27;m2vol&#x27;, &#x27;w3slip&#x27;]),\n",
       "                                (&#x27;one_hot_encoder&#x27;,\n",
       "                                 OneHotEncoder(handle_unknown=&#x27;ignore&#x27;),\n",
       "                                 [&#x27;color_labels&#x27;])])</pre></div></div></div><div class=\"sk-parallel\"><div class=\"sk-parallel-item\"><div class=\"sk-item\"><div class=\"sk-label-container\"><div class=\"sk-label sk-toggleable\"><input class=\"sk-toggleable__control sk-hidden--visually\" id=\"sk-estimator-id-24\" type=\"checkbox\" ><label for=\"sk-estimator-id-24\" class=\"sk-toggleable__label sk-toggleable__label-arrow\">standard_scaler</label><div class=\"sk-toggleable__content\"><pre>[&#x27;movedir&#x27;, &#x27;m2pos&#x27;, &#x27;rotcur&#x27;, &#x27;xpos&#x27;, &#x27;ypos&#x27;, &#x27;ang&#x27;, &#x27;dy&#x27;, &#x27;vy&#x27;, &#x27;w1slip&#x27;, &#x27;w2effvel&#x27;, &#x27;w2slip&#x27;, &#x27;m2vol&#x27;, &#x27;w3slip&#x27;]</pre></div></div></div><div class=\"sk-serial\"><div class=\"sk-item\"><div class=\"sk-estimator sk-toggleable\"><input class=\"sk-toggleable__control sk-hidden--visually\" id=\"sk-estimator-id-25\" type=\"checkbox\" ><label for=\"sk-estimator-id-25\" class=\"sk-toggleable__label sk-toggleable__label-arrow\">StandardScaler</label><div class=\"sk-toggleable__content\"><pre>StandardScaler()</pre></div></div></div></div></div></div><div class=\"sk-parallel-item\"><div class=\"sk-item\"><div class=\"sk-label-container\"><div class=\"sk-label sk-toggleable\"><input class=\"sk-toggleable__control sk-hidden--visually\" id=\"sk-estimator-id-26\" type=\"checkbox\" ><label for=\"sk-estimator-id-26\" class=\"sk-toggleable__label sk-toggleable__label-arrow\">one_hot_encoder</label><div class=\"sk-toggleable__content\"><pre>[&#x27;color_labels&#x27;]</pre></div></div></div><div class=\"sk-serial\"><div class=\"sk-item\"><div class=\"sk-estimator sk-toggleable\"><input class=\"sk-toggleable__control sk-hidden--visually\" id=\"sk-estimator-id-27\" type=\"checkbox\" ><label for=\"sk-estimator-id-27\" class=\"sk-toggleable__label sk-toggleable__label-arrow\">OneHotEncoder</label><div class=\"sk-toggleable__content\"><pre>OneHotEncoder(handle_unknown=&#x27;ignore&#x27;)</pre></div></div></div></div></div></div></div></div><div class=\"sk-item\"><div class=\"sk-estimator sk-toggleable\"><input class=\"sk-toggleable__control sk-hidden--visually\" id=\"sk-estimator-id-28\" type=\"checkbox\" ><label for=\"sk-estimator-id-28\" class=\"sk-toggleable__label sk-toggleable__label-arrow\">RandomForestRegressor</label><div class=\"sk-toggleable__content\"><pre>RandomForestRegressor(max_depth=48, max_features=&#x27;auto&#x27;, min_samples_leaf=10,\n",
       "                      min_samples_split=15, n_estimators=40, random_state=42)</pre></div></div></div></div></div></div></div>"
      ],
      "text/plain": [
       "Pipeline(steps=[('preprocessing',\n",
       "                 ColumnTransformer(transformers=[('standard_scaler',\n",
       "                                                  StandardScaler(),\n",
       "                                                  ['movedir', 'm2pos', 'rotcur',\n",
       "                                                   'xpos', 'ypos', 'ang', 'dy',\n",
       "                                                   'vy', 'w1slip', 'w2effvel',\n",
       "                                                   'w2slip', 'm2vol',\n",
       "                                                   'w3slip']),\n",
       "                                                 ('one_hot_encoder',\n",
       "                                                  OneHotEncoder(handle_unknown='ignore'),\n",
       "                                                  ['color_labels'])])),\n",
       "                ('decision-tree',\n",
       "                 RandomForestRegressor(max_depth=48, max_features='auto',\n",
       "                                       min_samples_leaf=10,\n",
       "                                       min_samples_split=15, n_estimators=40,\n",
       "                                       random_state=42))])"
      ]
     },
     "execution_count": 40,
     "metadata": {},
     "output_type": "execute_result"
    }
   ],
   "source": [
    "best_forest_reg = Pipeline([\n",
    "    ('preprocessing', preprocessing),\n",
    "    ('decision-tree', RandomForestRegressor(**best_params_forest, random_state=42))\n",
    "    ])\n",
    "\n",
    "best_forest_reg.fit(X_train, y_train)"
   ]
  },
  {
   "cell_type": "code",
   "execution_count": 41,
   "id": "43eae1ef",
   "metadata": {},
   "outputs": [
    {
     "name": "stdout",
     "output_type": "stream",
     "text": [
      "      Training set  Validation set  Testing set\n",
      "RMSE      0.074843        0.087579     0.086324\n",
      "MAE       0.057062        0.066989     0.066187\n"
     ]
    }
   ],
   "source": [
    "print_error_in_sets(best_forest_reg)"
   ]
  },
  {
   "cell_type": "markdown",
   "id": "79abe13a",
   "metadata": {},
   "source": [
    "### CatBoost"
   ]
  },
  {
   "cell_type": "code",
   "execution_count": null,
   "id": "318c084b",
   "metadata": {},
   "outputs": [],
   "source": [
    "from catboost import CatBoostRegressor\n",
    "from sklearn.preprocessing import StandardScaler\n",
    "from sklearn.multioutput import MultiOutputRegressor\n",
    "\n",
    "catboost_reg = Pipeline([\n",
    "    ('preprocessing', preprocessing),\n",
    "    ('catboost', MultiOutputRegressor(CatBoostRegressor(random_state = 42, verbose = 0)))\n",
    "])\n",
    "\n",
    "catboost_reg.fit(X_train, y_train)"
   ]
  },
  {
   "cell_type": "code",
   "execution_count": 43,
   "id": "46a6ee32",
   "metadata": {},
   "outputs": [
    {
     "name": "stdout",
     "output_type": "stream",
     "text": [
      "      Training set  Validation set  Testing set\n",
      "RMSE      0.067124        0.074289     0.073145\n",
      "MAE       0.050913        0.056140     0.055561\n"
     ]
    }
   ],
   "source": [
    "print_error_in_sets(catboost_reg)"
   ]
  },
  {
   "cell_type": "code",
   "execution_count": 44,
   "id": "e455db76",
   "metadata": {},
   "outputs": [
    {
     "name": "stderr",
     "output_type": "stream",
     "text": [
      "[I 2024-11-22 14:02:07,775] A new study created in memory with name: no-name-81f70668-97c9-4b02-a55c-cd765a0058b6\n"
     ]
    }
   ],
   "source": [
    "def objective(trial):\n",
    "    # Define hyperparameter search space\n",
    "    params = {\n",
    "        'iterations': trial.suggest_int('iterations', 100, 1000),\n",
    "        'depth': trial.suggest_int('depth', 4, 10),\n",
    "        'learning_rate': trial.suggest_loguniform('learning_rate', 0.01, 0.3),\n",
    "        'l2_leaf_reg': trial.suggest_loguniform('l2_leaf_reg', 1e-3, 10),\n",
    "        'bagging_temperature': trial.suggest_uniform('bagging_temperature', 0.0, 1.0),\n",
    "        'random_strength': trial.suggest_uniform('random_strength', 0.0, 10.0),\n",
    "        'border_count': trial.suggest_int('border_count', 32, 255),\n",
    "        'verbose': 0\n",
    "    }\n",
    "\n",
    "    # Create CatBoost regressor\n",
    "    model = Pipeline([\n",
    "    ('preprocessing', preprocessing),\n",
    "    ('catboost', MultiOutputRegressor(CatBoostRegressor(random_state = 42, **params)))\n",
    "    ])\n",
    "\n",
    "    # Fit model\n",
    "    model.fit(X_train, y_train)\n",
    "    score = mean_squared_error(y_valid, model.predict(X_valid))\n",
    "    return score\n",
    "\n",
    "# Create study and optimize\n",
    "study = optuna.create_study(direction='minimize')\n",
    "# study.optimize(objective, n_trials=20)"
   ]
  },
  {
   "cell_type": "code",
   "execution_count": 45,
   "id": "2c0c0d81",
   "metadata": {},
   "outputs": [],
   "source": [
    "# study.best_params"
   ]
  },
  {
   "attachments": {
    "image.png": {
     "image/png": "[encoded data removed]"
    }
   },
   "cell_type": "markdown",
   "id": "87dae8bf",
   "metadata": {},
   "source": [
    "![image.png](attachment:image.png)"
   ]
  },
  {
   "cell_type": "code",
   "execution_count": 28,
   "id": "6948596c",
   "metadata": {},
   "outputs": [],
   "source": [
    "best_params_catboost = {'iterations': 283,\n",
    " 'depth': 9,\n",
    " 'learning_rate': 0.1284099463835756,\n",
    " 'l2_leaf_reg': 0.007772854117832913,\n",
    " 'bagging_temperature': 0.723581157155692,\n",
    " 'random_strength': 1.2390735992304358,\n",
    " 'border_count': 121}"
   ]
  },
  {
   "cell_type": "code",
   "execution_count": 32,
   "id": "a1cc73a2",
   "metadata": {},
   "outputs": [
    {
     "data": {
      "text/html": [
       "<style>#sk-container-id-1 {color: black;background-color: white;}#sk-container-id-1 pre{padding: 0;}#sk-container-id-1 div.sk-toggleable {background-color: white;}#sk-container-id-1 label.sk-toggleable__label {cursor: pointer;display: block;width: 100%;margin-bottom: 0;padding: 0.3em;box-sizing: border-box;text-align: center;}#sk-container-id-1 label.sk-toggleable__label-arrow:before {content: \"▸\";float: left;margin-right: 0.25em;color: #696969;}#sk-container-id-1 label.sk-toggleable__label-arrow:hover:before {color: black;}#sk-container-id-1 div.sk-estimator:hover label.sk-toggleable__label-arrow:before {color: black;}#sk-container-id-1 div.sk-toggleable__content {max-height: 0;max-width: 0;overflow: hidden;text-align: left;background-color: #f0f8ff;}#sk-container-id-1 div.sk-toggleable__content pre {margin: 0.2em;color: black;border-radius: 0.25em;background-color: #f0f8ff;}#sk-container-id-1 input.sk-toggleable__control:checked~div.sk-toggleable__content {max-height: 200px;max-width: 100%;overflow: auto;}#sk-container-id-1 input.sk-toggleable__control:checked~label.sk-toggleable__label-arrow:before {content: \"▾\";}#sk-container-id-1 div.sk-estimator input.sk-toggleable__control:checked~label.sk-toggleable__label {background-color: #d4ebff;}#sk-container-id-1 div.sk-label input.sk-toggleable__control:checked~label.sk-toggleable__label {background-color: #d4ebff;}#sk-container-id-1 input.sk-hidden--visually {border: 0;clip: rect(1px 1px 1px 1px);clip: rect(1px, 1px, 1px, 1px);height: 1px;margin: -1px;overflow: hidden;padding: 0;position: absolute;width: 1px;}#sk-container-id-1 div.sk-estimator {font-family: monospace;background-color: #f0f8ff;border: 1px dotted black;border-radius: 0.25em;box-sizing: border-box;margin-bottom: 0.5em;}#sk-container-id-1 div.sk-estimator:hover {background-color: #d4ebff;}#sk-container-id-1 div.sk-parallel-item::after {content: \"\";width: 100%;border-bottom: 1px solid gray;flex-grow: 1;}#sk-container-id-1 div.sk-label:hover label.sk-toggleable__label {background-color: #d4ebff;}#sk-container-id-1 div.sk-serial::before {content: \"\";position: absolute;border-left: 1px solid gray;box-sizing: border-box;top: 0;bottom: 0;left: 50%;z-index: 0;}#sk-container-id-1 div.sk-serial {display: flex;flex-direction: column;align-items: center;background-color: white;padding-right: 0.2em;padding-left: 0.2em;position: relative;}#sk-container-id-1 div.sk-item {position: relative;z-index: 1;}#sk-container-id-1 div.sk-parallel {display: flex;align-items: stretch;justify-content: center;background-color: white;position: relative;}#sk-container-id-1 div.sk-item::before, #sk-container-id-1 div.sk-parallel-item::before {content: \"\";position: absolute;border-left: 1px solid gray;box-sizing: border-box;top: 0;bottom: 0;left: 50%;z-index: -1;}#sk-container-id-1 div.sk-parallel-item {display: flex;flex-direction: column;z-index: 1;position: relative;background-color: white;}#sk-container-id-1 div.sk-parallel-item:first-child::after {align-self: flex-end;width: 50%;}#sk-container-id-1 div.sk-parallel-item:last-child::after {align-self: flex-start;width: 50%;}#sk-container-id-1 div.sk-parallel-item:only-child::after {width: 0;}#sk-container-id-1 div.sk-dashed-wrapped {border: 1px dashed gray;margin: 0 0.4em 0.5em 0.4em;box-sizing: border-box;padding-bottom: 0.4em;background-color: white;}#sk-container-id-1 div.sk-label label {font-family: monospace;font-weight: bold;display: inline-block;line-height: 1.2em;}#sk-container-id-1 div.sk-label-container {text-align: center;}#sk-container-id-1 div.sk-container {/* jupyter's `normalize.less` sets `[hidden] { display: none; }` but bootstrap.min.css set `[hidden] { display: none !important; }` so we also need the `!important` here to be able to override the default hidden behavior on the sphinx rendered scikit-learn.org. See: https://github.com/scikit-learn/scikit-learn/issues/21755 */display: inline-block !important;position: relative;}#sk-container-id-1 div.sk-text-repr-fallback {display: none;}</style><div id=\"sk-container-id-1\" class=\"sk-top-container\"><div class=\"sk-text-repr-fallback\"><pre>Pipeline(steps=[(&#x27;preprocessing&#x27;,\n",
       "                 ColumnTransformer(transformers=[(&#x27;standard_scaler&#x27;,\n",
       "                                                  StandardScaler(),\n",
       "                                                  [&#x27;movedir&#x27;, &#x27;m2pos&#x27;, &#x27;rotcur&#x27;,\n",
       "                                                   &#x27;xpos&#x27;, &#x27;ypos&#x27;, &#x27;ang&#x27;, &#x27;dy&#x27;,\n",
       "                                                   &#x27;vy&#x27;, &#x27;w1slip&#x27;, &#x27;w2effvel&#x27;,\n",
       "                                                   &#x27;w2slip&#x27;, &#x27;m2vol&#x27;,\n",
       "                                                   &#x27;w3slip&#x27;]),\n",
       "                                                 (&#x27;one_hot_encoder&#x27;,\n",
       "                                                  OneHotEncoder(handle_unknown=&#x27;ignore&#x27;),\n",
       "                                                  [&#x27;color_labels&#x27;])])),\n",
       "                (&#x27;catboost&#x27;,\n",
       "                 MultiOutputRegressor(estimator=&lt;catboost.core.CatBoostRegressor object at 0x00000247CBB24CD0&gt;))])</pre><b>In a Jupyter environment, please rerun this cell to show the HTML representation or trust the notebook. <br />On GitHub, the HTML representation is unable to render, please try loading this page with nbviewer.org.</b></div><div class=\"sk-container\" hidden><div class=\"sk-item sk-dashed-wrapped\"><div class=\"sk-label-container\"><div class=\"sk-label sk-toggleable\"><input class=\"sk-toggleable__control sk-hidden--visually\" id=\"sk-estimator-id-1\" type=\"checkbox\" ><label for=\"sk-estimator-id-1\" class=\"sk-toggleable__label sk-toggleable__label-arrow\">Pipeline</label><div class=\"sk-toggleable__content\"><pre>Pipeline(steps=[(&#x27;preprocessing&#x27;,\n",
       "                 ColumnTransformer(transformers=[(&#x27;standard_scaler&#x27;,\n",
       "                                                  StandardScaler(),\n",
       "                                                  [&#x27;movedir&#x27;, &#x27;m2pos&#x27;, &#x27;rotcur&#x27;,\n",
       "                                                   &#x27;xpos&#x27;, &#x27;ypos&#x27;, &#x27;ang&#x27;, &#x27;dy&#x27;,\n",
       "                                                   &#x27;vy&#x27;, &#x27;w1slip&#x27;, &#x27;w2effvel&#x27;,\n",
       "                                                   &#x27;w2slip&#x27;, &#x27;m2vol&#x27;,\n",
       "                                                   &#x27;w3slip&#x27;]),\n",
       "                                                 (&#x27;one_hot_encoder&#x27;,\n",
       "                                                  OneHotEncoder(handle_unknown=&#x27;ignore&#x27;),\n",
       "                                                  [&#x27;color_labels&#x27;])])),\n",
       "                (&#x27;catboost&#x27;,\n",
       "                 MultiOutputRegressor(estimator=&lt;catboost.core.CatBoostRegressor object at 0x00000247CBB24CD0&gt;))])</pre></div></div></div><div class=\"sk-serial\"><div class=\"sk-item sk-dashed-wrapped\"><div class=\"sk-label-container\"><div class=\"sk-label sk-toggleable\"><input class=\"sk-toggleable__control sk-hidden--visually\" id=\"sk-estimator-id-2\" type=\"checkbox\" ><label for=\"sk-estimator-id-2\" class=\"sk-toggleable__label sk-toggleable__label-arrow\">preprocessing: ColumnTransformer</label><div class=\"sk-toggleable__content\"><pre>ColumnTransformer(transformers=[(&#x27;standard_scaler&#x27;, StandardScaler(),\n",
       "                                 [&#x27;movedir&#x27;, &#x27;m2pos&#x27;, &#x27;rotcur&#x27;, &#x27;xpos&#x27;, &#x27;ypos&#x27;,\n",
       "                                  &#x27;ang&#x27;, &#x27;dy&#x27;, &#x27;vy&#x27;, &#x27;w1slip&#x27;, &#x27;w2effvel&#x27;,\n",
       "                                  &#x27;w2slip&#x27;, &#x27;m2vol&#x27;, &#x27;w3slip&#x27;]),\n",
       "                                (&#x27;one_hot_encoder&#x27;,\n",
       "                                 OneHotEncoder(handle_unknown=&#x27;ignore&#x27;),\n",
       "                                 [&#x27;color_labels&#x27;])])</pre></div></div></div><div class=\"sk-parallel\"><div class=\"sk-parallel-item\"><div class=\"sk-item\"><div class=\"sk-label-container\"><div class=\"sk-label sk-toggleable\"><input class=\"sk-toggleable__control sk-hidden--visually\" id=\"sk-estimator-id-3\" type=\"checkbox\" ><label for=\"sk-estimator-id-3\" class=\"sk-toggleable__label sk-toggleable__label-arrow\">standard_scaler</label><div class=\"sk-toggleable__content\"><pre>[&#x27;movedir&#x27;, &#x27;m2pos&#x27;, &#x27;rotcur&#x27;, &#x27;xpos&#x27;, &#x27;ypos&#x27;, &#x27;ang&#x27;, &#x27;dy&#x27;, &#x27;vy&#x27;, &#x27;w1slip&#x27;, &#x27;w2effvel&#x27;, &#x27;w2slip&#x27;, &#x27;m2vol&#x27;, &#x27;w3slip&#x27;]</pre></div></div></div><div class=\"sk-serial\"><div class=\"sk-item\"><div class=\"sk-estimator sk-toggleable\"><input class=\"sk-toggleable__control sk-hidden--visually\" id=\"sk-estimator-id-4\" type=\"checkbox\" ><label for=\"sk-estimator-id-4\" class=\"sk-toggleable__label sk-toggleable__label-arrow\">StandardScaler</label><div class=\"sk-toggleable__content\"><pre>StandardScaler()</pre></div></div></div></div></div></div><div class=\"sk-parallel-item\"><div class=\"sk-item\"><div class=\"sk-label-container\"><div class=\"sk-label sk-toggleable\"><input class=\"sk-toggleable__control sk-hidden--visually\" id=\"sk-estimator-id-5\" type=\"checkbox\" ><label for=\"sk-estimator-id-5\" class=\"sk-toggleable__label sk-toggleable__label-arrow\">one_hot_encoder</label><div class=\"sk-toggleable__content\"><pre>[&#x27;color_labels&#x27;]</pre></div></div></div><div class=\"sk-serial\"><div class=\"sk-item\"><div class=\"sk-estimator sk-toggleable\"><input class=\"sk-toggleable__control sk-hidden--visually\" id=\"sk-estimator-id-6\" type=\"checkbox\" ><label for=\"sk-estimator-id-6\" class=\"sk-toggleable__label sk-toggleable__label-arrow\">OneHotEncoder</label><div class=\"sk-toggleable__content\"><pre>OneHotEncoder(handle_unknown=&#x27;ignore&#x27;)</pre></div></div></div></div></div></div></div></div><div class=\"sk-item sk-dashed-wrapped\"><div class=\"sk-label-container\"><div class=\"sk-label sk-toggleable\"><input class=\"sk-toggleable__control sk-hidden--visually\" id=\"sk-estimator-id-7\" type=\"checkbox\" ><label for=\"sk-estimator-id-7\" class=\"sk-toggleable__label sk-toggleable__label-arrow\">catboost: MultiOutputRegressor</label><div class=\"sk-toggleable__content\"><pre>MultiOutputRegressor(estimator=&lt;catboost.core.CatBoostRegressor object at 0x00000247CBB24CD0&gt;)</pre></div></div></div><div class=\"sk-parallel\"><div class=\"sk-parallel-item\"><div class=\"sk-item\"><div class=\"sk-label-container\"><div class=\"sk-label sk-toggleable\"><input class=\"sk-toggleable__control sk-hidden--visually\" id=\"sk-estimator-id-8\" type=\"checkbox\" ><label for=\"sk-estimator-id-8\" class=\"sk-toggleable__label sk-toggleable__label-arrow\">estimator: CatBoostRegressor</label><div class=\"sk-toggleable__content\"><pre>&lt;catboost.core.CatBoostRegressor object at 0x00000247CBB24CD0&gt;</pre></div></div></div><div class=\"sk-serial\"><div class=\"sk-item\"><div class=\"sk-estimator sk-toggleable\"><input class=\"sk-toggleable__control sk-hidden--visually\" id=\"sk-estimator-id-9\" type=\"checkbox\" ><label for=\"sk-estimator-id-9\" class=\"sk-toggleable__label sk-toggleable__label-arrow\">CatBoostRegressor</label><div class=\"sk-toggleable__content\"><pre>&lt;catboost.core.CatBoostRegressor object at 0x00000247CBB24CD0&gt;</pre></div></div></div></div></div></div></div></div></div></div></div></div>"
      ],
      "text/plain": [
       "Pipeline(steps=[('preprocessing',\n",
       "                 ColumnTransformer(transformers=[('standard_scaler',\n",
       "                                                  StandardScaler(),\n",
       "                                                  ['movedir', 'm2pos', 'rotcur',\n",
       "                                                   'xpos', 'ypos', 'ang', 'dy',\n",
       "                                                   'vy', 'w1slip', 'w2effvel',\n",
       "                                                   'w2slip', 'm2vol',\n",
       "                                                   'w3slip']),\n",
       "                                                 ('one_hot_encoder',\n",
       "                                                  OneHotEncoder(handle_unknown='ignore'),\n",
       "                                                  ['color_labels'])])),\n",
       "                ('catboost',\n",
       "                 MultiOutputRegressor(estimator=<catboost.core.CatBoostRegressor object at 0x00000247CBB24CD0>))])"
      ]
     },
     "execution_count": 32,
     "metadata": {},
     "output_type": "execute_result"
    }
   ],
   "source": [
    "best_catboost_reg = Pipeline([\n",
    "    ('preprocessing', preprocessing),\n",
    "    ('catboost', MultiOutputRegressor(CatBoostRegressor(random_state = 42,verbose = 0, **best_params_catboost)))\n",
    "    ])\n",
    "\n",
    "best_catboost_reg.fit(X_train, y_train)"
   ]
  },
  {
   "cell_type": "code",
   "execution_count": null,
   "id": "c843b51d",
   "metadata": {},
   "outputs": [
    {
     "name": "stdout",
     "output_type": "stream",
     "text": [
      "      Training set  Validation set  Testing set\n",
      "RMSE      0.067124        0.074289     0.073145\n",
      "MAE       0.050913        0.056140     0.055561\n"
     ]
    }
   ],
   "source": [
    "print_error_in_sets(best_catboost_reg)"
   ]
  },
  {
   "cell_type": "markdown",
   "id": "1d2e90d6",
   "metadata": {},
   "source": [
    "### LightLBM"
   ]
  },
  {
   "cell_type": "code",
   "execution_count": null,
   "id": "8ebf5563",
   "metadata": {},
   "outputs": [],
   "source": [
    "from sklearn.pipeline import Pipeline\n",
    "from lightgbm import LGBMRegressor\n",
    "\n",
    "lightgbm_reg = Pipeline([\n",
    "    ('preprocessing', preprocessing),\n",
    "    ('lightgbm', MultiOutputRegressor(LGBMRegressor(random_state = 42, verbose = 0)))\n",
    "])\n",
    "\n",
    "lightgbm_reg.fit(X_train, y_train)"
   ]
  },
  {
   "cell_type": "code",
   "execution_count": null,
   "id": "c242630e",
   "metadata": {},
   "outputs": [
    {
     "name": "stdout",
     "output_type": "stream",
     "text": [
      "      Training set  Validation set  Testing set\n",
      "RMSE      0.073316        0.078197     0.076801\n",
      "MAE       0.055964        0.059552     0.058726\n"
     ]
    }
   ],
   "source": [
    "print_error_in_sets(lightgbm_reg)"
   ]
  },
  {
   "cell_type": "code",
   "execution_count": 31,
   "id": "26ecf86a",
   "metadata": {},
   "outputs": [
    {
     "name": "stderr",
     "output_type": "stream",
     "text": [
      "[I 2024-11-23 11:17:17,177] A new study created in memory with name: no-name-6772f437-b8e7-4bea-a731-5c0985c49df9\n",
      "[I 2024-11-23 11:17:25,459] Trial 0 finished with value: 0.006660198397767672 and parameters: {'n_estimators': 869, 'max_depth': 10, 'learning_rate': 0.03241859757583986, 'num_leaves': 35, 'min_child_samples': 86, 'subsample': 0.9017686207751408, 'colsample_bytree': 0.837018272455267, 'reg_alpha': 0.027374973081047256, 'reg_lambda': 0.0435315310198548}. Best is trial 0 with value: 0.006660198397767672.\n",
      "[I 2024-11-23 11:17:27,932] Trial 1 finished with value: 0.0070215541095609785 and parameters: {'n_estimators': 292, 'max_depth': 10, 'learning_rate': 0.09430878821417982, 'num_leaves': 27, 'min_child_samples': 25, 'subsample': 0.8794922121661299, 'colsample_bytree': 0.7648149037397768, 'reg_alpha': 3.09620991180087, 'reg_lambda': 0.007521063785756377}. Best is trial 0 with value: 0.006660198397767672.\n",
      "[I 2024-11-23 11:17:32,197] Trial 2 finished with value: 0.008712661643891341 and parameters: {'n_estimators': 955, 'max_depth': 4, 'learning_rate': 0.014979585774842057, 'num_leaves': 50, 'min_child_samples': 76, 'subsample': 0.627418220030965, 'colsample_bytree': 0.6977338446077033, 'reg_alpha': 0.027350064016828504, 'reg_lambda': 0.020279303105119547}. Best is trial 0 with value: 0.006660198397767672.\n",
      "[I 2024-11-23 11:17:34,291] Trial 3 finished with value: 0.0072904386850406845 and parameters: {'n_estimators': 315, 'max_depth': 5, 'learning_rate': 0.06399238787779864, 'num_leaves': 130, 'min_child_samples': 20, 'subsample': 0.7205696281234174, 'colsample_bytree': 0.8150809684499408, 'reg_alpha': 0.020477448669664455, 'reg_lambda': 0.0056475717471114436}. Best is trial 0 with value: 0.006660198397767672.\n",
      "[I 2024-11-23 11:17:43,705] Trial 4 finished with value: 0.006868299027434195 and parameters: {'n_estimators': 561, 'max_depth': 10, 'learning_rate': 0.026421268861749163, 'num_leaves': 140, 'min_child_samples': 28, 'subsample': 0.7738809851570818, 'colsample_bytree': 0.5690048059855927, 'reg_alpha': 0.07893572908236612, 'reg_lambda': 8.497623347701497}. Best is trial 0 with value: 0.006660198397767672.\n",
      "[I 2024-11-23 11:17:54,031] Trial 5 finished with value: 0.006669993086693166 and parameters: {'n_estimators': 776, 'max_depth': 12, 'learning_rate': 0.07740362698257942, 'num_leaves': 101, 'min_child_samples': 77, 'subsample': 0.7065741126865226, 'colsample_bytree': 0.9367060121662235, 'reg_alpha': 0.007065821883811622, 'reg_lambda': 9.580887134351878}. Best is trial 0 with value: 0.006660198397767672.\n",
      "[I 2024-11-23 11:18:01,650] Trial 6 finished with value: 0.006659276485730263 and parameters: {'n_estimators': 748, 'max_depth': 12, 'learning_rate': 0.03742726985700681, 'num_leaves': 44, 'min_child_samples': 14, 'subsample': 0.5406322481316428, 'colsample_bytree': 0.946442692209417, 'reg_alpha': 0.011581902065603283, 'reg_lambda': 1.8536384344051087}. Best is trial 6 with value: 0.006659276485730263.\n",
      "[I 2024-11-23 11:18:05,449] Trial 7 finished with value: 0.010531295534176519 and parameters: {'n_estimators': 715, 'max_depth': 4, 'learning_rate': 0.011906677516200314, 'num_leaves': 79, 'min_child_samples': 88, 'subsample': 0.8324051615329809, 'colsample_bytree': 0.5189668607267246, 'reg_alpha': 0.08358905592296427, 'reg_lambda': 0.7436485609893582}. Best is trial 6 with value: 0.006659276485730263.\n",
      "[I 2024-11-23 11:18:07,135] Trial 8 finished with value: 0.013142788810684836 and parameters: {'n_estimators': 335, 'max_depth': 4, 'learning_rate': 0.01297846589887231, 'num_leaves': 94, 'min_child_samples': 26, 'subsample': 0.746012882644456, 'colsample_bytree': 0.9571562324115004, 'reg_alpha': 1.285009738885238, 'reg_lambda': 0.0010160034401311495}. Best is trial 6 with value: 0.006659276485730263.\n",
      "[I 2024-11-23 11:18:10,743] Trial 9 finished with value: 0.00740223233078223 and parameters: {'n_estimators': 295, 'max_depth': 12, 'learning_rate': 0.0348708202636821, 'num_leaves': 65, 'min_child_samples': 43, 'subsample': 0.7341628876468027, 'colsample_bytree': 0.6845626599217212, 'reg_alpha': 3.036672276552546, 'reg_lambda': 0.001329165352092702}. Best is trial 6 with value: 0.006659276485730263.\n"
     ]
    }
   ],
   "source": [
    "\n",
    "def objective(trial):\n",
    "    # Define hyperparameter search space\n",
    "    params = {\n",
    "        'n_estimators': trial.suggest_int('n_estimators', 100, 1000),\n",
    "        'max_depth': trial.suggest_int('max_depth', 3, 12),\n",
    "        'learning_rate': trial.suggest_loguniform('learning_rate', 0.01, 0.3),\n",
    "        'num_leaves': trial.suggest_int('num_leaves', 20, 150),\n",
    "        'min_child_samples': trial.suggest_int('min_child_samples', 5, 100),\n",
    "        'subsample': trial.suggest_uniform('subsample', 0.5, 1.0),\n",
    "        'colsample_bytree': trial.suggest_uniform('colsample_bytree', 0.5, 1.0),\n",
    "        'reg_alpha': trial.suggest_loguniform('reg_alpha', 1e-3, 10),\n",
    "        'reg_lambda': trial.suggest_loguniform('reg_lambda', 1e-3, 10),\n",
    "        'random_state': 42\n",
    "    }\n",
    "\n",
    "    # Create a pipeline with scaling and LightGBM for multitarget regression\n",
    "    model = Pipeline([\n",
    "        ('preprocessing', StandardScaler()),\n",
    "        ('lightgbm', MultiOutputRegressor(\n",
    "            LGBMRegressor(**params, verbose = -1)\n",
    "        ))\n",
    "    ])\n",
    "\n",
    "    model.fit(X_train, y_train)\n",
    "    score = mean_squared_error(y_valid, model.predict(X_valid))\n",
    "    return score\n",
    "\n",
    "# Create study and optimize\n",
    "study = optuna.create_study(direction='minimize')\n",
    "study.optimize(objective, n_trials=10)"
   ]
  },
  {
   "cell_type": "code",
   "execution_count": 32,
   "id": "05a5b3dc",
   "metadata": {},
   "outputs": [
    {
     "data": {
      "text/plain": [
       "{'n_estimators': 748,\n",
       " 'max_depth': 12,\n",
       " 'learning_rate': 0.03742726985700681,\n",
       " 'num_leaves': 44,\n",
       " 'min_child_samples': 14,\n",
       " 'subsample': 0.5406322481316428,\n",
       " 'colsample_bytree': 0.946442692209417,\n",
       " 'reg_alpha': 0.011581902065603283,\n",
       " 'reg_lambda': 1.8536384344051087}"
      ]
     },
     "execution_count": 32,
     "metadata": {},
     "output_type": "execute_result"
    }
   ],
   "source": [
    "study.best_params"
   ]
  },
  {
   "cell_type": "code",
   "execution_count": null,
   "id": "c89e6cb3",
   "metadata": {},
   "outputs": [],
   "source": [
    "best_params_lightlbm = {'n_estimators': 748,\n",
    " 'max_depth': 12,\n",
    " 'learning_rate': 0.03742726985700681,\n",
    " 'num_leaves': 44,\n",
    " 'min_child_samples': 14,\n",
    " 'subsample': 0.5406322481316428,\n",
    " 'colsample_bytree': 0.946442692209417,\n",
    " 'reg_alpha': 0.011581902065603283,\n",
    " 'reg_lambda': 1.8536384344051087}"
   ]
  },
  {
   "cell_type": "code",
   "execution_count": 54,
   "id": "dcbe5f1b",
   "metadata": {},
   "outputs": [
    {
     "data": {
      "text/html": [
       "<style>#sk-container-id-8 {color: black;background-color: white;}#sk-container-id-8 pre{padding: 0;}#sk-container-id-8 div.sk-toggleable {background-color: white;}#sk-container-id-8 label.sk-toggleable__label {cursor: pointer;display: block;width: 100%;margin-bottom: 0;padding: 0.3em;box-sizing: border-box;text-align: center;}#sk-container-id-8 label.sk-toggleable__label-arrow:before {content: \"▸\";float: left;margin-right: 0.25em;color: #696969;}#sk-container-id-8 label.sk-toggleable__label-arrow:hover:before {color: black;}#sk-container-id-8 div.sk-estimator:hover label.sk-toggleable__label-arrow:before {color: black;}#sk-container-id-8 div.sk-toggleable__content {max-height: 0;max-width: 0;overflow: hidden;text-align: left;background-color: #f0f8ff;}#sk-container-id-8 div.sk-toggleable__content pre {margin: 0.2em;color: black;border-radius: 0.25em;background-color: #f0f8ff;}#sk-container-id-8 input.sk-toggleable__control:checked~div.sk-toggleable__content {max-height: 200px;max-width: 100%;overflow: auto;}#sk-container-id-8 input.sk-toggleable__control:checked~label.sk-toggleable__label-arrow:before {content: \"▾\";}#sk-container-id-8 div.sk-estimator input.sk-toggleable__control:checked~label.sk-toggleable__label {background-color: #d4ebff;}#sk-container-id-8 div.sk-label input.sk-toggleable__control:checked~label.sk-toggleable__label {background-color: #d4ebff;}#sk-container-id-8 input.sk-hidden--visually {border: 0;clip: rect(1px 1px 1px 1px);clip: rect(1px, 1px, 1px, 1px);height: 1px;margin: -1px;overflow: hidden;padding: 0;position: absolute;width: 1px;}#sk-container-id-8 div.sk-estimator {font-family: monospace;background-color: #f0f8ff;border: 1px dotted black;border-radius: 0.25em;box-sizing: border-box;margin-bottom: 0.5em;}#sk-container-id-8 div.sk-estimator:hover {background-color: #d4ebff;}#sk-container-id-8 div.sk-parallel-item::after {content: \"\";width: 100%;border-bottom: 1px solid gray;flex-grow: 1;}#sk-container-id-8 div.sk-label:hover label.sk-toggleable__label {background-color: #d4ebff;}#sk-container-id-8 div.sk-serial::before {content: \"\";position: absolute;border-left: 1px solid gray;box-sizing: border-box;top: 0;bottom: 0;left: 50%;z-index: 0;}#sk-container-id-8 div.sk-serial {display: flex;flex-direction: column;align-items: center;background-color: white;padding-right: 0.2em;padding-left: 0.2em;position: relative;}#sk-container-id-8 div.sk-item {position: relative;z-index: 1;}#sk-container-id-8 div.sk-parallel {display: flex;align-items: stretch;justify-content: center;background-color: white;position: relative;}#sk-container-id-8 div.sk-item::before, #sk-container-id-8 div.sk-parallel-item::before {content: \"\";position: absolute;border-left: 1px solid gray;box-sizing: border-box;top: 0;bottom: 0;left: 50%;z-index: -1;}#sk-container-id-8 div.sk-parallel-item {display: flex;flex-direction: column;z-index: 1;position: relative;background-color: white;}#sk-container-id-8 div.sk-parallel-item:first-child::after {align-self: flex-end;width: 50%;}#sk-container-id-8 div.sk-parallel-item:last-child::after {align-self: flex-start;width: 50%;}#sk-container-id-8 div.sk-parallel-item:only-child::after {width: 0;}#sk-container-id-8 div.sk-dashed-wrapped {border: 1px dashed gray;margin: 0 0.4em 0.5em 0.4em;box-sizing: border-box;padding-bottom: 0.4em;background-color: white;}#sk-container-id-8 div.sk-label label {font-family: monospace;font-weight: bold;display: inline-block;line-height: 1.2em;}#sk-container-id-8 div.sk-label-container {text-align: center;}#sk-container-id-8 div.sk-container {/* jupyter's `normalize.less` sets `[hidden] { display: none; }` but bootstrap.min.css set `[hidden] { display: none !important; }` so we also need the `!important` here to be able to override the default hidden behavior on the sphinx rendered scikit-learn.org. See: https://github.com/scikit-learn/scikit-learn/issues/21755 */display: inline-block !important;position: relative;}#sk-container-id-8 div.sk-text-repr-fallback {display: none;}</style><div id=\"sk-container-id-8\" class=\"sk-top-container\"><div class=\"sk-text-repr-fallback\"><pre>Pipeline(steps=[(&#x27;preprocessing&#x27;, StandardScaler()),\n",
       "                (&#x27;lightgbm&#x27;,\n",
       "                 MultiOutputRegressor(estimator=LGBMRegressor(bagging_temperature=0.723581157155692,\n",
       "                                                              border_count=121,\n",
       "                                                              depth=9,\n",
       "                                                              iterations=283,\n",
       "                                                              l2_leaf_reg=0.007772854117832913,\n",
       "                                                              learning_rate=0.1284099463835756,\n",
       "                                                              random_strength=1.2390735992304358,\n",
       "                                                              verbose=-1)))])</pre><b>In a Jupyter environment, please rerun this cell to show the HTML representation or trust the notebook. <br />On GitHub, the HTML representation is unable to render, please try loading this page with nbviewer.org.</b></div><div class=\"sk-container\" hidden><div class=\"sk-item sk-dashed-wrapped\"><div class=\"sk-label-container\"><div class=\"sk-label sk-toggleable\"><input class=\"sk-toggleable__control sk-hidden--visually\" id=\"sk-estimator-id-56\" type=\"checkbox\" ><label for=\"sk-estimator-id-56\" class=\"sk-toggleable__label sk-toggleable__label-arrow\">Pipeline</label><div class=\"sk-toggleable__content\"><pre>Pipeline(steps=[(&#x27;preprocessing&#x27;, StandardScaler()),\n",
       "                (&#x27;lightgbm&#x27;,\n",
       "                 MultiOutputRegressor(estimator=LGBMRegressor(bagging_temperature=0.723581157155692,\n",
       "                                                              border_count=121,\n",
       "                                                              depth=9,\n",
       "                                                              iterations=283,\n",
       "                                                              l2_leaf_reg=0.007772854117832913,\n",
       "                                                              learning_rate=0.1284099463835756,\n",
       "                                                              random_strength=1.2390735992304358,\n",
       "                                                              verbose=-1)))])</pre></div></div></div><div class=\"sk-serial\"><div class=\"sk-item\"><div class=\"sk-estimator sk-toggleable\"><input class=\"sk-toggleable__control sk-hidden--visually\" id=\"sk-estimator-id-57\" type=\"checkbox\" ><label for=\"sk-estimator-id-57\" class=\"sk-toggleable__label sk-toggleable__label-arrow\">StandardScaler</label><div class=\"sk-toggleable__content\"><pre>StandardScaler()</pre></div></div></div><div class=\"sk-item sk-dashed-wrapped\"><div class=\"sk-label-container\"><div class=\"sk-label sk-toggleable\"><input class=\"sk-toggleable__control sk-hidden--visually\" id=\"sk-estimator-id-58\" type=\"checkbox\" ><label for=\"sk-estimator-id-58\" class=\"sk-toggleable__label sk-toggleable__label-arrow\">lightgbm: MultiOutputRegressor</label><div class=\"sk-toggleable__content\"><pre>MultiOutputRegressor(estimator=LGBMRegressor(bagging_temperature=0.723581157155692,\n",
       "                                             border_count=121, depth=9,\n",
       "                                             iterations=283,\n",
       "                                             l2_leaf_reg=0.007772854117832913,\n",
       "                                             learning_rate=0.1284099463835756,\n",
       "                                             random_strength=1.2390735992304358,\n",
       "                                             verbose=-1))</pre></div></div></div><div class=\"sk-parallel\"><div class=\"sk-parallel-item\"><div class=\"sk-item\"><div class=\"sk-label-container\"><div class=\"sk-label sk-toggleable\"><input class=\"sk-toggleable__control sk-hidden--visually\" id=\"sk-estimator-id-59\" type=\"checkbox\" ><label for=\"sk-estimator-id-59\" class=\"sk-toggleable__label sk-toggleable__label-arrow\">estimator: LGBMRegressor</label><div class=\"sk-toggleable__content\"><pre>LGBMRegressor(bagging_temperature=0.723581157155692, border_count=121, depth=9,\n",
       "              iterations=283, l2_leaf_reg=0.007772854117832913,\n",
       "              learning_rate=0.1284099463835756,\n",
       "              random_strength=1.2390735992304358, verbose=-1)</pre></div></div></div><div class=\"sk-serial\"><div class=\"sk-item\"><div class=\"sk-estimator sk-toggleable\"><input class=\"sk-toggleable__control sk-hidden--visually\" id=\"sk-estimator-id-60\" type=\"checkbox\" ><label for=\"sk-estimator-id-60\" class=\"sk-toggleable__label sk-toggleable__label-arrow\">LGBMRegressor</label><div class=\"sk-toggleable__content\"><pre>LGBMRegressor(bagging_temperature=0.723581157155692, border_count=121, depth=9,\n",
       "              iterations=283, l2_leaf_reg=0.007772854117832913,\n",
       "              learning_rate=0.1284099463835756,\n",
       "              random_strength=1.2390735992304358, verbose=-1)</pre></div></div></div></div></div></div></div></div></div></div></div></div>"
      ],
      "text/plain": [
       "Pipeline(steps=[('preprocessing', StandardScaler()),\n",
       "                ('lightgbm',\n",
       "                 MultiOutputRegressor(estimator=LGBMRegressor(bagging_temperature=0.723581157155692,\n",
       "                                                              border_count=121,\n",
       "                                                              depth=9,\n",
       "                                                              iterations=283,\n",
       "                                                              l2_leaf_reg=0.007772854117832913,\n",
       "                                                              learning_rate=0.1284099463835756,\n",
       "                                                              random_strength=1.2390735992304358,\n",
       "                                                              verbose=-1)))])"
      ]
     },
     "execution_count": 54,
     "metadata": {},
     "output_type": "execute_result"
    }
   ],
   "source": [
    "best_lightgbm_reg = Pipeline([\n",
    "        ('preprocessing', StandardScaler()),\n",
    "        ('lightgbm', MultiOutputRegressor(\n",
    "            LGBMRegressor(**best_params_lightlbm, verbose = -1)\n",
    "        ))\n",
    "    ])\n",
    "\n",
    "best_lightgbm_reg.fit(X_train, y_train)"
   ]
  },
  {
   "cell_type": "code",
   "execution_count": 55,
   "id": "5f83ff6c",
   "metadata": {},
   "outputs": [
    {
     "name": "stdout",
     "output_type": "stream",
     "text": [
      "      Training set  Validation set  Testing set\n",
      "RMSE      0.071264        0.077176     0.075660\n",
      "MAE       0.054296        0.058638     0.057744\n"
     ]
    }
   ],
   "source": [
    "print_error_in_sets(best_lightgbm_reg)"
   ]
  },
  {
   "cell_type": "markdown",
   "id": "73778fbf",
   "metadata": {},
   "source": [
    "### Neural network"
   ]
  },
  {
   "cell_type": "code",
   "execution_count": 56,
   "id": "562f3029",
   "metadata": {},
   "outputs": [],
   "source": [
    "X_train = preprocessing.fit_transform(X_train)\n",
    "X_valid = preprocessing.transform(X_valid)"
   ]
  },
  {
   "cell_type": "code",
   "execution_count": 57,
   "id": "cf7e602a",
   "metadata": {},
   "outputs": [
    {
     "data": {
      "text/plain": [
       "(30573, 16)"
      ]
     },
     "execution_count": 57,
     "metadata": {},
     "output_type": "execute_result"
    }
   ],
   "source": [
    "X_train.shape"
   ]
  },
  {
   "cell_type": "code",
   "execution_count": 58,
   "id": "53ffb9ac",
   "metadata": {},
   "outputs": [
    {
     "name": "stdout",
     "output_type": "stream",
     "text": [
      "Epoch 1/20\n",
      "956/956 [==============================] - 5s 5ms/step - loss: 0.1270 - root_mean_squared_error: 0.3564 - val_loss: 0.0500 - val_root_mean_squared_error: 0.2236\n",
      "Epoch 2/20\n",
      "956/956 [==============================] - 4s 4ms/step - loss: 0.0405 - root_mean_squared_error: 0.2011 - val_loss: 0.0340 - val_root_mean_squared_error: 0.1843\n",
      "Epoch 3/20\n",
      "956/956 [==============================] - 4s 4ms/step - loss: 0.0290 - root_mean_squared_error: 0.1704 - val_loss: 0.0258 - val_root_mean_squared_error: 0.1607\n",
      "Epoch 4/20\n",
      "956/956 [==============================] - 4s 4ms/step - loss: 0.0230 - root_mean_squared_error: 0.1515 - val_loss: 0.0216 - val_root_mean_squared_error: 0.1470\n",
      "Epoch 5/20\n",
      "956/956 [==============================] - 4s 4ms/step - loss: 0.0197 - root_mean_squared_error: 0.1404 - val_loss: 0.0190 - val_root_mean_squared_error: 0.1380\n",
      "Epoch 6/20\n",
      "956/956 [==============================] - 4s 4ms/step - loss: 0.0177 - root_mean_squared_error: 0.1330 - val_loss: 0.0175 - val_root_mean_squared_error: 0.1323\n",
      "Epoch 7/20\n",
      "956/956 [==============================] - 4s 4ms/step - loss: 0.0162 - root_mean_squared_error: 0.1272 - val_loss: 0.0161 - val_root_mean_squared_error: 0.1269\n",
      "Epoch 8/20\n",
      "956/956 [==============================] - 4s 4ms/step - loss: 0.0151 - root_mean_squared_error: 0.1229 - val_loss: 0.0152 - val_root_mean_squared_error: 0.1232\n",
      "Epoch 9/20\n",
      "956/956 [==============================] - 4s 4ms/step - loss: 0.0142 - root_mean_squared_error: 0.1193 - val_loss: 0.0144 - val_root_mean_squared_error: 0.1200\n",
      "Epoch 10/20\n",
      "956/956 [==============================] - 4s 4ms/step - loss: 0.0135 - root_mean_squared_error: 0.1163 - val_loss: 0.0139 - val_root_mean_squared_error: 0.1178\n",
      "Epoch 11/20\n",
      "956/956 [==============================] - 4s 4ms/step - loss: 0.0130 - root_mean_squared_error: 0.1141 - val_loss: 0.0133 - val_root_mean_squared_error: 0.1154\n",
      "Epoch 12/20\n",
      "956/956 [==============================] - 4s 4ms/step - loss: 0.0126 - root_mean_squared_error: 0.1121 - val_loss: 0.0129 - val_root_mean_squared_error: 0.1136\n",
      "Epoch 13/20\n",
      "956/956 [==============================] - 4s 4ms/step - loss: 0.0122 - root_mean_squared_error: 0.1105 - val_loss: 0.0126 - val_root_mean_squared_error: 0.1121\n",
      "Epoch 14/20\n",
      "956/956 [==============================] - 4s 4ms/step - loss: 0.0119 - root_mean_squared_error: 0.1091 - val_loss: 0.0123 - val_root_mean_squared_error: 0.1111\n",
      "Epoch 15/20\n",
      "956/956 [==============================] - 5s 5ms/step - loss: 0.0116 - root_mean_squared_error: 0.1079 - val_loss: 0.0121 - val_root_mean_squared_error: 0.1098\n",
      "Epoch 16/20\n",
      "956/956 [==============================] - 4s 5ms/step - loss: 0.0114 - root_mean_squared_error: 0.1069 - val_loss: 0.0118 - val_root_mean_squared_error: 0.1088\n",
      "Epoch 17/20\n",
      "956/956 [==============================] - 4s 4ms/step - loss: 0.0112 - root_mean_squared_error: 0.1059 - val_loss: 0.0116 - val_root_mean_squared_error: 0.1077\n",
      "Epoch 18/20\n",
      "956/956 [==============================] - 4s 4ms/step - loss: 0.0110 - root_mean_squared_error: 0.1051 - val_loss: 0.0116 - val_root_mean_squared_error: 0.1079\n",
      "Epoch 19/20\n",
      "956/956 [==============================] - 4s 5ms/step - loss: 0.0109 - root_mean_squared_error: 0.1042 - val_loss: 0.0113 - val_root_mean_squared_error: 0.1061\n",
      "Epoch 20/20\n",
      "956/956 [==============================] - 5s 5ms/step - loss: 0.0107 - root_mean_squared_error: 0.1034 - val_loss: 0.0114 - val_root_mean_squared_error: 0.1069\n"
     ]
    }
   ],
   "source": [
    "model = tf.keras.Sequential([\n",
    "    tf.keras.Input(shape = (16, )),\n",
    "    tf.keras.layers.Dense(32, activation=\"relu\"),\n",
    "    tf.keras.layers.Dense(64, activation=\"relu\"),\n",
    "    tf.keras.layers.Dense(128, activation=\"relu\"),\n",
    "    tf.keras.layers.Dense(3)\n",
    "])\n",
    "\n",
    "optimizer = tf.keras.optimizers.Adam(learning_rate= 0.0001)\n",
    "model.compile(loss=\"mse\", optimizer=optimizer, metrics=[\"RootMeanSquaredError\"])\n",
    "history = model.fit(X_train, y_train, epochs = 20,\n",
    "                    validation_data=(X_valid, y_valid))"
   ]
  },
  {
   "cell_type": "code",
   "execution_count": 59,
   "id": "6cabd17d",
   "metadata": {},
   "outputs": [
    {
     "data": {
      "image/png": "[encoded data removed]",
      "text/plain": [
       "<Figure size 800x500 with 1 Axes>"
      ]
     },
     "metadata": {},
     "output_type": "display_data"
    }
   ],
   "source": [
    "pd.DataFrame(history.history)[[\"root_mean_squared_error\", \"val_root_mean_squared_error\"]].plot(\n",
    "    figsize = (8, 5), grid = True, xlabel = 'Epoch',\n",
    "    style = ['r-*', 'b--*'])\n",
    "\n",
    "plt.show()"
   ]
  },
  {
   "cell_type": "code",
   "execution_count": 60,
   "id": "a635d66f",
   "metadata": {},
   "outputs": [
    {
     "name": "stdout",
     "output_type": "stream",
     "text": [
      "410/410 [==============================] - 1s 3ms/step - loss: 0.0114 - root_mean_squared_error: 0.1069\n"
     ]
    },
    {
     "data": {
      "text/plain": [
       "[0.011421640403568745, 0.10687205940485]"
      ]
     },
     "execution_count": 60,
     "metadata": {},
     "output_type": "execute_result"
    }
   ],
   "source": [
    "model.evaluate(X_valid, y_valid)"
   ]
  },
  {
   "cell_type": "code",
   "execution_count": 61,
   "id": "b5ed996b",
   "metadata": {},
   "outputs": [],
   "source": [
    "def objective(trial):\n",
    "    model = tf.keras.Sequential()\n",
    "    model.add(tf.keras.Input(shape = (16, )))\n",
    "\n",
    "    n_layers = trial.suggest_int('n_layers', 2, 5)\n",
    "    for i in range(n_layers):\n",
    "        n_units = trial.suggest_int(f'n_units_{i}', 16, 128)\n",
    "        activation = trial.suggest_categorical(f'activation_{i}', ['relu', 'sigmoid', 'relu'])\n",
    "        model.add(tf.keras.layers.Dense(n_units, activation=\"relu\"))\n",
    "\n",
    "        dropout_rate = trial.suggest_float(f'dropout_rate_{i}', 0.0, 0.3)\n",
    "        model.add(tf.keras.layers.Dropout(dropout_rate))\n",
    "\n",
    "    model.add(tf.keras.layers.Dense(3))\n",
    "\n",
    "    lr = trial.suggest_float(\"lr\", 1e-5, 1e-3, log=True)\n",
    "    epochs = trial.suggest_int('epochs', 10, 50)\n",
    "    optimizer = tf.keras.optimizers.Adam(learning_rate= lr)\n",
    "    model.compile(loss=\"mse\", optimizer=optimizer, metrics=[\"RootMeanSquaredError\"])\n",
    "\n",
    "    model.fit(X_train, y_train, epochs = epochs,\n",
    "                    validation_data=(X_valid, y_valid), verbose = 0)\n",
    "\n",
    "    mse, rmse = model.evaluate(X_valid, y_valid)\n",
    "    return rmse"
   ]
  },
  {
   "cell_type": "code",
   "execution_count": 62,
   "id": "e1cdd794",
   "metadata": {},
   "outputs": [],
   "source": [
    "# study = optuna.create_study(direction='minimize')\n",
    "# study.optimize(objective, n_trials= 50)"
   ]
  },
  {
   "cell_type": "code",
   "execution_count": 63,
   "id": "a921774e",
   "metadata": {},
   "outputs": [],
   "source": [
    "# study.best_params"
   ]
  },
  {
   "attachments": {
    "image-2.png": {
     "image/png": "[encoded data removed]"
    }
   },
   "cell_type": "markdown",
   "id": "3e2f4ac7",
   "metadata": {},
   "source": [
    "![image-2.png](attachment:image-2.png)"
   ]
  },
  {
   "cell_type": "code",
   "execution_count": 64,
   "id": "d73204d2",
   "metadata": {},
   "outputs": [
    {
     "name": "stdout",
     "output_type": "stream",
     "text": [
      "Epoch 1/38\n"
     ]
    },
    {
     "name": "stdout",
     "output_type": "stream",
     "text": [
      "956/956 [==============================] - 7s 6ms/step - loss: 0.0675 - root_mean_squared_error: 0.2599 - val_loss: 0.0260 - val_root_mean_squared_error: 0.1613\n",
      "Epoch 2/38\n",
      "956/956 [==============================] - 5s 5ms/step - loss: 0.0333 - root_mean_squared_error: 0.1826 - val_loss: 0.0200 - val_root_mean_squared_error: 0.1413\n",
      "Epoch 3/38\n",
      "956/956 [==============================] - 5s 5ms/step - loss: 0.0268 - root_mean_squared_error: 0.1637 - val_loss: 0.0170 - val_root_mean_squared_error: 0.1303\n",
      "Epoch 4/38\n",
      "956/956 [==============================] - 5s 6ms/step - loss: 0.0233 - root_mean_squared_error: 0.1526 - val_loss: 0.0161 - val_root_mean_squared_error: 0.1269\n",
      "Epoch 5/38\n",
      "956/956 [==============================] - 6s 6ms/step - loss: 0.0211 - root_mean_squared_error: 0.1452 - val_loss: 0.0147 - val_root_mean_squared_error: 0.1213\n",
      "Epoch 6/38\n",
      "956/956 [==============================] - 5s 6ms/step - loss: 0.0195 - root_mean_squared_error: 0.1398 - val_loss: 0.0134 - val_root_mean_squared_error: 0.1158\n",
      "Epoch 7/38\n",
      "956/956 [==============================] - 6s 6ms/step - loss: 0.0182 - root_mean_squared_error: 0.1349 - val_loss: 0.0130 - val_root_mean_squared_error: 0.1142\n",
      "Epoch 8/38\n",
      "956/956 [==============================] - 5s 5ms/step - loss: 0.0174 - root_mean_squared_error: 0.1317 - val_loss: 0.0127 - val_root_mean_squared_error: 0.1126\n",
      "Epoch 9/38\n",
      "956/956 [==============================] - 5s 5ms/step - loss: 0.0165 - root_mean_squared_error: 0.1286 - val_loss: 0.0122 - val_root_mean_squared_error: 0.1102\n",
      "Epoch 10/38\n",
      "956/956 [==============================] - 5s 5ms/step - loss: 0.0159 - root_mean_squared_error: 0.1262 - val_loss: 0.0121 - val_root_mean_squared_error: 0.1101\n",
      "Epoch 11/38\n",
      "956/956 [==============================] - 7s 8ms/step - loss: 0.0154 - root_mean_squared_error: 0.1243 - val_loss: 0.0119 - val_root_mean_squared_error: 0.1090\n",
      "Epoch 12/38\n",
      "956/956 [==============================] - 9s 10ms/step - loss: 0.0150 - root_mean_squared_error: 0.1226 - val_loss: 0.0114 - val_root_mean_squared_error: 0.1065\n",
      "Epoch 13/38\n",
      "956/956 [==============================] - 6s 6ms/step - loss: 0.0146 - root_mean_squared_error: 0.1207 - val_loss: 0.0111 - val_root_mean_squared_error: 0.1056\n",
      "Epoch 14/38\n",
      "956/956 [==============================] - 6s 7ms/step - loss: 0.0143 - root_mean_squared_error: 0.1197 - val_loss: 0.0110 - val_root_mean_squared_error: 0.1049\n",
      "Epoch 15/38\n",
      "956/956 [==============================] - 5s 5ms/step - loss: 0.0140 - root_mean_squared_error: 0.1184 - val_loss: 0.0104 - val_root_mean_squared_error: 0.1021\n",
      "Epoch 16/38\n",
      "956/956 [==============================] - 5s 5ms/step - loss: 0.0138 - root_mean_squared_error: 0.1174 - val_loss: 0.0103 - val_root_mean_squared_error: 0.1016\n",
      "Epoch 17/38\n",
      "956/956 [==============================] - 5s 5ms/step - loss: 0.0135 - root_mean_squared_error: 0.1162 - val_loss: 0.0106 - val_root_mean_squared_error: 0.1031\n",
      "Epoch 18/38\n",
      "956/956 [==============================] - 5s 5ms/step - loss: 0.0132 - root_mean_squared_error: 0.1151 - val_loss: 0.0106 - val_root_mean_squared_error: 0.1028\n",
      "Epoch 19/38\n",
      "956/956 [==============================] - 5s 5ms/step - loss: 0.0131 - root_mean_squared_error: 0.1145 - val_loss: 0.0103 - val_root_mean_squared_error: 0.1016\n",
      "Epoch 20/38\n",
      "956/956 [==============================] - 5s 6ms/step - loss: 0.0130 - root_mean_squared_error: 0.1141 - val_loss: 0.0102 - val_root_mean_squared_error: 0.1011\n",
      "Epoch 21/38\n",
      "956/956 [==============================] - 5s 5ms/step - loss: 0.0129 - root_mean_squared_error: 0.1136 - val_loss: 0.0104 - val_root_mean_squared_error: 0.1022\n",
      "Epoch 22/38\n",
      "956/956 [==============================] - 5s 5ms/step - loss: 0.0127 - root_mean_squared_error: 0.1129 - val_loss: 0.0099 - val_root_mean_squared_error: 0.0997\n",
      "Epoch 23/38\n",
      "956/956 [==============================] - 5s 5ms/step - loss: 0.0126 - root_mean_squared_error: 0.1124 - val_loss: 0.0098 - val_root_mean_squared_error: 0.0988\n",
      "Epoch 24/38\n",
      "956/956 [==============================] - 7s 7ms/step - loss: 0.0124 - root_mean_squared_error: 0.1114 - val_loss: 0.0100 - val_root_mean_squared_error: 0.1002\n",
      "Epoch 25/38\n",
      "956/956 [==============================] - 5s 6ms/step - loss: 0.0123 - root_mean_squared_error: 0.1110 - val_loss: 0.0097 - val_root_mean_squared_error: 0.0983\n",
      "Epoch 26/38\n",
      "956/956 [==============================] - 6s 6ms/step - loss: 0.0123 - root_mean_squared_error: 0.1107 - val_loss: 0.0099 - val_root_mean_squared_error: 0.0993\n",
      "Epoch 27/38\n",
      "956/956 [==============================] - 6s 6ms/step - loss: 0.0121 - root_mean_squared_error: 0.1101 - val_loss: 0.0096 - val_root_mean_squared_error: 0.0980\n",
      "Epoch 28/38\n",
      "956/956 [==============================] - 5s 5ms/step - loss: 0.0121 - root_mean_squared_error: 0.1099 - val_loss: 0.0096 - val_root_mean_squared_error: 0.0981\n",
      "Epoch 29/38\n",
      "956/956 [==============================] - 6s 6ms/step - loss: 0.0120 - root_mean_squared_error: 0.1096 - val_loss: 0.0096 - val_root_mean_squared_error: 0.0982\n",
      "Epoch 30/38\n",
      "956/956 [==============================] - 6s 6ms/step - loss: 0.0119 - root_mean_squared_error: 0.1090 - val_loss: 0.0097 - val_root_mean_squared_error: 0.0986\n",
      "Epoch 31/38\n",
      "956/956 [==============================] - 5s 5ms/step - loss: 0.0119 - root_mean_squared_error: 0.1091 - val_loss: 0.0093 - val_root_mean_squared_error: 0.0966\n",
      "Epoch 32/38\n",
      "956/956 [==============================] - 5s 5ms/step - loss: 0.0118 - root_mean_squared_error: 0.1086 - val_loss: 0.0095 - val_root_mean_squared_error: 0.0976\n",
      "Epoch 33/38\n",
      "956/956 [==============================] - 7s 7ms/step - loss: 0.0115 - root_mean_squared_error: 0.1074 - val_loss: 0.0092 - val_root_mean_squared_error: 0.0961\n",
      "Epoch 34/38\n",
      "956/956 [==============================] - 6s 6ms/step - loss: 0.0116 - root_mean_squared_error: 0.1079 - val_loss: 0.0096 - val_root_mean_squared_error: 0.0981\n",
      "Epoch 35/38\n",
      "956/956 [==============================] - 5s 5ms/step - loss: 0.0115 - root_mean_squared_error: 0.1075 - val_loss: 0.0091 - val_root_mean_squared_error: 0.0953\n",
      "Epoch 36/38\n",
      "956/956 [==============================] - 5s 5ms/step - loss: 0.0115 - root_mean_squared_error: 0.1073 - val_loss: 0.0094 - val_root_mean_squared_error: 0.0967\n",
      "Epoch 37/38\n",
      "956/956 [==============================] - 5s 6ms/step - loss: 0.0114 - root_mean_squared_error: 0.1067 - val_loss: 0.0092 - val_root_mean_squared_error: 0.0959\n",
      "Epoch 38/38\n",
      "956/956 [==============================] - 5s 5ms/step - loss: 0.0114 - root_mean_squared_error: 0.1067 - val_loss: 0.0095 - val_root_mean_squared_error: 0.0972\n"
     ]
    }
   ],
   "source": [
    "best_model = tf.keras.Sequential([\n",
    "    tf.keras.Input(shape = (16, )),\n",
    "    tf.keras.layers.Dense(105, activation=\"relu\"),\n",
    "    tf.keras.layers.Dropout(0.1530990966487099),\n",
    "    tf.keras.layers.Dense(126, activation=\"relu\"),\n",
    "    tf.keras.layers.Dropout(0.2734182696091049),\n",
    "    tf.keras.layers.Dense(51, activation=\"sigmoid\"),\n",
    "    tf.keras.layers.Dropout(0.06463399823873693),\n",
    "    tf.keras.layers.Dense(62, activation=\"relu\"),\n",
    "    tf.keras.layers.Dropout(0.017601390552227092),\n",
    "    tf.keras.layers.Dense(3)\n",
    "])\n",
    "\n",
    "optimizer = tf.keras.optimizers.Adam(learning_rate= 0.00040668076199512805)\n",
    "\n",
    "best_model.compile(loss=\"mse\", optimizer=optimizer, metrics=[\"RootMeanSquaredError\"])\n",
    "history = best_model.fit(X_train, y_train, epochs = 38,\n",
    "                    validation_data=(X_valid, y_valid))"
   ]
  },
  {
   "cell_type": "code",
   "execution_count": 65,
   "id": "d958a87d",
   "metadata": {},
   "outputs": [
    {
     "data": {
      "image/png": "[encoded data removed]",
      "text/plain": [
       "<Figure size 800x500 with 1 Axes>"
      ]
     },
     "metadata": {},
     "output_type": "display_data"
    }
   ],
   "source": [
    "pd.DataFrame(history.history)[[\"root_mean_squared_error\", \"val_root_mean_squared_error\"]].plot(\n",
    "    figsize = (8, 5), grid = True, xlabel = 'Epoch',\n",
    "    style = ['r-*', 'b--*'])\n",
    "\n",
    "plt.show()"
   ]
  },
  {
   "cell_type": "code",
   "execution_count": 66,
   "id": "aefaa191",
   "metadata": {},
   "outputs": [],
   "source": [
    "X_test = preprocessing.transform(X_test)"
   ]
  },
  {
   "cell_type": "code",
   "execution_count": 67,
   "id": "9552f2f2",
   "metadata": {},
   "outputs": [
    {
     "data": {
      "text/plain": [
       "((10920, 16), (30573, 16), (13104, 16))"
      ]
     },
     "execution_count": 67,
     "metadata": {},
     "output_type": "execute_result"
    }
   ],
   "source": [
    "X_test.shape, X_train.shape, X_valid.shape"
   ]
  },
  {
   "cell_type": "code",
   "execution_count": 68,
   "id": "39dfad18",
   "metadata": {},
   "outputs": [],
   "source": [
    "def print_error_in_sets(model, X_train = X_train, y_train = y_train,\n",
    "                        X_valid = X_valid, y_valid = y_valid, X_test = X_test, y_test = y_test):\n",
    "    train_rmse, train_mae = get_metrics(model, X_train, y_train)\n",
    "    valid_rmse, valid_mae = get_metrics(model, X_valid, y_valid)\n",
    "    test_rmse, test_mae = get_metrics(model, X_test, y_test)\n",
    "\n",
    "    metrics = {'Training set' : [train_rmse, train_mae], \n",
    "               'Validation set' : [valid_rmse, valid_mae], \n",
    "               'Testing set': [test_rmse, test_mae]}\n",
    "    \n",
    "    df_metrics = pd.DataFrame(metrics, index = ['RMSE', 'MAE'])\n",
    "    print (df_metrics)"
   ]
  },
  {
   "cell_type": "code",
   "execution_count": 69,
   "id": "b51c569a",
   "metadata": {},
   "outputs": [
    {
     "name": "stdout",
     "output_type": "stream",
     "text": [
      "956/956 [==============================] - 4s 2ms/step\n",
      "410/410 [==============================] - 1s 2ms/step\n",
      "342/342 [==============================] - 1s 2ms/step\n",
      "      Training set  Validation set  Testing set\n",
      "RMSE      0.090836        0.092320     0.091298\n",
      "MAE       0.069863        0.070893     0.070461\n"
     ]
    }
   ],
   "source": [
    "print_error_in_sets(best_model, X_train = X_train, y_train = y_train,\n",
    "                        X_valid = X_valid, y_valid = y_valid, X_test = X_test, y_test = y_test)"
   ]
  },
  {
   "cell_type": "code",
   "execution_count": 71,
   "id": "3d111d5b",
   "metadata": {},
   "outputs": [
    {
     "name": "stdout",
     "output_type": "stream",
     "text": [
      "Reloading Tuner from my_dir\\surface_classification\\tuner0.json\n"
     ]
    }
   ],
   "source": [
    "import keras_tuner as kt\n",
    "\n",
    "def model_builder(hp):\n",
    "    model = tf.keras.Sequential()\n",
    "    model.add(tf.keras.Input(shape=(16,)))\n",
    "\n",
    "    # Tune the number of layers\n",
    "    hp_layers = hp.Int('num_layers', min_value=2, max_value=5, step=1)\n",
    "    for i in range(hp_layers):\n",
    "        # Tune the number of units in each layer\n",
    "        hp_units = hp.Int(f'units_{i}', min_value=32, max_value=512, step=32)\n",
    "        \n",
    "        # Tune the activation function for each layer\n",
    "        hp_activation = hp.Choice(f'activation_{i}', values=['relu', 'sigmoid', 'tanh'])\n",
    "        \n",
    "        model.add(tf.keras.layers.Dense(units=hp_units, activation=hp_activation))\n",
    "\n",
    "        # Tune the dropout rate for each layer\n",
    "        hp_dropout = hp.Float(f'dropout_{i}', min_value=0.0, max_value=0.5, step=0.1)\n",
    "        model.add(tf.keras.layers.Dropout(rate=hp_dropout))\n",
    "\n",
    "    # Output layer\n",
    "    model.add(tf.keras.layers.Dense(3))\n",
    "\n",
    "    # Tune the learning rate\n",
    "    hp_learning_rate = hp.Choice('learning_rate', values=[1e-2, 1e-3, 1e-4])\n",
    "\n",
    "    # Tune the number of epochs\n",
    "    hp_epochs = hp.Int('epochs', min_value=10, max_value=50, step=10)\n",
    "\n",
    "    model.compile(optimizer=tf.keras.optimizers.Adam(learning_rate=hp_learning_rate),\n",
    "                  loss='mse',\n",
    "                  metrics=['RootMeanSquaredError'])\n",
    "\n",
    "    return model\n",
    "\n",
    "tuner = kt.RandomSearch(\n",
    "    model_builder,\n",
    "    objective='val_loss',  # or 'val_RootMeanSquaredError'\n",
    "    max_trials=10, \n",
    "    executions_per_trial=3,\n",
    "    directory='my_dir',  \n",
    "    project_name='surface_classification'\n",
    ")\n",
    "\n",
    "tuner.search(X_train, y_train, epochs=10, validation_data=(X_valid, y_valid)) "
   ]
  },
  {
   "cell_type": "code",
   "execution_count": 74,
   "id": "8394cf67",
   "metadata": {},
   "outputs": [
    {
     "name": "stdout",
     "output_type": "stream",
     "text": [
      "342/342 [==============================] - 1s 3ms/step - loss: 0.0092 - root_mean_squared_error: 0.0962\n",
      "Test loss: 0.009245584718883038\n",
      "Test RMSE: 0.09615395218133926\n"
     ]
    }
   ],
   "source": [
    "best_hyperparameters = tuner.get_best_hyperparameters(num_trials=1)[0]\n",
    "\n",
    "loss, rmse = best_model.evaluate(X_test, y_test)\n",
    "print(f\"Test loss: {loss}\")\n",
    "print(f\"Test RMSE: {rmse}\")"
   ]
  },
  {
   "cell_type": "code",
   "execution_count": 79,
   "id": "9eb6ba99",
   "metadata": {},
   "outputs": [
    {
     "data": {
      "text/plain": [
       "{'num_layers': 3,\n",
       " 'units_0': 512,\n",
       " 'activation_0': 'tanh',\n",
       " 'dropout_0': 0.2,\n",
       " 'units_1': 160,\n",
       " 'activation_1': 'tanh',\n",
       " 'dropout_1': 0.2,\n",
       " 'learning_rate': 0.001,\n",
       " 'epochs': 50,\n",
       " 'units_2': 64,\n",
       " 'activation_2': 'sigmoid',\n",
       " 'dropout_2': 0.0}"
      ]
     },
     "execution_count": 79,
     "metadata": {},
     "output_type": "execute_result"
    }
   ],
   "source": [
    "best_hyperparameters.values"
   ]
  },
  {
   "cell_type": "code",
   "execution_count": 75,
   "id": "fbf7d3bf",
   "metadata": {},
   "outputs": [],
   "source": [
    "best_model = tuner.hypermodel.build(best_hyperparameters)"
   ]
  },
  {
   "cell_type": "code",
   "execution_count": 78,
   "id": "363c041a",
   "metadata": {},
   "outputs": [
    {
     "name": "stdout",
     "output_type": "stream",
     "text": [
      "Epoch 1/20\n",
      "956/956 [==============================] - 6s 5ms/step - loss: 0.0462 - root_mean_squared_error: 0.2149 - val_loss: 0.0152 - val_root_mean_squared_error: 0.1234\n",
      "Epoch 2/20\n",
      "956/956 [==============================] - 5s 5ms/step - loss: 0.0174 - root_mean_squared_error: 0.1319 - val_loss: 0.0124 - val_root_mean_squared_error: 0.1115\n",
      "Epoch 3/20\n",
      "956/956 [==============================] - 5s 5ms/step - loss: 0.0153 - root_mean_squared_error: 0.1239 - val_loss: 0.0122 - val_root_mean_squared_error: 0.1106\n",
      "Epoch 4/20\n",
      "956/956 [==============================] - 6s 7ms/step - loss: 0.0144 - root_mean_squared_error: 0.1198 - val_loss: 0.0117 - val_root_mean_squared_error: 0.1082\n",
      "Epoch 5/20\n",
      "956/956 [==============================] - 6s 6ms/step - loss: 0.0134 - root_mean_squared_error: 0.1158 - val_loss: 0.0108 - val_root_mean_squared_error: 0.1040\n",
      "Epoch 6/20\n",
      "956/956 [==============================] - 5s 6ms/step - loss: 0.0130 - root_mean_squared_error: 0.1138 - val_loss: 0.0107 - val_root_mean_squared_error: 0.1035\n",
      "Epoch 7/20\n",
      "956/956 [==============================] - 5s 6ms/step - loss: 0.0126 - root_mean_squared_error: 0.1121 - val_loss: 0.0103 - val_root_mean_squared_error: 0.1016\n",
      "Epoch 8/20\n",
      "956/956 [==============================] - 5s 6ms/step - loss: 0.0123 - root_mean_squared_error: 0.1107 - val_loss: 0.0105 - val_root_mean_squared_error: 0.1024\n",
      "Epoch 9/20\n",
      "956/956 [==============================] - 6s 6ms/step - loss: 0.0118 - root_mean_squared_error: 0.1086 - val_loss: 0.0099 - val_root_mean_squared_error: 0.0995\n",
      "Epoch 10/20\n",
      "956/956 [==============================] - 7s 7ms/step - loss: 0.0115 - root_mean_squared_error: 0.1072 - val_loss: 0.0099 - val_root_mean_squared_error: 0.0996\n",
      "Epoch 11/20\n",
      "956/956 [==============================] - 6s 6ms/step - loss: 0.0114 - root_mean_squared_error: 0.1066 - val_loss: 0.0092 - val_root_mean_squared_error: 0.0959\n",
      "Epoch 12/20\n",
      "956/956 [==============================] - 6s 6ms/step - loss: 0.0112 - root_mean_squared_error: 0.1059 - val_loss: 0.0093 - val_root_mean_squared_error: 0.0962\n",
      "Epoch 13/20\n",
      "956/956 [==============================] - 5s 6ms/step - loss: 0.0109 - root_mean_squared_error: 0.1044 - val_loss: 0.0092 - val_root_mean_squared_error: 0.0962\n",
      "Epoch 14/20\n",
      "956/956 [==============================] - 5s 6ms/step - loss: 0.0109 - root_mean_squared_error: 0.1045 - val_loss: 0.0093 - val_root_mean_squared_error: 0.0965\n",
      "Epoch 15/20\n",
      "956/956 [==============================] - 5s 6ms/step - loss: 0.0109 - root_mean_squared_error: 0.1042 - val_loss: 0.0097 - val_root_mean_squared_error: 0.0984\n",
      "Epoch 16/20\n",
      "956/956 [==============================] - 5s 6ms/step - loss: 0.0108 - root_mean_squared_error: 0.1039 - val_loss: 0.0094 - val_root_mean_squared_error: 0.0970\n",
      "Epoch 17/20\n",
      "956/956 [==============================] - 5s 6ms/step - loss: 0.0106 - root_mean_squared_error: 0.1028 - val_loss: 0.0090 - val_root_mean_squared_error: 0.0951\n",
      "Epoch 18/20\n",
      "956/956 [==============================] - 6s 6ms/step - loss: 0.0104 - root_mean_squared_error: 0.1019 - val_loss: 0.0091 - val_root_mean_squared_error: 0.0953\n",
      "Epoch 19/20\n",
      "956/956 [==============================] - 5s 6ms/step - loss: 0.0104 - root_mean_squared_error: 0.1021 - val_loss: 0.0091 - val_root_mean_squared_error: 0.0956\n",
      "Epoch 20/20\n",
      "956/956 [==============================] - 6s 6ms/step - loss: 0.0103 - root_mean_squared_error: 0.1015 - val_loss: 0.0087 - val_root_mean_squared_error: 0.0934\n"
     ]
    }
   ],
   "source": [
    "history = best_model.fit(X_train, y_train,  epochs = 20, validation_data=(X_valid, y_valid))"
   ]
  },
  {
   "cell_type": "code",
   "execution_count": 80,
   "id": "de3d0b89",
   "metadata": {},
   "outputs": [
    {
     "name": "stdout",
     "output_type": "stream",
     "text": [
      "956/956 [==============================] - 2s 2ms/step\n",
      "410/410 [==============================] - 1s 3ms/step\n",
      "342/342 [==============================] - 1s 2ms/step\n",
      "      Training set  Validation set  Testing set\n",
      "RMSE      0.086798        0.088901     0.087352\n",
      "MAE       0.066709        0.068008     0.067329\n"
     ]
    }
   ],
   "source": [
    "print_error_in_sets(best_model, X_train = X_train, y_train = y_train,\n",
    "                        X_valid = X_valid, y_valid = y_valid, X_test = X_test, y_test = y_test)"
   ]
  },
  {
   "cell_type": "code",
   "execution_count": null,
   "id": "0447a643",
   "metadata": {},
   "outputs": [],
   "source": []
  }
 ],
 "metadata": {
  "kernelspec": {
   "display_name": "tf",
   "language": "python",
   "name": "python3"
  },
  "language_info": {
   "codemirror_mode": {
    "name": "ipython",
    "version": 3
   },
   "file_extension": ".py",
   "mimetype": "text/x-python",
   "name": "python",
   "nbconvert_exporter": "python",
   "pygments_lexer": "ipython3",
   "version": "3.10.13"
  }
 },
 "nbformat": 4,
 "nbformat_minor": 5
}
