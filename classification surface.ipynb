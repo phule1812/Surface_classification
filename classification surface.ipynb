{
 "cells": [
  {
   "cell_type": "code",
   "execution_count": 1,
   "id": "bb85358f",
   "metadata": {
    "tags": []
   },
   "outputs": [],
   "source": [
    "import numpy as np\n",
    "import pandas as pd\n",
    "import matplotlib.pyplot as plt\n",
    "import seaborn as sns\n",
    "import warnings\n",
    "warnings.filterwarnings('ignore')"
   ]
  },
  {
   "cell_type": "code",
   "execution_count": 2,
   "id": "fc720dac-fdf9-4a90-a376-8189930a43ad",
   "metadata": {
    "tags": []
   },
   "outputs": [],
   "source": [
    "custom_palette = [\"gray\", \"green\", \"antiquewhite\"]\n",
    "sns.set_palette(custom_palette)\n",
    "sns.set_style(\"darkgrid\")"
   ]
  },
  {
   "cell_type": "code",
   "execution_count": 3,
   "id": "d3a7ffab",
   "metadata": {
    "tags": []
   },
   "outputs": [],
   "source": [
    "df_gray = pd.read_csv('dataset/gray_surface.csv', sep = ';').drop(columns = ['Unnamed: 43'])\n",
    "df_green = pd.read_csv('dataset/green_surface.csv', sep = ';').drop(columns = ['Unnamed: 43'])\n",
    "df_table = pd.read_csv('dataset/table_surface.csv', sep = ';').drop(columns = ['Unnamed: 43'])"
   ]
  },
  {
   "cell_type": "code",
   "execution_count": 4,
   "id": "b32eb0c3-ff47-44bc-bfa7-2d69df7b1e74",
   "metadata": {
    "tags": []
   },
   "outputs": [
    {
     "name": "stdout",
     "output_type": "stream",
     "text": [
      "<class 'pandas.core.frame.DataFrame'>\n",
      "RangeIndex: 21560 entries, 0 to 21559\n",
      "Data columns (total 43 columns):\n",
      " #   Column                         Non-Null Count  Dtype \n",
      "---  ------                         --------------  ----- \n",
      " 0   Movement direction             21560 non-null  object\n",
      " 1   Set robot speed along X axis   21560 non-null  object\n",
      " 2   Set robot speed along Y axis   21560 non-null  object\n",
      " 3   Set rotational robot velocity  21560 non-null  object\n",
      " 4   1st motor set speed            21560 non-null  object\n",
      " 5   2st motor set speed            21560 non-null  object\n",
      " 6   3st motor set speed            21560 non-null  object\n",
      " 7   1st motor position             21560 non-null  object\n",
      " 8   2nd motor position             21560 non-null  object\n",
      " 9   3rd motor position             21560 non-null  object\n",
      " 10  1st motor velocity             21560 non-null  object\n",
      " 11  2nd motor velocity             21560 non-null  object\n",
      " 12  3rd motor velocity             21560 non-null  object\n",
      " 13  1st motor current              21560 non-null  object\n",
      " 14  2nd motor current              21560 non-null  object\n",
      " 15  3rd motor current              21560 non-null  object\n",
      " 16  X axis current                 21560 non-null  object\n",
      " 17  Y axis curent                  21560 non-null  object\n",
      " 18  Rotational current             21560 non-null  object\n",
      " 19  X axis global position         21560 non-null  object\n",
      " 20  Y axis global position         21560 non-null  object\n",
      " 21  Angle                          21560 non-null  object\n",
      " 22  Delta X axis local position    21560 non-null  object\n",
      " 23  Delta Y axis local position    21560 non-null  object\n",
      " 24  Delta angle                    21560 non-null  object\n",
      " 25  Robot speed along X axis       21560 non-null  object\n",
      " 26  Robot speed along Y axis       21560 non-null  object\n",
      " 27  Robot rotational velocity      21560 non-null  object\n",
      " 28  Wheel 1 velocity               21560 non-null  object\n",
      " 29  Wheel 1 effective velocity     21560 non-null  object\n",
      " 30  Wheel 1 slippage               21560 non-null  object\n",
      " 31  Motor 1 voltage                21560 non-null  object\n",
      " 32  Motor 1 torque                 19639 non-null  object\n",
      " 33  Wheel 2 velocity               21560 non-null  object\n",
      " 34  Wheel 2 effective velocity     21560 non-null  object\n",
      " 35  Wheel 2 slippage               21560 non-null  object\n",
      " 36  Motor 2 voltage                21560 non-null  object\n",
      " 37  Motor 2 torque                 19346 non-null  object\n",
      " 38  Wheel 3 velocity               21560 non-null  object\n",
      " 39  Wheel 3 effective velocity     21560 non-null  object\n",
      " 40  Wheel 3 slippage               21560 non-null  object\n",
      " 41  Motor 3 voltage                21560 non-null  object\n",
      " 42  Motor 3 torque                 19758 non-null  object\n",
      "dtypes: object(43)\n",
      "memory usage: 7.1+ MB\n"
     ]
    }
   ],
   "source": [
    "df_gray.info()"
   ]
  },
  {
   "cell_type": "code",
   "execution_count": 5,
   "id": "887ee48c",
   "metadata": {
    "tags": []
   },
   "outputs": [],
   "source": [
    "def count_nan(df):\n",
    "    for column in df.columns:\n",
    "        numbers_nan_column = df[column].isna().sum()\n",
    "        if numbers_nan_column > 0:\n",
    "            print(f'Number of NaN in column {column}: {numbers_nan_column}')\n",
    "            print(f'Ratio  of Nan in columns {column}: {round(numbers_nan_column/df.shape[0]*100, 2)}%')"
   ]
  },
  {
   "cell_type": "code",
   "execution_count": 6,
   "id": "69a754e9",
   "metadata": {
    "tags": []
   },
   "outputs": [
    {
     "name": "stdout",
     "output_type": "stream",
     "text": [
      "Number of NaN in column Motor 1 torque: 1921\n",
      "Ratio  of Nan in columns Motor 1 torque: 8.91%\n",
      "Number of NaN in column Motor 2 torque: 2214\n",
      "Ratio  of Nan in columns Motor 2 torque: 10.27%\n",
      "Number of NaN in column Motor 3 torque: 1802\n",
      "Ratio  of Nan in columns Motor 3 torque: 8.36%\n"
     ]
    }
   ],
   "source": [
    "count_nan(df_gray)"
   ]
  },
  {
   "cell_type": "code",
   "execution_count": 7,
   "id": "9fe358fa",
   "metadata": {
    "tags": []
   },
   "outputs": [
    {
     "name": "stdout",
     "output_type": "stream",
     "text": [
      "Number of NaN in column Motor 1 torque: 2332\n",
      "Ratio  of Nan in columns Motor 1 torque: 9.17%\n",
      "Number of NaN in column Motor 2 torque: 2036\n",
      "Ratio  of Nan in columns Motor 2 torque: 8.0%\n",
      "Number of NaN in column Motor 3 torque: 2394\n",
      "Ratio  of Nan in columns Motor 3 torque: 9.41%\n"
     ]
    }
   ],
   "source": [
    "count_nan(df_green)"
   ]
  },
  {
   "cell_type": "code",
   "execution_count": 8,
   "id": "a19c9d21-d71e-4ba6-a8ea-9346d88d842b",
   "metadata": {
    "tags": []
   },
   "outputs": [
    {
     "name": "stdout",
     "output_type": "stream",
     "text": [
      "Number of NaN in column Motor 1 torque: 439\n",
      "Ratio  of Nan in columns Motor 1 torque: 5.77%\n",
      "Number of NaN in column Motor 2 torque: 617\n",
      "Ratio  of Nan in columns Motor 2 torque: 8.11%\n",
      "Number of NaN in column Motor 3 torque: 805\n",
      "Ratio  of Nan in columns Motor 3 torque: 10.58%\n"
     ]
    }
   ],
   "source": [
    "count_nan(df_table)"
   ]
  },
  {
   "cell_type": "code",
   "execution_count": 9,
   "id": "382e5304-1bfb-4671-bc29-e2bf979c7cd0",
   "metadata": {
    "tags": []
   },
   "outputs": [],
   "source": [
    "def fill_nan(df):\n",
    "    # Get only float value\n",
    "    df = df.iloc[2:].astype(\"float\")\n",
    "    for column in df.columns:\n",
    "        df[column].fillna(df[column].mean(), inplace = True)\n",
    "    return df"
   ]
  },
  {
   "cell_type": "code",
   "execution_count": 10,
   "id": "52b332f5-c0b8-4a5c-838f-1b2db6b33ca1",
   "metadata": {
    "tags": []
   },
   "outputs": [],
   "source": [
    "df_gray = fill_nan(df_gray)\n",
    "df_green = fill_nan(df_green)\n",
    "df_table = fill_nan(df_table)\n",
    "\n",
    "df_gray['color'] = \"gray\"\n",
    "df_green['color'] = \"green\"\n",
    "df_table['color'] = \"table\""
   ]
  },
  {
   "cell_type": "code",
   "execution_count": 11,
   "id": "8da65efc-1539-4743-81c0-f19aab14bcf4",
   "metadata": {
    "tags": []
   },
   "outputs": [
    {
     "data": {
      "text/html": [
       "<div>\n",
       "<style scoped>\n",
       "    .dataframe tbody tr th:only-of-type {\n",
       "        vertical-align: middle;\n",
       "    }\n",
       "\n",
       "    .dataframe tbody tr th {\n",
       "        vertical-align: top;\n",
       "    }\n",
       "\n",
       "    .dataframe thead th {\n",
       "        text-align: right;\n",
       "    }\n",
       "</style>\n",
       "<table border=\"1\" class=\"dataframe\">\n",
       "  <thead>\n",
       "    <tr style=\"text-align: right;\">\n",
       "      <th></th>\n",
       "      <th>Movement direction</th>\n",
       "      <th>Set robot speed along X axis</th>\n",
       "      <th>Set robot speed along Y axis</th>\n",
       "      <th>Set rotational robot velocity</th>\n",
       "      <th>1st motor set speed</th>\n",
       "      <th>2st motor set speed</th>\n",
       "      <th>3st motor set speed</th>\n",
       "      <th>1st motor position</th>\n",
       "      <th>2nd motor position</th>\n",
       "      <th>3rd motor position</th>\n",
       "      <th>...</th>\n",
       "      <th>Wheel 2 effective velocity</th>\n",
       "      <th>Wheel 2 slippage</th>\n",
       "      <th>Motor 2 voltage</th>\n",
       "      <th>Motor 2 torque</th>\n",
       "      <th>Wheel 3 velocity</th>\n",
       "      <th>Wheel 3 effective velocity</th>\n",
       "      <th>Wheel 3 slippage</th>\n",
       "      <th>Motor 3 voltage</th>\n",
       "      <th>Motor 3 torque</th>\n",
       "      <th>color</th>\n",
       "    </tr>\n",
       "  </thead>\n",
       "  <tbody>\n",
       "    <tr>\n",
       "      <th>0</th>\n",
       "      <td>0.0</td>\n",
       "      <td>0.1</td>\n",
       "      <td>0.0</td>\n",
       "      <td>0.0</td>\n",
       "      <td>-34.641</td>\n",
       "      <td>0.0</td>\n",
       "      <td>34.641</td>\n",
       "      <td>-1035.0</td>\n",
       "      <td>18.0</td>\n",
       "      <td>1039.0</td>\n",
       "      <td>...</td>\n",
       "      <td>0.0</td>\n",
       "      <td>0.0</td>\n",
       "      <td>0.000000</td>\n",
       "      <td>0.001593</td>\n",
       "      <td>1.590431</td>\n",
       "      <td>0.009376</td>\n",
       "      <td>0.994105</td>\n",
       "      <td>7.568766</td>\n",
       "      <td>0.350820</td>\n",
       "      <td>gray</td>\n",
       "    </tr>\n",
       "    <tr>\n",
       "      <th>1</th>\n",
       "      <td>0.0</td>\n",
       "      <td>0.1</td>\n",
       "      <td>0.0</td>\n",
       "      <td>0.0</td>\n",
       "      <td>-34.641</td>\n",
       "      <td>0.0</td>\n",
       "      <td>34.641</td>\n",
       "      <td>-1185.0</td>\n",
       "      <td>19.0</td>\n",
       "      <td>1178.0</td>\n",
       "      <td>...</td>\n",
       "      <td>0.0</td>\n",
       "      <td>0.0</td>\n",
       "      <td>-0.415301</td>\n",
       "      <td>-0.007532</td>\n",
       "      <td>1.590431</td>\n",
       "      <td>0.683054</td>\n",
       "      <td>0.570523</td>\n",
       "      <td>8.526490</td>\n",
       "      <td>0.455350</td>\n",
       "      <td>gray</td>\n",
       "    </tr>\n",
       "    <tr>\n",
       "      <th>2</th>\n",
       "      <td>0.0</td>\n",
       "      <td>0.1</td>\n",
       "      <td>0.0</td>\n",
       "      <td>0.0</td>\n",
       "      <td>-34.641</td>\n",
       "      <td>0.0</td>\n",
       "      <td>34.641</td>\n",
       "      <td>-1470.0</td>\n",
       "      <td>22.0</td>\n",
       "      <td>1458.0</td>\n",
       "      <td>...</td>\n",
       "      <td>0.0</td>\n",
       "      <td>0.0</td>\n",
       "      <td>0.000000</td>\n",
       "      <td>0.001593</td>\n",
       "      <td>1.590431</td>\n",
       "      <td>0.670479</td>\n",
       "      <td>0.578429</td>\n",
       "      <td>10.031590</td>\n",
       "      <td>0.646921</td>\n",
       "      <td>gray</td>\n",
       "    </tr>\n",
       "    <tr>\n",
       "      <th>3</th>\n",
       "      <td>0.0</td>\n",
       "      <td>0.1</td>\n",
       "      <td>0.0</td>\n",
       "      <td>0.0</td>\n",
       "      <td>-34.641</td>\n",
       "      <td>0.0</td>\n",
       "      <td>34.641</td>\n",
       "      <td>-1745.0</td>\n",
       "      <td>24.0</td>\n",
       "      <td>1733.0</td>\n",
       "      <td>...</td>\n",
       "      <td>0.0</td>\n",
       "      <td>0.0</td>\n",
       "      <td>0.000000</td>\n",
       "      <td>0.001593</td>\n",
       "      <td>1.413719</td>\n",
       "      <td>0.020060</td>\n",
       "      <td>0.985811</td>\n",
       "      <td>10.847660</td>\n",
       "      <td>0.873064</td>\n",
       "      <td>gray</td>\n",
       "    </tr>\n",
       "    <tr>\n",
       "      <th>4</th>\n",
       "      <td>0.0</td>\n",
       "      <td>0.1</td>\n",
       "      <td>0.0</td>\n",
       "      <td>0.0</td>\n",
       "      <td>-34.641</td>\n",
       "      <td>0.0</td>\n",
       "      <td>34.641</td>\n",
       "      <td>-1894.0</td>\n",
       "      <td>24.0</td>\n",
       "      <td>1866.0</td>\n",
       "      <td>...</td>\n",
       "      <td>0.0</td>\n",
       "      <td>0.0</td>\n",
       "      <td>0.000000</td>\n",
       "      <td>0.001593</td>\n",
       "      <td>1.413719</td>\n",
       "      <td>0.687064</td>\n",
       "      <td>0.514003</td>\n",
       "      <td>8.248019</td>\n",
       "      <td>0.486188</td>\n",
       "      <td>gray</td>\n",
       "    </tr>\n",
       "  </tbody>\n",
       "</table>\n",
       "<p>5 rows × 44 columns</p>\n",
       "</div>"
      ],
      "text/plain": [
       "   Movement direction  Set robot speed along X axis  \\\n",
       "0                 0.0                           0.1   \n",
       "1                 0.0                           0.1   \n",
       "2                 0.0                           0.1   \n",
       "3                 0.0                           0.1   \n",
       "4                 0.0                           0.1   \n",
       "\n",
       "   Set robot speed along Y axis  Set rotational robot velocity  \\\n",
       "0                           0.0                            0.0   \n",
       "1                           0.0                            0.0   \n",
       "2                           0.0                            0.0   \n",
       "3                           0.0                            0.0   \n",
       "4                           0.0                            0.0   \n",
       "\n",
       "   1st motor set speed  2st motor set speed  3st motor set speed  \\\n",
       "0              -34.641                  0.0               34.641   \n",
       "1              -34.641                  0.0               34.641   \n",
       "2              -34.641                  0.0               34.641   \n",
       "3              -34.641                  0.0               34.641   \n",
       "4              -34.641                  0.0               34.641   \n",
       "\n",
       "   1st motor position  2nd motor position  3rd motor position  ...  \\\n",
       "0             -1035.0                18.0              1039.0  ...   \n",
       "1             -1185.0                19.0              1178.0  ...   \n",
       "2             -1470.0                22.0              1458.0  ...   \n",
       "3             -1745.0                24.0              1733.0  ...   \n",
       "4             -1894.0                24.0              1866.0  ...   \n",
       "\n",
       "   Wheel 2 effective velocity  Wheel 2 slippage  Motor 2 voltage  \\\n",
       "0                         0.0               0.0         0.000000   \n",
       "1                         0.0               0.0        -0.415301   \n",
       "2                         0.0               0.0         0.000000   \n",
       "3                         0.0               0.0         0.000000   \n",
       "4                         0.0               0.0         0.000000   \n",
       "\n",
       "   Motor 2 torque  Wheel 3 velocity  Wheel 3 effective velocity  \\\n",
       "0        0.001593          1.590431                    0.009376   \n",
       "1       -0.007532          1.590431                    0.683054   \n",
       "2        0.001593          1.590431                    0.670479   \n",
       "3        0.001593          1.413719                    0.020060   \n",
       "4        0.001593          1.413719                    0.687064   \n",
       "\n",
       "   Wheel 3 slippage  Motor 3 voltage  Motor 3 torque  color  \n",
       "0          0.994105         7.568766        0.350820   gray  \n",
       "1          0.570523         8.526490        0.455350   gray  \n",
       "2          0.578429        10.031590        0.646921   gray  \n",
       "3          0.985811        10.847660        0.873064   gray  \n",
       "4          0.514003         8.248019        0.486188   gray  \n",
       "\n",
       "[5 rows x 44 columns]"
      ]
     },
     "execution_count": 11,
     "metadata": {},
     "output_type": "execute_result"
    }
   ],
   "source": [
    "df = pd.concat([df_gray, df_green, df_table], ignore_index = True)\n",
    "df.head()"
   ]
  },
  {
   "cell_type": "code",
   "execution_count": 12,
   "id": "781ac121-99c2-4910-8260-8e87e7032fc4",
   "metadata": {
    "tags": []
   },
   "outputs": [
    {
     "name": "stdout",
     "output_type": "stream",
     "text": [
      "<class 'pandas.core.frame.DataFrame'>\n",
      "RangeIndex: 54597 entries, 0 to 54596\n",
      "Data columns (total 44 columns):\n",
      " #   Column                         Non-Null Count  Dtype  \n",
      "---  ------                         --------------  -----  \n",
      " 0   Movement direction             54597 non-null  float64\n",
      " 1   Set robot speed along X axis   54597 non-null  float64\n",
      " 2   Set robot speed along Y axis   54597 non-null  float64\n",
      " 3   Set rotational robot velocity  54597 non-null  float64\n",
      " 4   1st motor set speed            54597 non-null  float64\n",
      " 5   2st motor set speed            54597 non-null  float64\n",
      " 6   3st motor set speed            54597 non-null  float64\n",
      " 7   1st motor position             54597 non-null  float64\n",
      " 8   2nd motor position             54597 non-null  float64\n",
      " 9   3rd motor position             54597 non-null  float64\n",
      " 10  1st motor velocity             54597 non-null  float64\n",
      " 11  2nd motor velocity             54597 non-null  float64\n",
      " 12  3rd motor velocity             54597 non-null  float64\n",
      " 13  1st motor current              54597 non-null  float64\n",
      " 14  2nd motor current              54597 non-null  float64\n",
      " 15  3rd motor current              54597 non-null  float64\n",
      " 16  X axis current                 54597 non-null  float64\n",
      " 17  Y axis curent                  54597 non-null  float64\n",
      " 18  Rotational current             54597 non-null  float64\n",
      " 19  X axis global position         54597 non-null  float64\n",
      " 20  Y axis global position         54597 non-null  float64\n",
      " 21  Angle                          54597 non-null  float64\n",
      " 22  Delta X axis local position    54597 non-null  float64\n",
      " 23  Delta Y axis local position    54597 non-null  float64\n",
      " 24  Delta angle                    54597 non-null  float64\n",
      " 25  Robot speed along X axis       54597 non-null  float64\n",
      " 26  Robot speed along Y axis       54597 non-null  float64\n",
      " 27  Robot rotational velocity      54597 non-null  float64\n",
      " 28  Wheel 1 velocity               54597 non-null  float64\n",
      " 29  Wheel 1 effective velocity     54597 non-null  float64\n",
      " 30  Wheel 1 slippage               54597 non-null  float64\n",
      " 31  Motor 1 voltage                54597 non-null  float64\n",
      " 32  Motor 1 torque                 54597 non-null  float64\n",
      " 33  Wheel 2 velocity               54597 non-null  float64\n",
      " 34  Wheel 2 effective velocity     54597 non-null  float64\n",
      " 35  Wheel 2 slippage               54597 non-null  float64\n",
      " 36  Motor 2 voltage                54597 non-null  float64\n",
      " 37  Motor 2 torque                 54597 non-null  float64\n",
      " 38  Wheel 3 velocity               54597 non-null  float64\n",
      " 39  Wheel 3 effective velocity     54597 non-null  float64\n",
      " 40  Wheel 3 slippage               54597 non-null  float64\n",
      " 41  Motor 3 voltage                54597 non-null  float64\n",
      " 42  Motor 3 torque                 54597 non-null  float64\n",
      " 43  color                          54597 non-null  object \n",
      "dtypes: float64(43), object(1)\n",
      "memory usage: 18.3+ MB\n"
     ]
    }
   ],
   "source": [
    "df.info()"
   ]
  },
  {
   "cell_type": "code",
   "execution_count": 13,
   "id": "9247d04d",
   "metadata": {
    "tags": []
   },
   "outputs": [
    {
     "data": {
      "text/plain": [
       "<Axes: xlabel='color', ylabel='count'>"
      ]
     },
     "execution_count": 13,
     "metadata": {},
     "output_type": "execute_result"
    },
    {
     "data": {
      "image/png": "[encoded data removed]",
      "text/plain": [
       "<Figure size 640x480 with 1 Axes>"
      ]
     },
     "metadata": {},
     "output_type": "display_data"
    }
   ],
   "source": [
    "sns.countplot(x = \"color\", data = df, hue = \"color\")"
   ]
  },
  {
   "cell_type": "code",
   "execution_count": 14,
   "id": "1434826b-08a0-4e71-acfd-64cab5cf7de9",
   "metadata": {
    "tags": []
   },
   "outputs": [
    {
     "data": {
      "text/plain": [
       "(54597, 3)"
      ]
     },
     "execution_count": 14,
     "metadata": {},
     "output_type": "execute_result"
    }
   ],
   "source": [
    "from sklearn.preprocessing import OneHotEncoder\n",
    "\n",
    "output_encoder = OneHotEncoder()\n",
    "color_labels = output_encoder.fit_transform(df[[\"color\"]])\n",
    "color_labels.shape"
   ]
  },
  {
   "cell_type": "code",
   "execution_count": 15,
   "id": "cd6d8bc1-29b9-4ca4-b42c-0a6325deb3e5",
   "metadata": {
    "tags": []
   },
   "outputs": [],
   "source": [
    "df[[\"Gray\", \"Green\", \"Table\"]] = color_labels.toarray()"
   ]
  },
  {
   "cell_type": "code",
   "execution_count": 16,
   "id": "fe5f356f-982b-45a6-9ccf-9e598fcab217",
   "metadata": {
    "tags": []
   },
   "outputs": [],
   "source": [
    "df = df.drop(columns = [\"color\"])"
   ]
  },
  {
   "cell_type": "code",
   "execution_count": 17,
   "id": "2e121e86-13d1-4220-8f33-71dd2adb383a",
   "metadata": {
    "tags": []
   },
   "outputs": [
    {
     "data": {
      "text/html": [
       "<div>\n",
       "<style scoped>\n",
       "    .dataframe tbody tr th:only-of-type {\n",
       "        vertical-align: middle;\n",
       "    }\n",
       "\n",
       "    .dataframe tbody tr th {\n",
       "        vertical-align: top;\n",
       "    }\n",
       "\n",
       "    .dataframe thead th {\n",
       "        text-align: right;\n",
       "    }\n",
       "</style>\n",
       "<table border=\"1\" class=\"dataframe\">\n",
       "  <thead>\n",
       "    <tr style=\"text-align: right;\">\n",
       "      <th></th>\n",
       "      <th>Gray</th>\n",
       "      <th>Green</th>\n",
       "      <th>Table</th>\n",
       "    </tr>\n",
       "  </thead>\n",
       "  <tbody>\n",
       "    <tr>\n",
       "      <th>Gray</th>\n",
       "      <td>1.000000</td>\n",
       "      <td>-0.754394</td>\n",
       "      <td>-0.324934</td>\n",
       "    </tr>\n",
       "    <tr>\n",
       "      <th>Rotational current</th>\n",
       "      <td>0.373808</td>\n",
       "      <td>0.229360</td>\n",
       "      <td>-0.858199</td>\n",
       "    </tr>\n",
       "    <tr>\n",
       "      <th>X axis global position</th>\n",
       "      <td>0.299283</td>\n",
       "      <td>-0.331955</td>\n",
       "      <td>0.055727</td>\n",
       "    </tr>\n",
       "    <tr>\n",
       "      <th>3rd motor current</th>\n",
       "      <td>0.267279</td>\n",
       "      <td>0.043566</td>\n",
       "      <td>-0.440119</td>\n",
       "    </tr>\n",
       "    <tr>\n",
       "      <th>1st motor current</th>\n",
       "      <td>0.264308</td>\n",
       "      <td>0.037493</td>\n",
       "      <td>-0.427174</td>\n",
       "    </tr>\n",
       "    <tr>\n",
       "      <th>2nd motor current</th>\n",
       "      <td>0.046549</td>\n",
       "      <td>0.285879</td>\n",
       "      <td>-0.477598</td>\n",
       "    </tr>\n",
       "    <tr>\n",
       "      <th>Motor 3 voltage</th>\n",
       "      <td>0.018177</td>\n",
       "      <td>-0.023409</td>\n",
       "      <td>0.008064</td>\n",
       "    </tr>\n",
       "    <tr>\n",
       "      <th>3st motor set speed</th>\n",
       "      <td>0.015774</td>\n",
       "      <td>-0.026944</td>\n",
       "      <td>0.016549</td>\n",
       "    </tr>\n",
       "    <tr>\n",
       "      <th>Motor 3 torque</th>\n",
       "      <td>0.015525</td>\n",
       "      <td>-0.017925</td>\n",
       "      <td>0.003907</td>\n",
       "    </tr>\n",
       "    <tr>\n",
       "      <th>X axis current</th>\n",
       "      <td>0.015416</td>\n",
       "      <td>-0.015307</td>\n",
       "      <td>0.000289</td>\n",
       "    </tr>\n",
       "    <tr>\n",
       "      <th>2nd motor position</th>\n",
       "      <td>0.014821</td>\n",
       "      <td>-0.011781</td>\n",
       "      <td>-0.003952</td>\n",
       "    </tr>\n",
       "    <tr>\n",
       "      <th>Wheel 3 velocity</th>\n",
       "      <td>0.013238</td>\n",
       "      <td>-0.026513</td>\n",
       "      <td>0.019510</td>\n",
       "    </tr>\n",
       "    <tr>\n",
       "      <th>3rd motor velocity</th>\n",
       "      <td>0.013238</td>\n",
       "      <td>-0.026513</td>\n",
       "      <td>0.019510</td>\n",
       "    </tr>\n",
       "    <tr>\n",
       "      <th>Y axis curent</th>\n",
       "      <td>0.012660</td>\n",
       "      <td>-0.017554</td>\n",
       "      <td>0.007418</td>\n",
       "    </tr>\n",
       "    <tr>\n",
       "      <th>Set robot speed along X axis</th>\n",
       "      <td>0.012298</td>\n",
       "      <td>-0.023629</td>\n",
       "      <td>0.016681</td>\n",
       "    </tr>\n",
       "    <tr>\n",
       "      <th>Set robot speed along Y axis</th>\n",
       "      <td>0.009369</td>\n",
       "      <td>-0.011409</td>\n",
       "      <td>0.003211</td>\n",
       "    </tr>\n",
       "    <tr>\n",
       "      <th>Wheel 3 effective velocity</th>\n",
       "      <td>0.006679</td>\n",
       "      <td>-0.027885</td>\n",
       "      <td>0.030745</td>\n",
       "    </tr>\n",
       "    <tr>\n",
       "      <th>Delta X axis local position</th>\n",
       "      <td>0.005524</td>\n",
       "      <td>-0.025740</td>\n",
       "      <td>0.029286</td>\n",
       "    </tr>\n",
       "    <tr>\n",
       "      <th>Robot speed along X axis</th>\n",
       "      <td>0.004953</td>\n",
       "      <td>-0.026374</td>\n",
       "      <td>0.031005</td>\n",
       "    </tr>\n",
       "    <tr>\n",
       "      <th>Delta Y axis local position</th>\n",
       "      <td>0.004783</td>\n",
       "      <td>-0.015427</td>\n",
       "      <td>0.015474</td>\n",
       "    </tr>\n",
       "    <tr>\n",
       "      <th>Robot speed along Y axis</th>\n",
       "      <td>0.004538</td>\n",
       "      <td>-0.009969</td>\n",
       "      <td>0.007956</td>\n",
       "    </tr>\n",
       "    <tr>\n",
       "      <th>Delta angle</th>\n",
       "      <td>-0.001568</td>\n",
       "      <td>0.004573</td>\n",
       "      <td>-0.004375</td>\n",
       "    </tr>\n",
       "    <tr>\n",
       "      <th>Wheel 1 effective velocity</th>\n",
       "      <td>-0.001734</td>\n",
       "      <td>0.016764</td>\n",
       "      <td>-0.021705</td>\n",
       "    </tr>\n",
       "    <tr>\n",
       "      <th>Angle</th>\n",
       "      <td>-0.003353</td>\n",
       "      <td>0.005335</td>\n",
       "      <td>-0.002953</td>\n",
       "    </tr>\n",
       "    <tr>\n",
       "      <th>2nd motor velocity</th>\n",
       "      <td>-0.003455</td>\n",
       "      <td>0.006160</td>\n",
       "      <td>-0.003998</td>\n",
       "    </tr>\n",
       "    <tr>\n",
       "      <th>Wheel 2 velocity</th>\n",
       "      <td>-0.003455</td>\n",
       "      <td>0.006160</td>\n",
       "      <td>-0.003998</td>\n",
       "    </tr>\n",
       "    <tr>\n",
       "      <th>Wheel 2 effective velocity</th>\n",
       "      <td>-0.004538</td>\n",
       "      <td>0.009969</td>\n",
       "      <td>-0.007956</td>\n",
       "    </tr>\n",
       "    <tr>\n",
       "      <th>Motor 1 torque</th>\n",
       "      <td>-0.004884</td>\n",
       "      <td>0.000376</td>\n",
       "      <td>0.006353</td>\n",
       "    </tr>\n",
       "    <tr>\n",
       "      <th>3rd motor position</th>\n",
       "      <td>-0.004936</td>\n",
       "      <td>-0.003404</td>\n",
       "      <td>0.011873</td>\n",
       "    </tr>\n",
       "    <tr>\n",
       "      <th>1st motor position</th>\n",
       "      <td>-0.005748</td>\n",
       "      <td>0.011515</td>\n",
       "      <td>-0.008475</td>\n",
       "    </tr>\n",
       "    <tr>\n",
       "      <th>1st motor set speed</th>\n",
       "      <td>-0.005871</td>\n",
       "      <td>0.014461</td>\n",
       "      <td>-0.012546</td>\n",
       "    </tr>\n",
       "    <tr>\n",
       "      <th>Wheel 1 velocity</th>\n",
       "      <td>-0.007424</td>\n",
       "      <td>0.017660</td>\n",
       "      <td>-0.014962</td>\n",
       "    </tr>\n",
       "    <tr>\n",
       "      <th>1st motor velocity</th>\n",
       "      <td>-0.007424</td>\n",
       "      <td>0.017660</td>\n",
       "      <td>-0.014962</td>\n",
       "    </tr>\n",
       "    <tr>\n",
       "      <th>Motor 1 voltage</th>\n",
       "      <td>-0.008334</td>\n",
       "      <td>0.007648</td>\n",
       "      <td>0.000747</td>\n",
       "    </tr>\n",
       "    <tr>\n",
       "      <th>2st motor set speed</th>\n",
       "      <td>-0.009369</td>\n",
       "      <td>0.011409</td>\n",
       "      <td>-0.003211</td>\n",
       "    </tr>\n",
       "    <tr>\n",
       "      <th>Motor 2 voltage</th>\n",
       "      <td>-0.011347</td>\n",
       "      <td>0.014887</td>\n",
       "      <td>-0.005429</td>\n",
       "    </tr>\n",
       "    <tr>\n",
       "      <th>Motor 2 torque</th>\n",
       "      <td>-0.021832</td>\n",
       "      <td>0.027518</td>\n",
       "      <td>-0.008823</td>\n",
       "    </tr>\n",
       "    <tr>\n",
       "      <th>Movement direction</th>\n",
       "      <td>-0.034075</td>\n",
       "      <td>0.011537</td>\n",
       "      <td>0.031485</td>\n",
       "    </tr>\n",
       "    <tr>\n",
       "      <th>Wheel 1 slippage</th>\n",
       "      <td>-0.130303</td>\n",
       "      <td>0.134154</td>\n",
       "      <td>-0.009318</td>\n",
       "    </tr>\n",
       "    <tr>\n",
       "      <th>Wheel 3 slippage</th>\n",
       "      <td>-0.170476</td>\n",
       "      <td>0.297915</td>\n",
       "      <td>-0.188537</td>\n",
       "    </tr>\n",
       "    <tr>\n",
       "      <th>Wheel 2 slippage</th>\n",
       "      <td>-0.178370</td>\n",
       "      <td>0.150568</td>\n",
       "      <td>0.034896</td>\n",
       "    </tr>\n",
       "    <tr>\n",
       "      <th>Y axis global position</th>\n",
       "      <td>-0.239454</td>\n",
       "      <td>0.215053</td>\n",
       "      <td>0.028229</td>\n",
       "    </tr>\n",
       "    <tr>\n",
       "      <th>Table</th>\n",
       "      <td>-0.324934</td>\n",
       "      <td>-0.375674</td>\n",
       "      <td>1.000000</td>\n",
       "    </tr>\n",
       "    <tr>\n",
       "      <th>Green</th>\n",
       "      <td>-0.754394</td>\n",
       "      <td>1.000000</td>\n",
       "      <td>-0.375674</td>\n",
       "    </tr>\n",
       "    <tr>\n",
       "      <th>Set rotational robot velocity</th>\n",
       "      <td>NaN</td>\n",
       "      <td>NaN</td>\n",
       "      <td>NaN</td>\n",
       "    </tr>\n",
       "    <tr>\n",
       "      <th>Robot rotational velocity</th>\n",
       "      <td>NaN</td>\n",
       "      <td>NaN</td>\n",
       "      <td>NaN</td>\n",
       "    </tr>\n",
       "  </tbody>\n",
       "</table>\n",
       "</div>"
      ],
      "text/plain": [
       "                                   Gray     Green     Table\n",
       "Gray                           1.000000 -0.754394 -0.324934\n",
       "Rotational current             0.373808  0.229360 -0.858199\n",
       "X axis global position         0.299283 -0.331955  0.055727\n",
       "3rd motor current              0.267279  0.043566 -0.440119\n",
       "1st motor current              0.264308  0.037493 -0.427174\n",
       "2nd motor current              0.046549  0.285879 -0.477598\n",
       "Motor 3 voltage                0.018177 -0.023409  0.008064\n",
       "3st motor set speed            0.015774 -0.026944  0.016549\n",
       "Motor 3 torque                 0.015525 -0.017925  0.003907\n",
       "X axis current                 0.015416 -0.015307  0.000289\n",
       "2nd motor position             0.014821 -0.011781 -0.003952\n",
       "Wheel 3 velocity               0.013238 -0.026513  0.019510\n",
       "3rd motor velocity             0.013238 -0.026513  0.019510\n",
       "Y axis curent                  0.012660 -0.017554  0.007418\n",
       "Set robot speed along X axis   0.012298 -0.023629  0.016681\n",
       "Set robot speed along Y axis   0.009369 -0.011409  0.003211\n",
       "Wheel 3 effective velocity     0.006679 -0.027885  0.030745\n",
       "Delta X axis local position    0.005524 -0.025740  0.029286\n",
       "Robot speed along X axis       0.004953 -0.026374  0.031005\n",
       "Delta Y axis local position    0.004783 -0.015427  0.015474\n",
       "Robot speed along Y axis       0.004538 -0.009969  0.007956\n",
       "Delta angle                   -0.001568  0.004573 -0.004375\n",
       "Wheel 1 effective velocity    -0.001734  0.016764 -0.021705\n",
       "Angle                         -0.003353  0.005335 -0.002953\n",
       "2nd motor velocity            -0.003455  0.006160 -0.003998\n",
       "Wheel 2 velocity              -0.003455  0.006160 -0.003998\n",
       "Wheel 2 effective velocity    -0.004538  0.009969 -0.007956\n",
       "Motor 1 torque                -0.004884  0.000376  0.006353\n",
       "3rd motor position            -0.004936 -0.003404  0.011873\n",
       "1st motor position            -0.005748  0.011515 -0.008475\n",
       "1st motor set speed           -0.005871  0.014461 -0.012546\n",
       "Wheel 1 velocity              -0.007424  0.017660 -0.014962\n",
       "1st motor velocity            -0.007424  0.017660 -0.014962\n",
       "Motor 1 voltage               -0.008334  0.007648  0.000747\n",
       "2st motor set speed           -0.009369  0.011409 -0.003211\n",
       "Motor 2 voltage               -0.011347  0.014887 -0.005429\n",
       "Motor 2 torque                -0.021832  0.027518 -0.008823\n",
       "Movement direction            -0.034075  0.011537  0.031485\n",
       "Wheel 1 slippage              -0.130303  0.134154 -0.009318\n",
       "Wheel 3 slippage              -0.170476  0.297915 -0.188537\n",
       "Wheel 2 slippage              -0.178370  0.150568  0.034896\n",
       "Y axis global position        -0.239454  0.215053  0.028229\n",
       "Table                         -0.324934 -0.375674  1.000000\n",
       "Green                         -0.754394  1.000000 -0.375674\n",
       "Set rotational robot velocity       NaN       NaN       NaN\n",
       "Robot rotational velocity           NaN       NaN       NaN"
      ]
     },
     "execution_count": 17,
     "metadata": {},
     "output_type": "execute_result"
    }
   ],
   "source": [
    "correlation_matrix = df.corr()\n",
    "correlation_matrix[[\"Gray\", \"Green\", \"Table\"]].sort_values(by = \"Gray\", ascending = False)"
   ]
  },
  {
   "cell_type": "code",
   "execution_count": 18,
   "id": "bfc38553",
   "metadata": {
    "tags": []
   },
   "outputs": [],
   "source": [
    "df = df[[\"Gray\", \"Green\", \"Table\",'Wheel 1 slippage', 'Wheel 2 slippage', 'Wheel 3 slippage', 'X axis global position', 'Y axis global position',\n",
    "         '1st motor current', '2nd motor current', '3rd motor current', 'Rotational current']]\n",
    "\n",
    "corr_matrix = df.corr()"
   ]
  },
  {
   "cell_type": "code",
   "execution_count": 19,
   "id": "172e76fd",
   "metadata": {
    "tags": []
   },
   "outputs": [
    {
     "data": {
      "image/png": "[encoded data removed]",
      "text/plain": [
       "<Figure size 1000x800 with 2 Axes>"
      ]
     },
     "metadata": {},
     "output_type": "display_data"
    }
   ],
   "source": [
    "# Create a heatmap\n",
    "plt.figure(figsize=(10, 8))\n",
    "sns.heatmap(corr_matrix, annot=True, cmap='coolwarm', vmin=-1, vmax=1, center=0)\n",
    "plt.title('Correlation Matrix for Iris Dataset')\n",
    "plt.show()"
   ]
  },
  {
   "cell_type": "markdown",
   "id": "0c60da28",
   "metadata": {},
   "source": [
    "## Train the models"
   ]
  },
  {
   "cell_type": "code",
   "execution_count": 20,
   "id": "798ae84e",
   "metadata": {
    "tags": []
   },
   "outputs": [],
   "source": [
    "X = df.drop(columns = [\"Gray\", \"Green\", \"Table\"])\n",
    "y = df[[\"Gray\", \"Green\", \"Table\"]]"
   ]
  },
  {
   "cell_type": "code",
   "execution_count": 21,
   "id": "e95017ee",
   "metadata": {},
   "outputs": [],
   "source": [
    "from sklearn.model_selection import train_test_split\n",
    "\n",
    "X_train, X_test, y_train, y_test = train_test_split(X, y, test_size = 0.1, random_state = 42)\n",
    "# X_train, X_valid, y_train, y_valid = train_test_split(X_train, y_train, test_size = 0.2, random_state = 42)"
   ]
  },
  {
   "cell_type": "markdown",
   "id": "b8acfaad-7319-424c-9a2f-6fb7e26201c0",
   "metadata": {},
   "source": [
    "### 1. Decision Tree"
   ]
  },
  {
   "cell_type": "markdown",
   "id": "405a933a-3e30-4c7f-8ae5-17f24fc75334",
   "metadata": {},
   "source": [
    "### 2. Random Forest"
   ]
  },
  {
   "cell_type": "code",
   "execution_count": 28,
   "id": "c86b76b7",
   "metadata": {},
   "outputs": [
    {
     "data": {
      "text/html": [
       "<style>#sk-container-id-3 {color: black;background-color: white;}#sk-container-id-3 pre{padding: 0;}#sk-container-id-3 div.sk-toggleable {background-color: white;}#sk-container-id-3 label.sk-toggleable__label {cursor: pointer;display: block;width: 100%;margin-bottom: 0;padding: 0.3em;box-sizing: border-box;text-align: center;}#sk-container-id-3 label.sk-toggleable__label-arrow:before {content: \"▸\";float: left;margin-right: 0.25em;color: #696969;}#sk-container-id-3 label.sk-toggleable__label-arrow:hover:before {color: black;}#sk-container-id-3 div.sk-estimator:hover label.sk-toggleable__label-arrow:before {color: black;}#sk-container-id-3 div.sk-toggleable__content {max-height: 0;max-width: 0;overflow: hidden;text-align: left;background-color: #f0f8ff;}#sk-container-id-3 div.sk-toggleable__content pre {margin: 0.2em;color: black;border-radius: 0.25em;background-color: #f0f8ff;}#sk-container-id-3 input.sk-toggleable__control:checked~div.sk-toggleable__content {max-height: 200px;max-width: 100%;overflow: auto;}#sk-container-id-3 input.sk-toggleable__control:checked~label.sk-toggleable__label-arrow:before {content: \"▾\";}#sk-container-id-3 div.sk-estimator input.sk-toggleable__control:checked~label.sk-toggleable__label {background-color: #d4ebff;}#sk-container-id-3 div.sk-label input.sk-toggleable__control:checked~label.sk-toggleable__label {background-color: #d4ebff;}#sk-container-id-3 input.sk-hidden--visually {border: 0;clip: rect(1px 1px 1px 1px);clip: rect(1px, 1px, 1px, 1px);height: 1px;margin: -1px;overflow: hidden;padding: 0;position: absolute;width: 1px;}#sk-container-id-3 div.sk-estimator {font-family: monospace;background-color: #f0f8ff;border: 1px dotted black;border-radius: 0.25em;box-sizing: border-box;margin-bottom: 0.5em;}#sk-container-id-3 div.sk-estimator:hover {background-color: #d4ebff;}#sk-container-id-3 div.sk-parallel-item::after {content: \"\";width: 100%;border-bottom: 1px solid gray;flex-grow: 1;}#sk-container-id-3 div.sk-label:hover label.sk-toggleable__label {background-color: #d4ebff;}#sk-container-id-3 div.sk-serial::before {content: \"\";position: absolute;border-left: 1px solid gray;box-sizing: border-box;top: 0;bottom: 0;left: 50%;z-index: 0;}#sk-container-id-3 div.sk-serial {display: flex;flex-direction: column;align-items: center;background-color: white;padding-right: 0.2em;padding-left: 0.2em;position: relative;}#sk-container-id-3 div.sk-item {position: relative;z-index: 1;}#sk-container-id-3 div.sk-parallel {display: flex;align-items: stretch;justify-content: center;background-color: white;position: relative;}#sk-container-id-3 div.sk-item::before, #sk-container-id-3 div.sk-parallel-item::before {content: \"\";position: absolute;border-left: 1px solid gray;box-sizing: border-box;top: 0;bottom: 0;left: 50%;z-index: -1;}#sk-container-id-3 div.sk-parallel-item {display: flex;flex-direction: column;z-index: 1;position: relative;background-color: white;}#sk-container-id-3 div.sk-parallel-item:first-child::after {align-self: flex-end;width: 50%;}#sk-container-id-3 div.sk-parallel-item:last-child::after {align-self: flex-start;width: 50%;}#sk-container-id-3 div.sk-parallel-item:only-child::after {width: 0;}#sk-container-id-3 div.sk-dashed-wrapped {border: 1px dashed gray;margin: 0 0.4em 0.5em 0.4em;box-sizing: border-box;padding-bottom: 0.4em;background-color: white;}#sk-container-id-3 div.sk-label label {font-family: monospace;font-weight: bold;display: inline-block;line-height: 1.2em;}#sk-container-id-3 div.sk-label-container {text-align: center;}#sk-container-id-3 div.sk-container {/* jupyter's `normalize.less` sets `[hidden] { display: none; }` but bootstrap.min.css set `[hidden] { display: none !important; }` so we also need the `!important` here to be able to override the default hidden behavior on the sphinx rendered scikit-learn.org. See: https://github.com/scikit-learn/scikit-learn/issues/21755 */display: inline-block !important;position: relative;}#sk-container-id-3 div.sk-text-repr-fallback {display: none;}</style><div id=\"sk-container-id-3\" class=\"sk-top-container\"><div class=\"sk-text-repr-fallback\"><pre>Pipeline(steps=[(&#x27;scaler&#x27;, StandardScaler()),\n",
       "                (&#x27;random_forest&#x27;,\n",
       "                 OneVsRestClassifier(estimator=RandomForestClassifier(random_state=42)))])</pre><b>In a Jupyter environment, please rerun this cell to show the HTML representation or trust the notebook. <br />On GitHub, the HTML representation is unable to render, please try loading this page with nbviewer.org.</b></div><div class=\"sk-container\" hidden><div class=\"sk-item sk-dashed-wrapped\"><div class=\"sk-label-container\"><div class=\"sk-label sk-toggleable\"><input class=\"sk-toggleable__control sk-hidden--visually\" id=\"sk-estimator-id-9\" type=\"checkbox\" ><label for=\"sk-estimator-id-9\" class=\"sk-toggleable__label sk-toggleable__label-arrow\">Pipeline</label><div class=\"sk-toggleable__content\"><pre>Pipeline(steps=[(&#x27;scaler&#x27;, StandardScaler()),\n",
       "                (&#x27;random_forest&#x27;,\n",
       "                 OneVsRestClassifier(estimator=RandomForestClassifier(random_state=42)))])</pre></div></div></div><div class=\"sk-serial\"><div class=\"sk-item\"><div class=\"sk-estimator sk-toggleable\"><input class=\"sk-toggleable__control sk-hidden--visually\" id=\"sk-estimator-id-10\" type=\"checkbox\" ><label for=\"sk-estimator-id-10\" class=\"sk-toggleable__label sk-toggleable__label-arrow\">StandardScaler</label><div class=\"sk-toggleable__content\"><pre>StandardScaler()</pre></div></div></div><div class=\"sk-item sk-dashed-wrapped\"><div class=\"sk-label-container\"><div class=\"sk-label sk-toggleable\"><input class=\"sk-toggleable__control sk-hidden--visually\" id=\"sk-estimator-id-11\" type=\"checkbox\" ><label for=\"sk-estimator-id-11\" class=\"sk-toggleable__label sk-toggleable__label-arrow\">random_forest: OneVsRestClassifier</label><div class=\"sk-toggleable__content\"><pre>OneVsRestClassifier(estimator=RandomForestClassifier(random_state=42))</pre></div></div></div><div class=\"sk-parallel\"><div class=\"sk-parallel-item\"><div class=\"sk-item\"><div class=\"sk-label-container\"><div class=\"sk-label sk-toggleable\"><input class=\"sk-toggleable__control sk-hidden--visually\" id=\"sk-estimator-id-12\" type=\"checkbox\" ><label for=\"sk-estimator-id-12\" class=\"sk-toggleable__label sk-toggleable__label-arrow\">estimator: RandomForestClassifier</label><div class=\"sk-toggleable__content\"><pre>RandomForestClassifier(random_state=42)</pre></div></div></div><div class=\"sk-serial\"><div class=\"sk-item\"><div class=\"sk-estimator sk-toggleable\"><input class=\"sk-toggleable__control sk-hidden--visually\" id=\"sk-estimator-id-13\" type=\"checkbox\" ><label for=\"sk-estimator-id-13\" class=\"sk-toggleable__label sk-toggleable__label-arrow\">RandomForestClassifier</label><div class=\"sk-toggleable__content\"><pre>RandomForestClassifier(random_state=42)</pre></div></div></div></div></div></div></div></div></div></div></div></div>"
      ],
      "text/plain": [
       "Pipeline(steps=[('scaler', StandardScaler()),\n",
       "                ('random_forest',\n",
       "                 OneVsRestClassifier(estimator=RandomForestClassifier(random_state=42)))])"
      ]
     },
     "execution_count": 28,
     "metadata": {},
     "output_type": "execute_result"
    }
   ],
   "source": [
    "from sklearn.ensemble import RandomForestClassifier\n",
    "from sklearn.pipeline import Pipeline\n",
    "from sklearn.preprocessing import StandardScaler\n",
    "from sklearn.model_selection import cross_val_score, cross_val_predict\n",
    "from sklearn.multiclass import OneVsRestClassifier\n",
    "\n",
    "forest_clf = Pipeline([\n",
    "    ('scaler', StandardScaler()),\n",
    "    ('random_forest', OneVsRestClassifier(RandomForestClassifier(random_state = 42)))\n",
    "])\n",
    "\n",
    "forest_clf.fit(X_train, y_train)"
   ]
  },
  {
   "cell_type": "code",
   "execution_count": 23,
   "id": "43a7f8d9-ec46-44ba-b12b-86947af93345",
   "metadata": {
    "tags": []
   },
   "outputs": [
    {
     "data": {
      "text/plain": [
       "array([0.95079065, 0.95268331, 0.94798217])"
      ]
     },
     "execution_count": 23,
     "metadata": {},
     "output_type": "execute_result"
    }
   ],
   "source": [
    "cross_val_score(forest_clf, X_train, y_train, cv = 3, scoring = 'accuracy')"
   ]
  },
  {
   "cell_type": "code",
   "execution_count": 24,
   "id": "6ede6ba0-07cf-4521-a630-9d846d33b54a",
   "metadata": {
    "tags": []
   },
   "outputs": [],
   "source": [
    "y_probas_forest = cross_val_predict(forest_clf, X_train, y_train, cv = 3,\n",
    "                                   method = \"predict_proba\")"
   ]
  },
  {
   "cell_type": "code",
   "execution_count": 25,
   "id": "539a64ef-d1f0-4582-a447-0ae905a5a5b1",
   "metadata": {
    "tags": []
   },
   "outputs": [
    {
     "data": {
      "text/plain": [
       "[array([[0.96, 0.04],\n",
       "        [0.06, 0.94],\n",
       "        [0.23, 0.77],\n",
       "        ...,\n",
       "        [0.84, 0.16],\n",
       "        [0.33, 0.67],\n",
       "        [0.3 , 0.7 ]]),\n",
       " array([[0.04, 0.96],\n",
       "        [0.94, 0.06],\n",
       "        [0.77, 0.23],\n",
       "        ...,\n",
       "        [0.16, 0.84],\n",
       "        [0.67, 0.33],\n",
       "        [0.7 , 0.3 ]]),\n",
       " array([[1., 0.],\n",
       "        [1., 0.],\n",
       "        [1., 0.],\n",
       "        ...,\n",
       "        [1., 0.],\n",
       "        [1., 0.],\n",
       "        [1., 0.]])]"
      ]
     },
     "execution_count": 25,
     "metadata": {},
     "output_type": "execute_result"
    }
   ],
   "source": [
    "y_probas_forest"
   ]
  },
  {
   "cell_type": "code",
   "execution_count": 26,
   "id": "79d1d172-5203-4986-ac7e-bb01455dc2ac",
   "metadata": {
    "tags": []
   },
   "outputs": [
    {
     "ename": "TypeError",
     "evalue": "list indices must be integers or slices, not tuple",
     "output_type": "error",
     "traceback": [
      "\u001b[1;31m---------------------------------------------------------------------------\u001b[0m",
      "\u001b[1;31mTypeError\u001b[0m                                 Traceback (most recent call last)",
      "Cell \u001b[1;32mIn[26], line 2\u001b[0m\n\u001b[0;32m      1\u001b[0m \u001b[38;5;28;01mfrom\u001b[39;00m \u001b[38;5;21;01msklearn\u001b[39;00m\u001b[38;5;21;01m.\u001b[39;00m\u001b[38;5;21;01mmetrics\u001b[39;00m \u001b[38;5;28;01mimport\u001b[39;00m roc_auc_score\n\u001b[1;32m----> 2\u001b[0m roc_auc_score(y_train, \u001b[43my_probas_forest\u001b[49m\u001b[43m[\u001b[49m\u001b[43m:\u001b[49m\u001b[43m,\u001b[49m\u001b[43m \u001b[49m\u001b[38;5;241;43m1\u001b[39;49m\u001b[43m]\u001b[49m)\n",
      "\u001b[1;31mTypeError\u001b[0m: list indices must be integers or slices, not tuple"
     ]
    }
   ],
   "source": [
    "from sklearn.metrics import roc_auc_score\n",
    "roc_auc_score(y_train, y_probas_forest[:, 1])"
   ]
  },
  {
   "cell_type": "code",
   "execution_count": null,
   "id": "85fc6b08-6738-4dea-8d54-30ea7d8021ab",
   "metadata": {
    "tags": []
   },
   "outputs": [],
   "source": [
    "from sklearn.metrics import recall_score, precision_score\n",
    "\n",
    "recall_score(y_probas_forest, y_train, average= \"weighted\")"
   ]
  },
  {
   "cell_type": "code",
   "execution_count": null,
   "id": "33686b22-f156-4f38-a640-a8e3896c169d",
   "metadata": {},
   "outputs": [],
   "source": []
  },
  {
   "cell_type": "code",
   "execution_count": null,
   "id": "8c322a38-3e4b-493a-b39b-e4e6e0a1f6b9",
   "metadata": {},
   "outputs": [],
   "source": []
  },
  {
   "cell_type": "code",
   "execution_count": null,
   "id": "2a68664b-fe28-4976-bf62-41a861337a6d",
   "metadata": {},
   "outputs": [],
   "source": []
  },
  {
   "cell_type": "code",
   "execution_count": null,
   "id": "0c3ffdd8-0957-4a28-bdb4-e944e3256d8d",
   "metadata": {},
   "outputs": [],
   "source": []
  }
 ],
 "metadata": {
  "kernelspec": {
   "display_name": "Python 3 (ipykernel)",
   "language": "python",
   "name": "python3"
  },
  "language_info": {
   "codemirror_mode": {
    "name": "ipython",
    "version": 3
   },
   "file_extension": ".py",
   "mimetype": "text/x-python",
   "name": "python",
   "nbconvert_exporter": "python",
   "pygments_lexer": "ipython3",
   "version": "3.10.13"
  }
 },
 "nbformat": 4,
 "nbformat_minor": 5
}
